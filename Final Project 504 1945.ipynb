{
 "cells": [
  {
   "cell_type": "code",
   "execution_count": 2,
   "id": "d34d871a",
   "metadata": {},
   "outputs": [],
   "source": [
    "import numpy as np\n",
    "import pandas as pd\n",
    "import os\n",
    "import matplotlib"
   ]
  },
  {
   "cell_type": "markdown",
   "id": "c37b1465",
   "metadata": {},
   "source": [
    "First clean run "
   ]
  },
  {
   "cell_type": "code",
   "execution_count": 125,
   "id": "3eb545f3",
   "metadata": {},
   "outputs": [],
   "source": [
    "PH_data = pd.read_csv(\"/Users/Blaven/Desktop/Final Project 504/pothole_requests_datasd_v1 (1).csv\")\n",
    "PH_data.head()"
   ]
  },
  {
   "cell_type": "code",
   "execution_count": 126,
   "id": "1ba21455",
   "metadata": {},
   "outputs": [],
   "source": [
    "PH_data.shape"
   ]
  },
  {
   "cell_type": "code",
   "execution_count": 127,
   "id": "7e46e57f",
   "metadata": {},
   "outputs": [],
   "source": [
    "list(PH_data.columns)"
   ]
  },
  {
   "cell_type": "code",
   "execution_count": null,
   "id": "70b503cf",
   "metadata": {},
   "outputs": [],
   "source": [
    "case_days=PH_data[\"case_age_days\"].dropna()\n",
    "case_days=case_days.abs()\n",
    "temp1=case_days.unique().tolist()"
   ]
  },
  {
   "cell_type": "code",
   "execution_count": null,
   "id": "0b96fb84",
   "metadata": {},
   "outputs": [],
   "source": [
    "case_days.shape"
   ]
  },
  {
   "cell_type": "code",
   "execution_count": null,
   "id": "117df0b7",
   "metadata": {},
   "outputs": [],
   "source": [
    "max(temp1)"
   ]
  },
  {
   "cell_type": "code",
   "execution_count": null,
   "id": "17669f3c",
   "metadata": {},
   "outputs": [],
   "source": [
    "min(temp1)"
   ]
  },
  {
   "cell_type": "code",
   "execution_count": null,
   "id": "3173a115",
   "metadata": {},
   "outputs": [],
   "source": [
    "import matplotlib.pyplot as plt\n",
    "case_days.hist(bins=100)"
   ]
  },
  {
   "cell_type": "code",
   "execution_count": null,
   "id": "db1a0a0d",
   "metadata": {},
   "outputs": [],
   "source": [
    "84791-83463"
   ]
  },
  {
   "cell_type": "code",
   "execution_count": null,
   "id": "d656cb48",
   "metadata": {},
   "outputs": [
    {
     "data": {
      "text/plain": [
       "(84791, 7)"
      ]
     },
     "execution_count": 4,
     "metadata": {},
     "output_type": "execute_result"
    }
   ],
   "source": [
    "N_Var= PH_data[[\"service_request_id\",\"case_age_days\",\"status\",\"case_record_type\",\"comm_plan_name\",\"case_origin\",\"public_description\"]]\n",
    "N_Var.shape"
   ]
  },
  {
   "cell_type": "code",
   "execution_count": null,
   "id": "2fc7e35d",
   "metadata": {},
   "outputs": [
    {
     "data": {
      "text/plain": [
       "(84533,)"
      ]
     },
     "execution_count": 4,
     "metadata": {},
     "output_type": "execute_result"
    }
   ],
   "source": [
    "store2=PH_data[\"comm_plan_name\"].dropna()\n",
    "store2.shape"
   ]
  },
  {
   "cell_type": "code",
   "execution_count": null,
   "id": "e6a181e9",
   "metadata": {},
   "outputs": [
    {
     "data": {
      "text/plain": [
       "(75400, 7)"
      ]
     },
     "execution_count": 5,
     "metadata": {},
     "output_type": "execute_result"
    }
   ],
   "source": [
    "N_Var=N_Var.dropna()\n",
    "N_Var.shape"
   ]
  },
  {
   "cell_type": "code",
   "execution_count": null,
   "id": "acc5dcd4",
   "metadata": {},
   "outputs": [],
   "source": [
    "discard = [\"test\"]\n",
    "\n",
    "N_Var2=N_Var[~N_Var.public_description.str.contains('|'.join(discard))]\n",
    "N_Var3=N_Var2[~N_Var2.public_description.str.contains(\"Test\")]\n",
    "N_Var4=N_Var3[~N_Var3.public_description.str.contains(\"TEST\")]"
   ]
  },
  {
   "cell_type": "code",
   "execution_count": null,
   "id": "43950a49",
   "metadata": {},
   "outputs": [
    {
     "data": {
      "text/plain": [
       "(75240, 7)"
      ]
     },
     "execution_count": 7,
     "metadata": {},
     "output_type": "execute_result"
    }
   ],
   "source": [
    "N_Var4.shape\n",
    "#76892"
   ]
  },
  {
   "cell_type": "code",
   "execution_count": null,
   "id": "e133b146",
   "metadata": {},
   "outputs": [
    {
     "name": "stderr",
     "output_type": "stream",
     "text": [
      "<ipython-input-8-5adb02b2b196>:1: SettingWithCopyWarning: \n",
      "A value is trying to be set on a copy of a slice from a DataFrame.\n",
      "Try using .loc[row_indexer,col_indexer] = value instead\n",
      "\n",
      "See the caveats in the documentation: https://pandas.pydata.org/pandas-docs/stable/user_guide/indexing.html#returning-a-view-versus-a-copy\n",
      "  N_Var4[\"case_age_days\"]=abs(N_Var4[\"case_age_days\"])\n"
     ]
    },
    {
     "data": {
      "text/plain": [
       "(75240, 7)"
      ]
     },
     "execution_count": 8,
     "metadata": {},
     "output_type": "execute_result"
    }
   ],
   "source": [
    "N_Var4[\"case_age_days\"]=abs(N_Var4[\"case_age_days\"])\n",
    "N_Var4.shape"
   ]
  },
  {
   "cell_type": "code",
   "execution_count": null,
   "id": "c9ea233b",
   "metadata": {},
   "outputs": [],
   "source": [
    "N_Var4.to_csv('/Users/Blaven/Desktop/temp3.csv', index=False)"
   ]
  },
  {
   "cell_type": "code",
   "execution_count": null,
   "id": "69bc74d3",
   "metadata": {},
   "outputs": [
    {
     "data": {
      "text/html": [
       "<div>\n",
       "<style scoped>\n",
       "    .dataframe tbody tr th:only-of-type {\n",
       "        vertical-align: middle;\n",
       "    }\n",
       "\n",
       "    .dataframe tbody tr th {\n",
       "        vertical-align: top;\n",
       "    }\n",
       "\n",
       "    .dataframe thead th {\n",
       "        text-align: right;\n",
       "    }\n",
       "</style>\n",
       "<table border=\"1\" class=\"dataframe\">\n",
       "  <thead>\n",
       "    <tr style=\"text-align: right;\">\n",
       "      <th></th>\n",
       "      <th>service_request_id</th>\n",
       "      <th>case_age_days</th>\n",
       "      <th>status</th>\n",
       "      <th>case_record_type</th>\n",
       "      <th>comm_plan_name</th>\n",
       "      <th>case_origin</th>\n",
       "      <th>public_description</th>\n",
       "    </tr>\n",
       "  </thead>\n",
       "  <tbody>\n",
       "    <tr>\n",
       "      <th>2</th>\n",
       "      <td>80518</td>\n",
       "      <td>18.0</td>\n",
       "      <td>Closed</td>\n",
       "      <td>TSW</td>\n",
       "      <td>Mid-City:Kensington-Talmadge</td>\n",
       "      <td>Phone</td>\n",
       "      <td>4000 block of copeland just before you get on ...</td>\n",
       "    </tr>\n",
       "    <tr>\n",
       "      <th>3</th>\n",
       "      <td>80531</td>\n",
       "      <td>5.0</td>\n",
       "      <td>Closed</td>\n",
       "      <td>TSW</td>\n",
       "      <td>Torrey Pines</td>\n",
       "      <td>Phone</td>\n",
       "      <td>LARGE P/H CAUSED VEHICLE DAMAGE</td>\n",
       "    </tr>\n",
       "    <tr>\n",
       "      <th>5</th>\n",
       "      <td>80543</td>\n",
       "      <td>31.0</td>\n",
       "      <td>Closed</td>\n",
       "      <td>TSW</td>\n",
       "      <td>Pacific Beach</td>\n",
       "      <td>Phone</td>\n",
       "      <td>Caller reports cracks and potholes in alley</td>\n",
       "    </tr>\n",
       "    <tr>\n",
       "      <th>6</th>\n",
       "      <td>80547</td>\n",
       "      <td>344.0</td>\n",
       "      <td>Closed</td>\n",
       "      <td>TSW</td>\n",
       "      <td>Clairemont Mesa</td>\n",
       "      <td>Phone</td>\n",
       "      <td>Pothole in left turn lane going toward school</td>\n",
       "    </tr>\n",
       "    <tr>\n",
       "      <th>8</th>\n",
       "      <td>80577</td>\n",
       "      <td>34.0</td>\n",
       "      <td>Closed</td>\n",
       "      <td>TSW</td>\n",
       "      <td>San Pasqual</td>\n",
       "      <td>Phone</td>\n",
       "      <td>POTHOLE</td>\n",
       "    </tr>\n",
       "    <tr>\n",
       "      <th>...</th>\n",
       "      <td>...</td>\n",
       "      <td>...</td>\n",
       "      <td>...</td>\n",
       "      <td>...</td>\n",
       "      <td>...</td>\n",
       "      <td>...</td>\n",
       "      <td>...</td>\n",
       "    </tr>\n",
       "    <tr>\n",
       "      <th>84786</th>\n",
       "      <td>3437781</td>\n",
       "      <td>1.0</td>\n",
       "      <td>New</td>\n",
       "      <td>TSW</td>\n",
       "      <td>La Jolla</td>\n",
       "      <td>Web</td>\n",
       "      <td>From Via Avola to Hidden Valley (going down th...</td>\n",
       "    </tr>\n",
       "    <tr>\n",
       "      <th>84787</th>\n",
       "      <td>3437850</td>\n",
       "      <td>1.0</td>\n",
       "      <td>In Process</td>\n",
       "      <td>TSW</td>\n",
       "      <td>Clairemont Mesa</td>\n",
       "      <td>Phone</td>\n",
       "      <td>S/B GENESEE RIGHT BEFORE THE 52 ON RAMP- POTHO...</td>\n",
       "    </tr>\n",
       "    <tr>\n",
       "      <th>84788</th>\n",
       "      <td>3437886</td>\n",
       "      <td>1.0</td>\n",
       "      <td>In Process</td>\n",
       "      <td>TSW</td>\n",
       "      <td>Mid-City:Eastern Area</td>\n",
       "      <td>Web</td>\n",
       "      <td>There needs to be street resurfacing done to t...</td>\n",
       "    </tr>\n",
       "    <tr>\n",
       "      <th>84789</th>\n",
       "      <td>3437965</td>\n",
       "      <td>1.0</td>\n",
       "      <td>In Process</td>\n",
       "      <td>TSW</td>\n",
       "      <td>Uptown</td>\n",
       "      <td>Mobile</td>\n",
       "      <td>Severe pothole at street and garage entrance o...</td>\n",
       "    </tr>\n",
       "    <tr>\n",
       "      <th>84790</th>\n",
       "      <td>3437976</td>\n",
       "      <td>1.0</td>\n",
       "      <td>In Process</td>\n",
       "      <td>TSW</td>\n",
       "      <td>Downtown</td>\n",
       "      <td>Mobile</td>\n",
       "      <td>Pot hole whole street is messed up</td>\n",
       "    </tr>\n",
       "  </tbody>\n",
       "</table>\n",
       "<p>75240 rows × 7 columns</p>\n",
       "</div>"
      ],
      "text/plain": [
       "       service_request_id  case_age_days      status case_record_type  \\\n",
       "2                   80518           18.0      Closed              TSW   \n",
       "3                   80531            5.0      Closed              TSW   \n",
       "5                   80543           31.0      Closed              TSW   \n",
       "6                   80547          344.0      Closed              TSW   \n",
       "8                   80577           34.0      Closed              TSW   \n",
       "...                   ...            ...         ...              ...   \n",
       "84786             3437781            1.0         New              TSW   \n",
       "84787             3437850            1.0  In Process              TSW   \n",
       "84788             3437886            1.0  In Process              TSW   \n",
       "84789             3437965            1.0  In Process              TSW   \n",
       "84790             3437976            1.0  In Process              TSW   \n",
       "\n",
       "                     comm_plan_name case_origin  \\\n",
       "2      Mid-City:Kensington-Talmadge       Phone   \n",
       "3                      Torrey Pines       Phone   \n",
       "5                     Pacific Beach       Phone   \n",
       "6                   Clairemont Mesa       Phone   \n",
       "8                       San Pasqual       Phone   \n",
       "...                             ...         ...   \n",
       "84786                      La Jolla         Web   \n",
       "84787               Clairemont Mesa       Phone   \n",
       "84788         Mid-City:Eastern Area         Web   \n",
       "84789                        Uptown      Mobile   \n",
       "84790                      Downtown      Mobile   \n",
       "\n",
       "                                      public_description  \n",
       "2      4000 block of copeland just before you get on ...  \n",
       "3                        LARGE P/H CAUSED VEHICLE DAMAGE  \n",
       "5            Caller reports cracks and potholes in alley  \n",
       "6          Pothole in left turn lane going toward school  \n",
       "8                                                POTHOLE  \n",
       "...                                                  ...  \n",
       "84786  From Via Avola to Hidden Valley (going down th...  \n",
       "84787  S/B GENESEE RIGHT BEFORE THE 52 ON RAMP- POTHO...  \n",
       "84788  There needs to be street resurfacing done to t...  \n",
       "84789  Severe pothole at street and garage entrance o...  \n",
       "84790                 Pot hole whole street is messed up  \n",
       "\n",
       "[75240 rows x 7 columns]"
      ]
     },
     "execution_count": 13,
     "metadata": {},
     "output_type": "execute_result"
    }
   ],
   "source": [
    "N_Var4.drop_duplicates()\n"
   ]
  },
  {
   "cell_type": "markdown",
   "id": "4413234d",
   "metadata": {},
   "source": [
    "EDA"
   ]
  },
  {
   "cell_type": "code",
   "execution_count": 3,
   "id": "c381335e",
   "metadata": {},
   "outputs": [
    {
     "data": {
      "text/html": [
       "<div>\n",
       "<style scoped>\n",
       "    .dataframe tbody tr th:only-of-type {\n",
       "        vertical-align: middle;\n",
       "    }\n",
       "\n",
       "    .dataframe tbody tr th {\n",
       "        vertical-align: top;\n",
       "    }\n",
       "\n",
       "    .dataframe thead th {\n",
       "        text-align: right;\n",
       "    }\n",
       "</style>\n",
       "<table border=\"1\" class=\"dataframe\">\n",
       "  <thead>\n",
       "    <tr style=\"text-align: right;\">\n",
       "      <th></th>\n",
       "      <th>service_request_id</th>\n",
       "      <th>case_age_days</th>\n",
       "      <th>status</th>\n",
       "      <th>case_record_type</th>\n",
       "      <th>comm_plan_name</th>\n",
       "      <th>case_origin</th>\n",
       "      <th>public_description</th>\n",
       "    </tr>\n",
       "  </thead>\n",
       "  <tbody>\n",
       "    <tr>\n",
       "      <th>0</th>\n",
       "      <td>80518</td>\n",
       "      <td>18</td>\n",
       "      <td>Closed</td>\n",
       "      <td>TSW</td>\n",
       "      <td>Mid-City:Kensington-Talmadge</td>\n",
       "      <td>Phone</td>\n",
       "      <td>4000 block of copeland just before you get on ...</td>\n",
       "    </tr>\n",
       "    <tr>\n",
       "      <th>1</th>\n",
       "      <td>80531</td>\n",
       "      <td>5</td>\n",
       "      <td>Closed</td>\n",
       "      <td>TSW</td>\n",
       "      <td>Torrey Pines</td>\n",
       "      <td>Phone</td>\n",
       "      <td>LARGE P/H CAUSED VEHICLE DAMAGE</td>\n",
       "    </tr>\n",
       "    <tr>\n",
       "      <th>2</th>\n",
       "      <td>80543</td>\n",
       "      <td>31</td>\n",
       "      <td>Closed</td>\n",
       "      <td>TSW</td>\n",
       "      <td>Pacific Beach</td>\n",
       "      <td>Phone</td>\n",
       "      <td>Caller reports cracks and potholes in alley</td>\n",
       "    </tr>\n",
       "    <tr>\n",
       "      <th>3</th>\n",
       "      <td>80547</td>\n",
       "      <td>344</td>\n",
       "      <td>Closed</td>\n",
       "      <td>TSW</td>\n",
       "      <td>Clairemont Mesa</td>\n",
       "      <td>Phone</td>\n",
       "      <td>Pothole in left turn lane going toward school</td>\n",
       "    </tr>\n",
       "    <tr>\n",
       "      <th>4</th>\n",
       "      <td>80577</td>\n",
       "      <td>34</td>\n",
       "      <td>Closed</td>\n",
       "      <td>TSW</td>\n",
       "      <td>San Pasqual</td>\n",
       "      <td>Phone</td>\n",
       "      <td>POTHOLE</td>\n",
       "    </tr>\n",
       "  </tbody>\n",
       "</table>\n",
       "</div>"
      ],
      "text/plain": [
       "   service_request_id  case_age_days  status case_record_type  \\\n",
       "0               80518             18  Closed              TSW   \n",
       "1               80531              5  Closed              TSW   \n",
       "2               80543             31  Closed              TSW   \n",
       "3               80547            344  Closed              TSW   \n",
       "4               80577             34  Closed              TSW   \n",
       "\n",
       "                 comm_plan_name case_origin  \\\n",
       "0  Mid-City:Kensington-Talmadge       Phone   \n",
       "1                  Torrey Pines       Phone   \n",
       "2                 Pacific Beach       Phone   \n",
       "3               Clairemont Mesa       Phone   \n",
       "4                   San Pasqual       Phone   \n",
       "\n",
       "                                  public_description  \n",
       "0  4000 block of copeland just before you get on ...  \n",
       "1                    LARGE P/H CAUSED VEHICLE DAMAGE  \n",
       "2        Caller reports cracks and potholes in alley  \n",
       "3      Pothole in left turn lane going toward school  \n",
       "4                                            POTHOLE  "
      ]
     },
     "execution_count": 3,
     "metadata": {},
     "output_type": "execute_result"
    }
   ],
   "source": [
    "PH_data = pd.read_csv(\"/Users/georgegarcia/Desktop/504/final project/504_final-/temp3.csv\")\n",
    "PH_data.head()\n"
   ]
  },
  {
   "cell_type": "code",
   "execution_count": 4,
   "id": "0586d033",
   "metadata": {},
   "outputs": [
    {
     "data": {
      "text/plain": [
       "(75240, 7)"
      ]
     },
     "execution_count": 4,
     "metadata": {},
     "output_type": "execute_result"
    }
   ],
   "source": [
    "PH_data.shape"
   ]
  },
  {
   "cell_type": "code",
   "execution_count": 5,
   "id": "e7efd1e9",
   "metadata": {},
   "outputs": [
    {
     "data": {
      "image/png": "[encoded data removed]",
      "text/plain": [
       "<Figure size 432x288 with 1 Axes>"
      ]
     },
     "metadata": {
      "needs_background": "light"
     },
     "output_type": "display_data"
    }
   ],
   "source": [
    "import matplotlib.pyplot as plt\n",
    "PH_data.case_age_days.hist(bins=50,edgecolor = 'black')\n",
    "plt.ylabel(\"Number of entries\")\n",
    "plt.xlabel(\"Number of Days\")\n",
    "plt.title(\"Responce to ticket\")\n",
    "plt.show()\n",
    "# very right skewed will have to normalize the data"
   ]
  },
  {
   "cell_type": "code",
   "execution_count": null,
   "id": "801495c1",
   "metadata": {},
   "outputs": [
    {
     "data": {
      "image/png": "[encoded data removed]",
      "text/plain": [
       "<Figure size 576x396 with 1 Axes>"
      ]
     },
     "metadata": {
      "needs_background": "light"
     },
     "output_type": "display_data"
    }
   ],
   "source": [
    "plt.rcParams[\"figure.figsize\"] = (8,5.5)\n",
    "PH_data.comm_plan_name.hist(edgecolor = 'black')\n",
    "plt.xticks(rotation='vertical')\n",
    "plt.ylabel(\"Number of Reports\")\n",
    "plt.xlabel(\"County names\")\n",
    "plt.title(\"Total Responce to Server\")\n",
    "plt.show()"
   ]
  },
  {
   "cell_type": "code",
   "execution_count": 5,
   "id": "31dea1f8",
   "metadata": {},
   "outputs": [
    {
     "data": {
      "text/plain": [
       "<AxesSubplot:title={'center':'Device Report'}, xlabel='Type of Device ', ylabel='Number of Reports by Device'>"
      ]
     },
     "execution_count": 5,
     "metadata": {},
     "output_type": "execute_result"
    },
    {
     "data": {
      "image/png": "[encoded data removed]",
      "text/plain": [
       "<Figure size 2160x396 with 1 Axes>"
      ]
     },
     "metadata": {
      "needs_background": "light"
     },
     "output_type": "display_data"
    }
   ],
   "source": [
    "plt.rcParams[\"figure.figsize\"] = (30,5.5)\n",
    "plt.ylabel(\"Number of Reports by Device\")\n",
    "plt.xlabel(\"Type of Device \")\n",
    "plt.title(\"Device Report\")\n",
    "PH_data.case_origin.hist(edgecolor = 'black')"
   ]
  },
  {
   "cell_type": "code",
   "execution_count": null,
   "id": "aca8f429",
   "metadata": {},
   "outputs": [
    {
     "data": {
      "text/plain": [
       "Text(0.5, 1.0, 'Responsibility of Reporting to Pothole')"
      ]
     },
     "execution_count": 44,
     "metadata": {},
     "output_type": "execute_result"
    },
    {
     "data": {
      "image/png": "[encoded data removed]",
      "text/plain": [
       "<Figure size 720x396 with 1 Axes>"
      ]
     },
     "metadata": {
      "needs_background": "light"
     },
     "output_type": "display_data"
    }
   ],
   "source": [
    "plt.rcParams[\"figure.figsize\"] = (10,5.5)\n",
    "PH_data.case_record_type.hist(edgecolor = 'black')\n",
    "plt.ylabel(\"Ticket assigned to Department\")\n",
    "plt.xlabel(\"Department \")\n",
    "plt.title(\"Responsibility of Reporting to Pothole\")\n",
    "# TSW has a heavy influence than the others that you cant see the values\n",
    "# down scale after test split"
   ]
  },
  {
   "cell_type": "code",
   "execution_count": 6,
   "id": "45f05a6f",
   "metadata": {},
   "outputs": [
    {
     "data": {
      "text/plain": [
       "TSW                             75223\n",
       "Traffic Engineering                11\n",
       "Storm Water Code Enforcement        5\n",
       "ESD Complaint/Report                1\n",
       "Name: case_record_type, dtype: int64"
      ]
     },
     "execution_count": 6,
     "metadata": {},
     "output_type": "execute_result"
    }
   ],
   "source": [
    "PH_data[\"case_record_type\"].value_counts()"
   ]
  },
  {
   "cell_type": "code",
   "execution_count": 7,
   "id": "19284f29",
   "metadata": {},
   "outputs": [
    {
     "data": {
      "text/plain": [
       "<AxesSubplot:title={'center':'Cases Status'}, xlabel='Status ', ylabel='Number of tickets'>"
      ]
     },
     "execution_count": 7,
     "metadata": {},
     "output_type": "execute_result"
    },
    {
     "data": {
      "image/png": "[encoded data removed]",
      "text/plain": [
       "<Figure size 720x396 with 1 Axes>"
      ]
     },
     "metadata": {
      "needs_background": "light"
     },
     "output_type": "display_data"
    }
   ],
   "source": [
    "plt.rcParams[\"figure.figsize\"] = (10,5.5)\n",
    "plt.ylabel(\"Number of tickets\")\n",
    "plt.xlabel(\"Status \")\n",
    "plt.title(\"Cases Status\")\n",
    "PH_data.status.hist(edgecolor = 'black')\n",
    "# down scale the Closed after test split"
   ]
  },
  {
   "cell_type": "code",
   "execution_count": 8,
   "id": "a1ca64c7",
   "metadata": {},
   "outputs": [
    {
     "data": {
      "text/plain": [
       "Closed        73042\n",
       "In Process     1245\n",
       "Referred        950\n",
       "New               3\n",
       "Name: status, dtype: int64"
      ]
     },
     "execution_count": 8,
     "metadata": {},
     "output_type": "execute_result"
    }
   ],
   "source": [
    "PH_data[\"status\"].value_counts()"
   ]
  },
  {
   "cell_type": "code",
   "execution_count": 9,
   "id": "e98168f3",
   "metadata": {},
   "outputs": [
    {
     "data": {
      "image/png": "[encoded data removed]",
      "text/plain": [
       "<Figure size 720x504 with 1 Axes>"
      ]
     },
     "metadata": {
      "needs_background": "light"
     },
     "output_type": "display_data"
    }
   ],
   "source": [
    "import matplotlib.pyplot as plt\n",
    "import numpy as np\n",
    " \n",
    " \n",
    "# Creating dataset\n",
    " \n",
    "fig = plt.figure(figsize =(10, 7))\n",
    " \n",
    "# Creating plot\n",
    "plt.boxplot(PH_data.case_age_days)\n",
    " \n",
    "# show plot\n",
    "plt.show()\n",
    "\n",
    "# probally redoit after normalize"
   ]
  },
  {
   "cell_type": "code",
   "execution_count": null,
   "id": "f67f32a8",
   "metadata": {},
   "outputs": [
    {
     "data": {
      "text/plain": [
       "[0.0, 60.0]"
      ]
     },
     "execution_count": 49,
     "metadata": {},
     "output_type": "execute_result"
    },
    {
     "data": {
      "image/png": "[encoded data removed]",
      "text/plain": [
       "<Figure size 720x396 with 1 Axes>"
      ]
     },
     "metadata": {
      "needs_background": "light"
     },
     "output_type": "display_data"
    }
   ],
   "source": [
    "B = plt.boxplot(PH_data.case_age_days)\n",
    "[item.get_ydata()[1] for item in B['whiskers']]\n",
    "# dropping the outlier that is outside of 60 day mark"
   ]
  },
  {
   "cell_type": "code",
   "execution_count": 10,
   "id": "63378bd3",
   "metadata": {},
   "outputs": [
    {
     "data": {
      "text/plain": [
       "(67245, 7)"
      ]
     },
     "execution_count": 10,
     "metadata": {},
     "output_type": "execute_result"
    }
   ],
   "source": [
    "df_filtered = PH_data[PH_data['case_age_days'] < 61]\n",
    "  \n",
    "  \n",
    "# Print the shape of the dataframe\n",
    "df_filtered.shape"
   ]
  },
  {
   "cell_type": "code",
   "execution_count": 11,
   "id": "9255b71f",
   "metadata": {},
   "outputs": [
    {
     "data": {
      "text/html": [
       "<div>\n",
       "<style scoped>\n",
       "    .dataframe tbody tr th:only-of-type {\n",
       "        vertical-align: middle;\n",
       "    }\n",
       "\n",
       "    .dataframe tbody tr th {\n",
       "        vertical-align: top;\n",
       "    }\n",
       "\n",
       "    .dataframe thead th {\n",
       "        text-align: right;\n",
       "    }\n",
       "</style>\n",
       "<table border=\"1\" class=\"dataframe\">\n",
       "  <thead>\n",
       "    <tr style=\"text-align: right;\">\n",
       "      <th></th>\n",
       "      <th>service_request_id</th>\n",
       "      <th>case_age_days</th>\n",
       "      <th>status</th>\n",
       "      <th>case_record_type</th>\n",
       "      <th>comm_plan_name</th>\n",
       "      <th>case_origin</th>\n",
       "      <th>public_description</th>\n",
       "    </tr>\n",
       "  </thead>\n",
       "  <tbody>\n",
       "    <tr>\n",
       "      <th>0</th>\n",
       "      <td>80518</td>\n",
       "      <td>18</td>\n",
       "      <td>Closed</td>\n",
       "      <td>TSW</td>\n",
       "      <td>Mid-City:Kensington-Talmadge</td>\n",
       "      <td>Phone</td>\n",
       "      <td>4000 block of copeland just before you get on ...</td>\n",
       "    </tr>\n",
       "    <tr>\n",
       "      <th>1</th>\n",
       "      <td>80531</td>\n",
       "      <td>5</td>\n",
       "      <td>Closed</td>\n",
       "      <td>TSW</td>\n",
       "      <td>Torrey Pines</td>\n",
       "      <td>Phone</td>\n",
       "      <td>LARGE P/H CAUSED VEHICLE DAMAGE</td>\n",
       "    </tr>\n",
       "    <tr>\n",
       "      <th>2</th>\n",
       "      <td>80543</td>\n",
       "      <td>31</td>\n",
       "      <td>Closed</td>\n",
       "      <td>TSW</td>\n",
       "      <td>Pacific Beach</td>\n",
       "      <td>Phone</td>\n",
       "      <td>Caller reports cracks and potholes in alley</td>\n",
       "    </tr>\n",
       "    <tr>\n",
       "      <th>4</th>\n",
       "      <td>80577</td>\n",
       "      <td>34</td>\n",
       "      <td>Closed</td>\n",
       "      <td>TSW</td>\n",
       "      <td>San Pasqual</td>\n",
       "      <td>Phone</td>\n",
       "      <td>POTHOLE</td>\n",
       "    </tr>\n",
       "    <tr>\n",
       "      <th>5</th>\n",
       "      <td>80582</td>\n",
       "      <td>6</td>\n",
       "      <td>Closed</td>\n",
       "      <td>TSW</td>\n",
       "      <td>Mira Mesa</td>\n",
       "      <td>Web</td>\n",
       "      <td>Road damage that needsTo be repaired</td>\n",
       "    </tr>\n",
       "    <tr>\n",
       "      <th>6</th>\n",
       "      <td>80838</td>\n",
       "      <td>17</td>\n",
       "      <td>Closed</td>\n",
       "      <td>TSW</td>\n",
       "      <td>Pacific Beach</td>\n",
       "      <td>Web</td>\n",
       "      <td>Substantial pothole on westbound Grand Ave, in...</td>\n",
       "    </tr>\n",
       "    <tr>\n",
       "      <th>7</th>\n",
       "      <td>80844</td>\n",
       "      <td>12</td>\n",
       "      <td>Closed</td>\n",
       "      <td>TSW</td>\n",
       "      <td>University</td>\n",
       "      <td>Web</td>\n",
       "      <td>Pothole in street</td>\n",
       "    </tr>\n",
       "    <tr>\n",
       "      <th>8</th>\n",
       "      <td>80848</td>\n",
       "      <td>5</td>\n",
       "      <td>Closed</td>\n",
       "      <td>TSW</td>\n",
       "      <td>Clairemont Mesa</td>\n",
       "      <td>Web</td>\n",
       "      <td>on corner of appleton and genesee</td>\n",
       "    </tr>\n",
       "    <tr>\n",
       "      <th>10</th>\n",
       "      <td>80892</td>\n",
       "      <td>12</td>\n",
       "      <td>Closed</td>\n",
       "      <td>TSW</td>\n",
       "      <td>Sabre Springs</td>\n",
       "      <td>Web</td>\n",
       "      <td>Numerous potholes in pavement both westbound a...</td>\n",
       "    </tr>\n",
       "    <tr>\n",
       "      <th>11</th>\n",
       "      <td>80895</td>\n",
       "      <td>12</td>\n",
       "      <td>Closed</td>\n",
       "      <td>TSW</td>\n",
       "      <td>Sabre Springs</td>\n",
       "      <td>Web</td>\n",
       "      <td>many bad potholes SB Sabre Springs between Pow...</td>\n",
       "    </tr>\n",
       "  </tbody>\n",
       "</table>\n",
       "</div>"
      ],
      "text/plain": [
       "    service_request_id  case_age_days  status case_record_type  \\\n",
       "0                80518             18  Closed              TSW   \n",
       "1                80531              5  Closed              TSW   \n",
       "2                80543             31  Closed              TSW   \n",
       "4                80577             34  Closed              TSW   \n",
       "5                80582              6  Closed              TSW   \n",
       "6                80838             17  Closed              TSW   \n",
       "7                80844             12  Closed              TSW   \n",
       "8                80848              5  Closed              TSW   \n",
       "10               80892             12  Closed              TSW   \n",
       "11               80895             12  Closed              TSW   \n",
       "\n",
       "                  comm_plan_name case_origin  \\\n",
       "0   Mid-City:Kensington-Talmadge       Phone   \n",
       "1                   Torrey Pines       Phone   \n",
       "2                  Pacific Beach       Phone   \n",
       "4                    San Pasqual       Phone   \n",
       "5                      Mira Mesa         Web   \n",
       "6                  Pacific Beach         Web   \n",
       "7                     University         Web   \n",
       "8                Clairemont Mesa         Web   \n",
       "10                 Sabre Springs         Web   \n",
       "11                 Sabre Springs         Web   \n",
       "\n",
       "                                   public_description  \n",
       "0   4000 block of copeland just before you get on ...  \n",
       "1                     LARGE P/H CAUSED VEHICLE DAMAGE  \n",
       "2         Caller reports cracks and potholes in alley  \n",
       "4                                             POTHOLE  \n",
       "5                Road damage that needsTo be repaired  \n",
       "6   Substantial pothole on westbound Grand Ave, in...  \n",
       "7                                   Pothole in street  \n",
       "8                   on corner of appleton and genesee  \n",
       "10  Numerous potholes in pavement both westbound a...  \n",
       "11  many bad potholes SB Sabre Springs between Pow...  "
      ]
     },
     "execution_count": 11,
     "metadata": {},
     "output_type": "execute_result"
    }
   ],
   "source": [
    "df_filtered.head(10)"
   ]
  },
  {
   "cell_type": "code",
   "execution_count": 155,
   "id": "704ea2bc",
   "metadata": {},
   "outputs": [
    {
     "data": {
      "text/plain": [
       "<bound method Series.unique of 0        TSW\n",
       "1        TSW\n",
       "2        TSW\n",
       "4        TSW\n",
       "5        TSW\n",
       "        ... \n",
       "75235    TSW\n",
       "75236    TSW\n",
       "75237    TSW\n",
       "75238    TSW\n",
       "75239    TSW\n",
       "Name: case_record_type, Length: 67245, dtype: object>"
      ]
     },
     "execution_count": 155,
     "metadata": {},
     "output_type": "execute_result"
    }
   ],
   "source": [
    "df_filtered['case_record_type'].unique\n"
   ]
  },
  {
   "cell_type": "code",
   "execution_count": 156,
   "id": "3acb860f",
   "metadata": {},
   "outputs": [
    {
     "data": {
      "text/plain": [
       "1     4720\n",
       "2     3958\n",
       "3     3531\n",
       "4     3463\n",
       "5     3372\n",
       "      ... \n",
       "54     186\n",
       "57     167\n",
       "60     150\n",
       "58     133\n",
       "59     121\n",
       "Name: case_age_days, Length: 61, dtype: int64"
      ]
     },
     "execution_count": 156,
     "metadata": {},
     "output_type": "execute_result"
    }
   ],
   "source": [
    "df_filtered.case_age_days.value_counts()"
   ]
  },
  {
   "cell_type": "code",
   "execution_count": 12,
   "id": "fa5aa240",
   "metadata": {},
   "outputs": [],
   "source": [
    "df_filtered.describe()\n",
    "temp4=df_filtered"
   ]
  },
  {
   "cell_type": "code",
   "execution_count": 13,
   "id": "97da5975",
   "metadata": {},
   "outputs": [
    {
     "name": "stderr",
     "output_type": "stream",
     "text": [
      "/Users/georgegarcia/Library/Python/3.9/lib/python/site-packages/pandas/core/frame.py:3607: SettingWithCopyWarning: \n",
      "A value is trying to be set on a copy of a slice from a DataFrame.\n",
      "Try using .loc[row_indexer,col_indexer] = value instead\n",
      "\n",
      "See the caveats in the documentation: https://pandas.pydata.org/pandas-docs/stable/user_guide/indexing.html#returning-a-view-versus-a-copy\n",
      "  self._set_item(key, value)\n"
     ]
    }
   ],
   "source": [
    "temp4[\"case_record_type\"]=temp4[\"case_record_type\"].str.replace('ESD Complaint/Report','Specialty')\n",
    "temp4[\"case_record_type\"]=temp4[\"case_record_type\"].str.replace('Traffic Engineering','Specialty')\n",
    "temp4[\"case_record_type\"]=temp4[\"case_record_type\"].str.replace('Storm Water Code Enforcement','Specialty')"
   ]
  },
  {
   "cell_type": "code",
   "execution_count": 159,
   "id": "09360dab",
   "metadata": {},
   "outputs": [
    {
     "data": {
      "text/plain": [
       "array(['Closed', 'Referred', 'In Process', 'New'], dtype=object)"
      ]
     },
     "execution_count": 159,
     "metadata": {},
     "output_type": "execute_result"
    }
   ],
   "source": [
    "pd.unique(temp4[\"status\"])"
   ]
  },
  {
   "cell_type": "code",
   "execution_count": 14,
   "id": "f18e7f2c",
   "metadata": {},
   "outputs": [],
   "source": [
    "temp4[\"status\"]=temp4[\"status\"].str.replace('New','Open')\n",
    "temp4[\"status\"]=temp4[\"status\"].str.replace('Referred','Open')\n",
    "temp4[\"status\"]=temp4[\"status\"].str.replace('In Process','Open')"
   ]
  },
  {
   "cell_type": "code",
   "execution_count": 15,
   "id": "901b795c",
   "metadata": {},
   "outputs": [
    {
     "data": {
      "text/html": [
       "<div>\n",
       "<style scoped>\n",
       "    .dataframe tbody tr th:only-of-type {\n",
       "        vertical-align: middle;\n",
       "    }\n",
       "\n",
       "    .dataframe tbody tr th {\n",
       "        vertical-align: top;\n",
       "    }\n",
       "\n",
       "    .dataframe thead th {\n",
       "        text-align: right;\n",
       "    }\n",
       "</style>\n",
       "<table border=\"1\" class=\"dataframe\">\n",
       "  <thead>\n",
       "    <tr style=\"text-align: right;\">\n",
       "      <th></th>\n",
       "      <th>service_request_id</th>\n",
       "      <th>case_age_days</th>\n",
       "      <th>status</th>\n",
       "      <th>case_record_type</th>\n",
       "      <th>comm_plan_name</th>\n",
       "      <th>case_origin</th>\n",
       "      <th>public_description</th>\n",
       "    </tr>\n",
       "  </thead>\n",
       "  <tbody>\n",
       "    <tr>\n",
       "      <th>0</th>\n",
       "      <td>80518</td>\n",
       "      <td>18</td>\n",
       "      <td>Closed</td>\n",
       "      <td>TSW</td>\n",
       "      <td>Mid-City:Kensington-Talmadge</td>\n",
       "      <td>Phone</td>\n",
       "      <td>4000 block of copeland just before you get on ...</td>\n",
       "    </tr>\n",
       "    <tr>\n",
       "      <th>1</th>\n",
       "      <td>80531</td>\n",
       "      <td>5</td>\n",
       "      <td>Closed</td>\n",
       "      <td>TSW</td>\n",
       "      <td>Torrey Pines</td>\n",
       "      <td>Phone</td>\n",
       "      <td>LARGE P/H CAUSED VEHICLE DAMAGE</td>\n",
       "    </tr>\n",
       "    <tr>\n",
       "      <th>2</th>\n",
       "      <td>80543</td>\n",
       "      <td>31</td>\n",
       "      <td>Closed</td>\n",
       "      <td>TSW</td>\n",
       "      <td>Pacific Beach</td>\n",
       "      <td>Phone</td>\n",
       "      <td>Caller reports cracks and potholes in alley</td>\n",
       "    </tr>\n",
       "    <tr>\n",
       "      <th>4</th>\n",
       "      <td>80577</td>\n",
       "      <td>34</td>\n",
       "      <td>Closed</td>\n",
       "      <td>TSW</td>\n",
       "      <td>San Pasqual</td>\n",
       "      <td>Phone</td>\n",
       "      <td>POTHOLE</td>\n",
       "    </tr>\n",
       "    <tr>\n",
       "      <th>5</th>\n",
       "      <td>80582</td>\n",
       "      <td>6</td>\n",
       "      <td>Closed</td>\n",
       "      <td>TSW</td>\n",
       "      <td>Mira Mesa</td>\n",
       "      <td>Web</td>\n",
       "      <td>Road damage that needsTo be repaired</td>\n",
       "    </tr>\n",
       "    <tr>\n",
       "      <th>...</th>\n",
       "      <td>...</td>\n",
       "      <td>...</td>\n",
       "      <td>...</td>\n",
       "      <td>...</td>\n",
       "      <td>...</td>\n",
       "      <td>...</td>\n",
       "      <td>...</td>\n",
       "    </tr>\n",
       "    <tr>\n",
       "      <th>75235</th>\n",
       "      <td>3437781</td>\n",
       "      <td>1</td>\n",
       "      <td>Open</td>\n",
       "      <td>TSW</td>\n",
       "      <td>La Jolla</td>\n",
       "      <td>Web</td>\n",
       "      <td>From Via Avola to Hidden Valley (going down th...</td>\n",
       "    </tr>\n",
       "    <tr>\n",
       "      <th>75236</th>\n",
       "      <td>3437850</td>\n",
       "      <td>1</td>\n",
       "      <td>Open</td>\n",
       "      <td>TSW</td>\n",
       "      <td>Clairemont Mesa</td>\n",
       "      <td>Phone</td>\n",
       "      <td>S/B GENESEE RIGHT BEFORE THE 52 ON RAMP- POTHO...</td>\n",
       "    </tr>\n",
       "    <tr>\n",
       "      <th>75237</th>\n",
       "      <td>3437886</td>\n",
       "      <td>1</td>\n",
       "      <td>Open</td>\n",
       "      <td>TSW</td>\n",
       "      <td>Mid-City:Eastern Area</td>\n",
       "      <td>Web</td>\n",
       "      <td>There needs to be street resurfacing done to t...</td>\n",
       "    </tr>\n",
       "    <tr>\n",
       "      <th>75238</th>\n",
       "      <td>3437965</td>\n",
       "      <td>1</td>\n",
       "      <td>Open</td>\n",
       "      <td>TSW</td>\n",
       "      <td>Uptown</td>\n",
       "      <td>Mobile</td>\n",
       "      <td>Severe pothole at street and garage entrance o...</td>\n",
       "    </tr>\n",
       "    <tr>\n",
       "      <th>75239</th>\n",
       "      <td>3437976</td>\n",
       "      <td>1</td>\n",
       "      <td>Open</td>\n",
       "      <td>TSW</td>\n",
       "      <td>Downtown</td>\n",
       "      <td>Mobile</td>\n",
       "      <td>Pot hole whole street is messed up</td>\n",
       "    </tr>\n",
       "  </tbody>\n",
       "</table>\n",
       "<p>67245 rows × 7 columns</p>\n",
       "</div>"
      ],
      "text/plain": [
       "       service_request_id  case_age_days  status case_record_type  \\\n",
       "0                   80518             18  Closed              TSW   \n",
       "1                   80531              5  Closed              TSW   \n",
       "2                   80543             31  Closed              TSW   \n",
       "4                   80577             34  Closed              TSW   \n",
       "5                   80582              6  Closed              TSW   \n",
       "...                   ...            ...     ...              ...   \n",
       "75235             3437781              1    Open              TSW   \n",
       "75236             3437850              1    Open              TSW   \n",
       "75237             3437886              1    Open              TSW   \n",
       "75238             3437965              1    Open              TSW   \n",
       "75239             3437976              1    Open              TSW   \n",
       "\n",
       "                     comm_plan_name case_origin  \\\n",
       "0      Mid-City:Kensington-Talmadge       Phone   \n",
       "1                      Torrey Pines       Phone   \n",
       "2                     Pacific Beach       Phone   \n",
       "4                       San Pasqual       Phone   \n",
       "5                         Mira Mesa         Web   \n",
       "...                             ...         ...   \n",
       "75235                      La Jolla         Web   \n",
       "75236               Clairemont Mesa       Phone   \n",
       "75237         Mid-City:Eastern Area         Web   \n",
       "75238                        Uptown      Mobile   \n",
       "75239                      Downtown      Mobile   \n",
       "\n",
       "                                      public_description  \n",
       "0      4000 block of copeland just before you get on ...  \n",
       "1                        LARGE P/H CAUSED VEHICLE DAMAGE  \n",
       "2            Caller reports cracks and potholes in alley  \n",
       "4                                                POTHOLE  \n",
       "5                   Road damage that needsTo be repaired  \n",
       "...                                                  ...  \n",
       "75235  From Via Avola to Hidden Valley (going down th...  \n",
       "75236  S/B GENESEE RIGHT BEFORE THE 52 ON RAMP- POTHO...  \n",
       "75237  There needs to be street resurfacing done to t...  \n",
       "75238  Severe pothole at street and garage entrance o...  \n",
       "75239                 Pot hole whole street is messed up  \n",
       "\n",
       "[67245 rows x 7 columns]"
      ]
     },
     "execution_count": 15,
     "metadata": {},
     "output_type": "execute_result"
    }
   ],
   "source": [
    "temp4"
   ]
  },
  {
   "cell_type": "code",
   "execution_count": 16,
   "id": "368f2e4f",
   "metadata": {},
   "outputs": [
    {
     "name": "stderr",
     "output_type": "stream",
     "text": [
      "/Users/georgegarcia/Library/Python/3.9/lib/python/site-packages/pandas/core/frame.py:3607: SettingWithCopyWarning: \n",
      "A value is trying to be set on a copy of a slice from a DataFrame.\n",
      "Try using .loc[row_indexer,col_indexer] = value instead\n",
      "\n",
      "See the caveats in the documentation: https://pandas.pydata.org/pandas-docs/stable/user_guide/indexing.html#returning-a-view-versus-a-copy\n",
      "  self._set_item(key, value)\n"
     ]
    }
   ],
   "source": [
    "temp4[\"case_record_type\"]=temp4[\"case_record_type\"].str.replace('TSW','1')\n",
    "temp4[\"case_record_type\"]=temp4[\"case_record_type\"].str.replace('Specialty','0')"
   ]
  },
  {
   "cell_type": "code",
   "execution_count": 17,
   "id": "db77e3d9",
   "metadata": {},
   "outputs": [],
   "source": [
    "temp4[\"case_record_type\"]=temp4['case_record_type'].astype(float)"
   ]
  },
  {
   "cell_type": "code",
   "execution_count": 18,
   "id": "ebf03ec3",
   "metadata": {},
   "outputs": [
    {
     "data": {
      "text/html": [
       "<div>\n",
       "<style scoped>\n",
       "    .dataframe tbody tr th:only-of-type {\n",
       "        vertical-align: middle;\n",
       "    }\n",
       "\n",
       "    .dataframe tbody tr th {\n",
       "        vertical-align: top;\n",
       "    }\n",
       "\n",
       "    .dataframe thead th {\n",
       "        text-align: right;\n",
       "    }\n",
       "</style>\n",
       "<table border=\"1\" class=\"dataframe\">\n",
       "  <thead>\n",
       "    <tr style=\"text-align: right;\">\n",
       "      <th></th>\n",
       "      <th>service_request_id</th>\n",
       "      <th>case_age_days</th>\n",
       "      <th>status</th>\n",
       "      <th>case_record_type</th>\n",
       "      <th>comm_plan_name</th>\n",
       "      <th>case_origin</th>\n",
       "      <th>public_description</th>\n",
       "    </tr>\n",
       "  </thead>\n",
       "  <tbody>\n",
       "    <tr>\n",
       "      <th>0</th>\n",
       "      <td>80518</td>\n",
       "      <td>18</td>\n",
       "      <td>Closed</td>\n",
       "      <td>1.0</td>\n",
       "      <td>Mid-City:Kensington-Talmadge</td>\n",
       "      <td>Phone</td>\n",
       "      <td>4000 block of copeland just before you get on ...</td>\n",
       "    </tr>\n",
       "    <tr>\n",
       "      <th>1</th>\n",
       "      <td>80531</td>\n",
       "      <td>5</td>\n",
       "      <td>Closed</td>\n",
       "      <td>1.0</td>\n",
       "      <td>Torrey Pines</td>\n",
       "      <td>Phone</td>\n",
       "      <td>LARGE P/H CAUSED VEHICLE DAMAGE</td>\n",
       "    </tr>\n",
       "    <tr>\n",
       "      <th>2</th>\n",
       "      <td>80543</td>\n",
       "      <td>31</td>\n",
       "      <td>Closed</td>\n",
       "      <td>1.0</td>\n",
       "      <td>Pacific Beach</td>\n",
       "      <td>Phone</td>\n",
       "      <td>Caller reports cracks and potholes in alley</td>\n",
       "    </tr>\n",
       "    <tr>\n",
       "      <th>4</th>\n",
       "      <td>80577</td>\n",
       "      <td>34</td>\n",
       "      <td>Closed</td>\n",
       "      <td>1.0</td>\n",
       "      <td>San Pasqual</td>\n",
       "      <td>Phone</td>\n",
       "      <td>POTHOLE</td>\n",
       "    </tr>\n",
       "    <tr>\n",
       "      <th>5</th>\n",
       "      <td>80582</td>\n",
       "      <td>6</td>\n",
       "      <td>Closed</td>\n",
       "      <td>1.0</td>\n",
       "      <td>Mira Mesa</td>\n",
       "      <td>Web</td>\n",
       "      <td>Road damage that needsTo be repaired</td>\n",
       "    </tr>\n",
       "    <tr>\n",
       "      <th>...</th>\n",
       "      <td>...</td>\n",
       "      <td>...</td>\n",
       "      <td>...</td>\n",
       "      <td>...</td>\n",
       "      <td>...</td>\n",
       "      <td>...</td>\n",
       "      <td>...</td>\n",
       "    </tr>\n",
       "    <tr>\n",
       "      <th>75235</th>\n",
       "      <td>3437781</td>\n",
       "      <td>1</td>\n",
       "      <td>Open</td>\n",
       "      <td>1.0</td>\n",
       "      <td>La Jolla</td>\n",
       "      <td>Web</td>\n",
       "      <td>From Via Avola to Hidden Valley (going down th...</td>\n",
       "    </tr>\n",
       "    <tr>\n",
       "      <th>75236</th>\n",
       "      <td>3437850</td>\n",
       "      <td>1</td>\n",
       "      <td>Open</td>\n",
       "      <td>1.0</td>\n",
       "      <td>Clairemont Mesa</td>\n",
       "      <td>Phone</td>\n",
       "      <td>S/B GENESEE RIGHT BEFORE THE 52 ON RAMP- POTHO...</td>\n",
       "    </tr>\n",
       "    <tr>\n",
       "      <th>75237</th>\n",
       "      <td>3437886</td>\n",
       "      <td>1</td>\n",
       "      <td>Open</td>\n",
       "      <td>1.0</td>\n",
       "      <td>Mid-City:Eastern Area</td>\n",
       "      <td>Web</td>\n",
       "      <td>There needs to be street resurfacing done to t...</td>\n",
       "    </tr>\n",
       "    <tr>\n",
       "      <th>75238</th>\n",
       "      <td>3437965</td>\n",
       "      <td>1</td>\n",
       "      <td>Open</td>\n",
       "      <td>1.0</td>\n",
       "      <td>Uptown</td>\n",
       "      <td>Mobile</td>\n",
       "      <td>Severe pothole at street and garage entrance o...</td>\n",
       "    </tr>\n",
       "    <tr>\n",
       "      <th>75239</th>\n",
       "      <td>3437976</td>\n",
       "      <td>1</td>\n",
       "      <td>Open</td>\n",
       "      <td>1.0</td>\n",
       "      <td>Downtown</td>\n",
       "      <td>Mobile</td>\n",
       "      <td>Pot hole whole street is messed up</td>\n",
       "    </tr>\n",
       "  </tbody>\n",
       "</table>\n",
       "<p>67245 rows × 7 columns</p>\n",
       "</div>"
      ],
      "text/plain": [
       "       service_request_id  case_age_days  status  case_record_type  \\\n",
       "0                   80518             18  Closed               1.0   \n",
       "1                   80531              5  Closed               1.0   \n",
       "2                   80543             31  Closed               1.0   \n",
       "4                   80577             34  Closed               1.0   \n",
       "5                   80582              6  Closed               1.0   \n",
       "...                   ...            ...     ...               ...   \n",
       "75235             3437781              1    Open               1.0   \n",
       "75236             3437850              1    Open               1.0   \n",
       "75237             3437886              1    Open               1.0   \n",
       "75238             3437965              1    Open               1.0   \n",
       "75239             3437976              1    Open               1.0   \n",
       "\n",
       "                     comm_plan_name case_origin  \\\n",
       "0      Mid-City:Kensington-Talmadge       Phone   \n",
       "1                      Torrey Pines       Phone   \n",
       "2                     Pacific Beach       Phone   \n",
       "4                       San Pasqual       Phone   \n",
       "5                         Mira Mesa         Web   \n",
       "...                             ...         ...   \n",
       "75235                      La Jolla         Web   \n",
       "75236               Clairemont Mesa       Phone   \n",
       "75237         Mid-City:Eastern Area         Web   \n",
       "75238                        Uptown      Mobile   \n",
       "75239                      Downtown      Mobile   \n",
       "\n",
       "                                      public_description  \n",
       "0      4000 block of copeland just before you get on ...  \n",
       "1                        LARGE P/H CAUSED VEHICLE DAMAGE  \n",
       "2            Caller reports cracks and potholes in alley  \n",
       "4                                                POTHOLE  \n",
       "5                   Road damage that needsTo be repaired  \n",
       "...                                                  ...  \n",
       "75235  From Via Avola to Hidden Valley (going down th...  \n",
       "75236  S/B GENESEE RIGHT BEFORE THE 52 ON RAMP- POTHO...  \n",
       "75237  There needs to be street resurfacing done to t...  \n",
       "75238  Severe pothole at street and garage entrance o...  \n",
       "75239                 Pot hole whole street is messed up  \n",
       "\n",
       "[67245 rows x 7 columns]"
      ]
     },
     "execution_count": 18,
     "metadata": {},
     "output_type": "execute_result"
    }
   ],
   "source": [
    "temp4"
   ]
  },
  {
   "cell_type": "code",
   "execution_count": 19,
   "id": "602e48c3",
   "metadata": {},
   "outputs": [],
   "source": [
    "import pandas as pd\n",
    "import numpy as np\n",
    "import json\n",
    "import os\n",
    "import matplotlib.pyplot as plt\n",
    "import seaborn as sns\n",
    "import json\n",
    "from sklearn.preprocessing import OneHotEncoder, OrdinalEncoder, LabelEncoder, StandardScaler, Normalizer\n",
    "from sklearn.compose import ColumnTransformer\n",
    "from sklearn.impute import SimpleImputer\n",
    "from sklearn.metrics import confusion_matrix, accuracy_score, plot_confusion_matrix, classification_report\n",
    "from sklearn.model_selection import train_test_split, cross_val_score\n",
    "from sklearn.pipeline import make_pipeline, Pipeline\n",
    "from sklearn.feature_extraction.text import TfidfVectorizer\n",
    "from sklearn.feature_selection import SelectKBest, chi2\n",
    "from sklearn.linear_model import Perceptron\n",
    "from sklearn import metrics"
   ]
  },
  {
   "cell_type": "code",
   "execution_count": 23,
   "id": "7f0f0449",
   "metadata": {},
   "outputs": [
    {
     "name": "stderr",
     "output_type": "stream",
     "text": [
      "/Users/georgegarcia/Library/Python/3.9/lib/python/site-packages/pandas/core/frame.py:3607: SettingWithCopyWarning: \n",
      "A value is trying to be set on a copy of a slice from a DataFrame.\n",
      "Try using .loc[row_indexer,col_indexer] = value instead\n",
      "\n",
      "See the caveats in the documentation: https://pandas.pydata.org/pandas-docs/stable/user_guide/indexing.html#returning-a-view-versus-a-copy\n",
      "  self._set_item(key, value)\n"
     ]
    }
   ],
   "source": [
    "labelencoder = LabelEncoder()\n",
    "# Assigning numerical values and storing in another column\n",
    "temp4[\"comm_plan_name\"] = labelencoder.fit_transform(temp4[\"comm_plan_name\"])\n",
    "temp5=temp4.drop(columns=['case_origin','public_description','service_request_id'])"
   ]
  },
  {
   "cell_type": "markdown",
   "id": "a01fda07",
   "metadata": {},
   "source": [
    "#delet"
   ]
  },
  {
   "cell_type": "code",
   "execution_count": 121,
   "id": "aab15439",
   "metadata": {},
   "outputs": [],
   "source": [
    "cat_feat = df_filtered[['case_age_days', 'case_record_type','comm_plan_name']]\n",
    "\n",
    "X= cat_feat\n",
    "y= df_filtered[['status']]\n",
    "X_train, X_test, y_train, y_test =train_test_split(X, y, test_size=0.5,random_state=42)\n",
    "balanced_model = make_pipeline(OneHotEncoder(),Perceptron(class_weight='balanced'))"
   ]
  },
  {
   "cell_type": "code",
   "execution_count": 22,
   "id": "12038f92",
   "metadata": {},
   "outputs": [
    {
     "name": "stdout",
     "output_type": "stream",
     "text": [
      "Requirement already satisfied: imbalanced-learn in /opt/anaconda3/lib/python3.8/site-packages (0.8.1)\n",
      "Requirement already satisfied: scipy>=0.19.1 in /opt/anaconda3/lib/python3.8/site-packages (from imbalanced-learn) (1.6.2)\n",
      "Requirement already satisfied: joblib>=0.11 in /opt/anaconda3/lib/python3.8/site-packages (from imbalanced-learn) (1.0.1)\n",
      "Requirement already satisfied: numpy>=1.13.3 in /opt/anaconda3/lib/python3.8/site-packages (from imbalanced-learn) (1.20.1)\n",
      "Requirement already satisfied: scikit-learn>=0.24 in /opt/anaconda3/lib/python3.8/site-packages (from imbalanced-learn) (1.1.2)\n",
      "Requirement already satisfied: threadpoolctl>=2.0.0 in /opt/anaconda3/lib/python3.8/site-packages (from scikit-learn>=0.24->imbalanced-learn) (2.1.0)\n"
     ]
    }
   ],
   "source": [
    "!pip install imbalanced-learn"
   ]
  },
  {
   "cell_type": "code",
   "execution_count": 132,
   "id": "b8e6751a",
   "metadata": {},
   "outputs": [
    {
     "name": "stderr",
     "output_type": "stream",
     "text": [
      "/Library/Frameworks/Python.framework/Versions/3.9/lib/python3.9/site-packages/sklearn/utils/validation.py:1111: DataConversionWarning: A column-vector y was passed when a 1d array was expected. Please change the shape of y to (n_samples, ), for example using ravel().\n",
      "  y = column_or_1d(y, warn=True)\n",
      "/Library/Frameworks/Python.framework/Versions/3.9/lib/python3.9/site-packages/sklearn/utils/validation.py:1111: DataConversionWarning: A column-vector y was passed when a 1d array was expected. Please change the shape of y to (n_samples, ), for example using ravel().\n",
      "  y = column_or_1d(y, warn=True)\n"
     ]
    },
    {
     "data": {
      "text/html": [
       "<style>#sk-container-id-14 {color: black;background-color: white;}#sk-container-id-14 pre{padding: 0;}#sk-container-id-14 div.sk-toggleable {background-color: white;}#sk-container-id-14 label.sk-toggleable__label {cursor: pointer;display: block;width: 100%;margin-bottom: 0;padding: 0.3em;box-sizing: border-box;text-align: center;}#sk-container-id-14 label.sk-toggleable__label-arrow:before {content: \"▸\";float: left;margin-right: 0.25em;color: #696969;}#sk-container-id-14 label.sk-toggleable__label-arrow:hover:before {color: black;}#sk-container-id-14 div.sk-estimator:hover label.sk-toggleable__label-arrow:before {color: black;}#sk-container-id-14 div.sk-toggleable__content {max-height: 0;max-width: 0;overflow: hidden;text-align: left;background-color: #f0f8ff;}#sk-container-id-14 div.sk-toggleable__content pre {margin: 0.2em;color: black;border-radius: 0.25em;background-color: #f0f8ff;}#sk-container-id-14 input.sk-toggleable__control:checked~div.sk-toggleable__content {max-height: 200px;max-width: 100%;overflow: auto;}#sk-container-id-14 input.sk-toggleable__control:checked~label.sk-toggleable__label-arrow:before {content: \"▾\";}#sk-container-id-14 div.sk-estimator input.sk-toggleable__control:checked~label.sk-toggleable__label {background-color: #d4ebff;}#sk-container-id-14 div.sk-label input.sk-toggleable__control:checked~label.sk-toggleable__label {background-color: #d4ebff;}#sk-container-id-14 input.sk-hidden--visually {border: 0;clip: rect(1px 1px 1px 1px);clip: rect(1px, 1px, 1px, 1px);height: 1px;margin: -1px;overflow: hidden;padding: 0;position: absolute;width: 1px;}#sk-container-id-14 div.sk-estimator {font-family: monospace;background-color: #f0f8ff;border: 1px dotted black;border-radius: 0.25em;box-sizing: border-box;margin-bottom: 0.5em;}#sk-container-id-14 div.sk-estimator:hover {background-color: #d4ebff;}#sk-container-id-14 div.sk-parallel-item::after {content: \"\";width: 100%;border-bottom: 1px solid gray;flex-grow: 1;}#sk-container-id-14 div.sk-label:hover label.sk-toggleable__label {background-color: #d4ebff;}#sk-container-id-14 div.sk-serial::before {content: \"\";position: absolute;border-left: 1px solid gray;box-sizing: border-box;top: 0;bottom: 0;left: 50%;z-index: 0;}#sk-container-id-14 div.sk-serial {display: flex;flex-direction: column;align-items: center;background-color: white;padding-right: 0.2em;padding-left: 0.2em;position: relative;}#sk-container-id-14 div.sk-item {position: relative;z-index: 1;}#sk-container-id-14 div.sk-parallel {display: flex;align-items: stretch;justify-content: center;background-color: white;position: relative;}#sk-container-id-14 div.sk-item::before, #sk-container-id-14 div.sk-parallel-item::before {content: \"\";position: absolute;border-left: 1px solid gray;box-sizing: border-box;top: 0;bottom: 0;left: 50%;z-index: -1;}#sk-container-id-14 div.sk-parallel-item {display: flex;flex-direction: column;z-index: 1;position: relative;background-color: white;}#sk-container-id-14 div.sk-parallel-item:first-child::after {align-self: flex-end;width: 50%;}#sk-container-id-14 div.sk-parallel-item:last-child::after {align-self: flex-start;width: 50%;}#sk-container-id-14 div.sk-parallel-item:only-child::after {width: 0;}#sk-container-id-14 div.sk-dashed-wrapped {border: 1px dashed gray;margin: 0 0.4em 0.5em 0.4em;box-sizing: border-box;padding-bottom: 0.4em;background-color: white;}#sk-container-id-14 div.sk-label label {font-family: monospace;font-weight: bold;display: inline-block;line-height: 1.2em;}#sk-container-id-14 div.sk-label-container {text-align: center;}#sk-container-id-14 div.sk-container {/* jupyter's `normalize.less` sets `[hidden] { display: none; }` but bootstrap.min.css set `[hidden] { display: none !important; }` so we also need the `!important` here to be able to override the default hidden behavior on the sphinx rendered scikit-learn.org. See: https://github.com/scikit-learn/scikit-learn/issues/21755 */display: inline-block !important;position: relative;}#sk-container-id-14 div.sk-text-repr-fallback {display: none;}</style><div id=\"sk-container-id-14\" class=\"sk-top-container\"><div class=\"sk-text-repr-fallback\"><pre>Pipeline(steps=[(&#x27;onehotencoder&#x27;, OneHotEncoder()),\n",
       "                (&#x27;perceptron&#x27;, Perceptron())])</pre><b>In a Jupyter environment, please rerun this cell to show the HTML representation or trust the notebook. <br />On GitHub, the HTML representation is unable to render, please try loading this page with nbviewer.org.</b></div><div class=\"sk-container\" hidden><div class=\"sk-item sk-dashed-wrapped\"><div class=\"sk-label-container\"><div class=\"sk-label sk-toggleable\"><input class=\"sk-toggleable__control sk-hidden--visually\" id=\"sk-estimator-id-32\" type=\"checkbox\" ><label for=\"sk-estimator-id-32\" class=\"sk-toggleable__label sk-toggleable__label-arrow\">Pipeline</label><div class=\"sk-toggleable__content\"><pre>Pipeline(steps=[(&#x27;onehotencoder&#x27;, OneHotEncoder()),\n",
       "                (&#x27;perceptron&#x27;, Perceptron())])</pre></div></div></div><div class=\"sk-serial\"><div class=\"sk-item\"><div class=\"sk-estimator sk-toggleable\"><input class=\"sk-toggleable__control sk-hidden--visually\" id=\"sk-estimator-id-33\" type=\"checkbox\" ><label for=\"sk-estimator-id-33\" class=\"sk-toggleable__label sk-toggleable__label-arrow\">OneHotEncoder</label><div class=\"sk-toggleable__content\"><pre>OneHotEncoder()</pre></div></div></div><div class=\"sk-item\"><div class=\"sk-estimator sk-toggleable\"><input class=\"sk-toggleable__control sk-hidden--visually\" id=\"sk-estimator-id-34\" type=\"checkbox\" ><label for=\"sk-estimator-id-34\" class=\"sk-toggleable__label sk-toggleable__label-arrow\">Perceptron</label><div class=\"sk-toggleable__content\"><pre>Perceptron()</pre></div></div></div></div></div></div></div>"
      ],
      "text/plain": [
       "Pipeline(steps=[('onehotencoder', OneHotEncoder()),\n",
       "                ('perceptron', Perceptron())])"
      ]
     },
     "execution_count": 132,
     "metadata": {},
     "output_type": "execute_result"
    }
   ],
   "source": [
    "\n",
    "cat_feat = temp4[['case_age_days', 'case_record_type','comm_plan_name']]\n",
    "\n",
    "X= cat_feat\n",
    "y= df_filtered[['status']]\n",
    "\n",
    "X_train, X_test, y_train, y_test =train_test_split(X, y, test_size=0.5,random_state=42)\n",
    "\n",
    "balanced_model = make_pipeline(OneHotEncoder(),Perceptron(class_weight='balanced'))\n",
    "unbalanced_model = make_pipeline(OneHotEncoder(), Perceptron())\n",
    "\n",
    "# fit the models here:\n",
    "balanced_model.fit(X_train, y_train)\n",
    "unbalanced_model.fit(X_train, y_train)"
   ]
  },
  {
   "cell_type": "code",
   "execution_count": 135,
   "id": "39ee169a",
   "metadata": {},
   "outputs": [
    {
     "name": "stderr",
     "output_type": "stream",
     "text": [
      "/Library/Frameworks/Python.framework/Versions/3.9/lib/python3.9/site-packages/sklearn/ensemble/_bagging.py:760: DataConversionWarning: A column-vector y was passed when a 1d array was expected. Please change the shape of y to (n_samples, ), for example using ravel().\n",
      "  y = column_or_1d(y, warn=True)\n"
     ]
    }
   ],
   "source": [
    "\n",
    "from imblearn.ensemble import BalancedBaggingClassifier\n",
    "from sklearn.tree import DecisionTreeClassifier\n",
    "\n",
    "#Create an object of the classifier.\n",
    "bbc = BalancedBaggingClassifier(base_estimator=DecisionTreeClassifier(),\n",
    "                                sampling_strategy='auto',\n",
    "                                replacement=False,\n",
    "                                random_state=42)\n",
    "\n",
    "\n",
    "#Train the classifier.\n",
    "dt=bbc.fit(X_train, y_train)\n",
    "preds = bbc.predict(X_test)\n"
   ]
  },
  {
   "cell_type": "code",
   "execution_count": 137,
   "id": "319b4e6f",
   "metadata": {},
   "outputs": [
    {
     "name": "stderr",
     "output_type": "stream",
     "text": [
      "/Library/Frameworks/Python.framework/Versions/3.9/lib/python3.9/site-packages/sklearn/ensemble/_bagging.py:760: DataConversionWarning: A column-vector y was passed when a 1d array was expected. Please change the shape of y to (n_samples, ), for example using ravel().\n",
      "  y = column_or_1d(y, warn=True)\n",
      "/Library/Frameworks/Python.framework/Versions/3.9/lib/python3.9/site-packages/sklearn/ensemble/_bagging.py:760: DataConversionWarning: A column-vector y was passed when a 1d array was expected. Please change the shape of y to (n_samples, ), for example using ravel().\n",
      "  y = column_or_1d(y, warn=True)\n",
      "/Library/Frameworks/Python.framework/Versions/3.9/lib/python3.9/site-packages/sklearn/ensemble/_bagging.py:760: DataConversionWarning: A column-vector y was passed when a 1d array was expected. Please change the shape of y to (n_samples, ), for example using ravel().\n",
      "  y = column_or_1d(y, warn=True)\n",
      "/Library/Frameworks/Python.framework/Versions/3.9/lib/python3.9/site-packages/sklearn/ensemble/_bagging.py:760: DataConversionWarning: A column-vector y was passed when a 1d array was expected. Please change the shape of y to (n_samples, ), for example using ravel().\n",
      "  y = column_or_1d(y, warn=True)\n",
      "/Library/Frameworks/Python.framework/Versions/3.9/lib/python3.9/site-packages/sklearn/ensemble/_bagging.py:760: DataConversionWarning: A column-vector y was passed when a 1d array was expected. Please change the shape of y to (n_samples, ), for example using ravel().\n",
      "  y = column_or_1d(y, warn=True)\n",
      "/Library/Frameworks/Python.framework/Versions/3.9/lib/python3.9/site-packages/sklearn/ensemble/_bagging.py:760: DataConversionWarning: A column-vector y was passed when a 1d array was expected. Please change the shape of y to (n_samples, ), for example using ravel().\n",
      "  y = column_or_1d(y, warn=True)\n",
      "/Library/Frameworks/Python.framework/Versions/3.9/lib/python3.9/site-packages/sklearn/ensemble/_bagging.py:760: DataConversionWarning: A column-vector y was passed when a 1d array was expected. Please change the shape of y to (n_samples, ), for example using ravel().\n",
      "  y = column_or_1d(y, warn=True)\n",
      "/Library/Frameworks/Python.framework/Versions/3.9/lib/python3.9/site-packages/sklearn/ensemble/_bagging.py:760: DataConversionWarning: A column-vector y was passed when a 1d array was expected. Please change the shape of y to (n_samples, ), for example using ravel().\n",
      "  y = column_or_1d(y, warn=True)\n",
      "/Library/Frameworks/Python.framework/Versions/3.9/lib/python3.9/site-packages/sklearn/ensemble/_bagging.py:760: DataConversionWarning: A column-vector y was passed when a 1d array was expected. Please change the shape of y to (n_samples, ), for example using ravel().\n",
      "  y = column_or_1d(y, warn=True)\n",
      "/Library/Frameworks/Python.framework/Versions/3.9/lib/python3.9/site-packages/sklearn/ensemble/_bagging.py:760: DataConversionWarning: A column-vector y was passed when a 1d array was expected. Please change the shape of y to (n_samples, ), for example using ravel().\n",
      "  y = column_or_1d(y, warn=True)\n"
     ]
    }
   ],
   "source": [
    "\n",
    "dt_scores = cross_val_score(dt, X, y, cv = 10)"
   ]
  },
  {
   "cell_type": "code",
   "execution_count": 138,
   "id": "172a6734",
   "metadata": {},
   "outputs": [
    {
     "data": {
      "text/plain": [
       "array([0.79598513, 0.78527881, 0.786171  , 0.79553903, 0.81516729,\n",
       "       0.82064247, 0.80606782, 0.8356633 , 0.79967281, 0.78985723])"
      ]
     },
     "execution_count": 138,
     "metadata": {},
     "output_type": "execute_result"
    }
   ],
   "source": [
    "dt_scores"
   ]
  },
  {
   "cell_type": "code",
   "execution_count": 27,
   "id": "e4da6892",
   "metadata": {},
   "outputs": [
    {
     "data": {
      "text/plain": [
       "0.8220265889420932"
      ]
     },
     "execution_count": 27,
     "metadata": {},
     "output_type": "execute_result"
    }
   ],
   "source": [
    "from sklearn.metrics import accuracy_score\n",
    "accuracy = accuracy_score(y_test, preds)\n",
    "accuracy"
   ]
  },
  {
   "cell_type": "markdown",
   "id": "bd5fc425",
   "metadata": {},
   "source": [
    "Confusion Matrix for the Decision Tree"
   ]
  },
  {
   "cell_type": "code",
   "execution_count": 28,
   "id": "3def2484",
   "metadata": {},
   "outputs": [
    {
     "name": "stdout",
     "output_type": "stream",
     "text": [
      "Confusion Matrix : \n",
      " [[27058  5717]\n",
      " [  267   581]]\n"
     ]
    }
   ],
   "source": [
    "\n",
    "from sklearn.metrics import confusion_matrix\n",
    "cm = confusion_matrix(y_test, preds)\n",
    " \n",
    "print (\"Confusion Matrix : \\n\", cm)"
   ]
  },
  {
   "cell_type": "code",
   "execution_count": 29,
   "id": "1457bf7f",
   "metadata": {},
   "outputs": [],
   "source": [
    "\n",
    "from imblearn.over_sampling import SMOTE"
   ]
  },
  {
   "cell_type": "code",
   "execution_count": 30,
   "id": "21a555dc",
   "metadata": {},
   "outputs": [],
   "source": [
    "# Resample the minority class. You can change the strategy to 'auto' if you are not sure.\n",
    "sm = SMOTE(sampling_strategy='minority', random_state=7)"
   ]
  },
  {
   "cell_type": "code",
   "execution_count": 31,
   "id": "3045c73e",
   "metadata": {},
   "outputs": [],
   "source": [
    "X_balanced, y_balanced = sm.fit_resample(temp5.drop('status', axis=1), temp5['status'])"
   ]
  },
  {
   "cell_type": "code",
   "execution_count": 32,
   "id": "d0a9e52d",
   "metadata": {},
   "outputs": [],
   "source": [
    "oversampled_train = pd.concat([pd.DataFrame(y_balanced), pd.DataFrame(X_balanced)], axis=1)"
   ]
  },
  {
   "cell_type": "code",
   "execution_count": 33,
   "id": "774e3cba",
   "metadata": {},
   "outputs": [],
   "source": [
    "oversampled_train.columns = temp5.columns"
   ]
  },
  {
   "cell_type": "code",
   "execution_count": 34,
   "id": "07cfde32",
   "metadata": {},
   "outputs": [
    {
     "data": {
      "text/html": [
       "<div>\n",
       "<style scoped>\n",
       "    .dataframe tbody tr th:only-of-type {\n",
       "        vertical-align: middle;\n",
       "    }\n",
       "\n",
       "    .dataframe tbody tr th {\n",
       "        vertical-align: top;\n",
       "    }\n",
       "\n",
       "    .dataframe thead th {\n",
       "        text-align: right;\n",
       "    }\n",
       "</style>\n",
       "<table border=\"1\" class=\"dataframe\">\n",
       "  <thead>\n",
       "    <tr style=\"text-align: right;\">\n",
       "      <th></th>\n",
       "      <th>case_age_days</th>\n",
       "      <th>status</th>\n",
       "      <th>case_record_type</th>\n",
       "      <th>comm_plan_name</th>\n",
       "    </tr>\n",
       "  </thead>\n",
       "  <tbody>\n",
       "    <tr>\n",
       "      <th>0</th>\n",
       "      <td>Closed</td>\n",
       "      <td>18</td>\n",
       "      <td>1.0</td>\n",
       "      <td>19</td>\n",
       "    </tr>\n",
       "    <tr>\n",
       "      <th>1</th>\n",
       "      <td>Closed</td>\n",
       "      <td>5</td>\n",
       "      <td>1.0</td>\n",
       "      <td>53</td>\n",
       "    </tr>\n",
       "    <tr>\n",
       "      <th>2</th>\n",
       "      <td>Closed</td>\n",
       "      <td>31</td>\n",
       "      <td>1.0</td>\n",
       "      <td>35</td>\n",
       "    </tr>\n",
       "    <tr>\n",
       "      <th>3</th>\n",
       "      <td>Closed</td>\n",
       "      <td>34</td>\n",
       "      <td>1.0</td>\n",
       "      <td>43</td>\n",
       "    </tr>\n",
       "    <tr>\n",
       "      <th>4</th>\n",
       "      <td>Closed</td>\n",
       "      <td>6</td>\n",
       "      <td>1.0</td>\n",
       "      <td>23</td>\n",
       "    </tr>\n",
       "    <tr>\n",
       "      <th>...</th>\n",
       "      <td>...</td>\n",
       "      <td>...</td>\n",
       "      <td>...</td>\n",
       "      <td>...</td>\n",
       "    </tr>\n",
       "    <tr>\n",
       "      <th>131085</th>\n",
       "      <td>Open</td>\n",
       "      <td>21</td>\n",
       "      <td>1.0</td>\n",
       "      <td>14</td>\n",
       "    </tr>\n",
       "    <tr>\n",
       "      <th>131086</th>\n",
       "      <td>Open</td>\n",
       "      <td>12</td>\n",
       "      <td>1.0</td>\n",
       "      <td>33</td>\n",
       "    </tr>\n",
       "    <tr>\n",
       "      <th>131087</th>\n",
       "      <td>Open</td>\n",
       "      <td>4</td>\n",
       "      <td>1.0</td>\n",
       "      <td>28</td>\n",
       "    </tr>\n",
       "    <tr>\n",
       "      <th>131088</th>\n",
       "      <td>Open</td>\n",
       "      <td>0</td>\n",
       "      <td>1.0</td>\n",
       "      <td>0</td>\n",
       "    </tr>\n",
       "    <tr>\n",
       "      <th>131089</th>\n",
       "      <td>Open</td>\n",
       "      <td>9</td>\n",
       "      <td>1.0</td>\n",
       "      <td>34</td>\n",
       "    </tr>\n",
       "  </tbody>\n",
       "</table>\n",
       "<p>131090 rows × 4 columns</p>\n",
       "</div>"
      ],
      "text/plain": [
       "       case_age_days  status  case_record_type  comm_plan_name\n",
       "0             Closed      18               1.0              19\n",
       "1             Closed       5               1.0              53\n",
       "2             Closed      31               1.0              35\n",
       "3             Closed      34               1.0              43\n",
       "4             Closed       6               1.0              23\n",
       "...              ...     ...               ...             ...\n",
       "131085          Open      21               1.0              14\n",
       "131086          Open      12               1.0              33\n",
       "131087          Open       4               1.0              28\n",
       "131088          Open       0               1.0               0\n",
       "131089          Open       9               1.0              34\n",
       "\n",
       "[131090 rows x 4 columns]"
      ]
     },
     "execution_count": 34,
     "metadata": {},
     "output_type": "execute_result"
    }
   ],
   "source": [
    "oversampled_train"
   ]
  },
  {
   "cell_type": "code",
   "execution_count": 35,
   "id": "c781aaad",
   "metadata": {},
   "outputs": [
    {
     "data": {
      "text/plain": [
       "<AxesSubplot:title={'center':'Case Response'}, ylabel='Number of entries'>"
      ]
     },
     "execution_count": 35,
     "metadata": {},
     "output_type": "execute_result"
    },
    {
     "data": {
      "image/png": "[encoded data removed]",
      "text/plain": [
       "<Figure size 2160x396 with 1 Axes>"
      ]
     },
     "metadata": {
      "needs_background": "light"
     },
     "output_type": "display_data"
    }
   ],
   "source": [
    "plt.rcParams[\"figure.figsize\"] = (30,5.5)\n",
    "plt.ylabel(\"Number of entries\")\n",
    "plt.title(\"Case Response\")\n",
    "oversampled_train.case_age_days.hist(edgecolor = 'black')"
   ]
  },
  {
   "cell_type": "code",
   "execution_count": 36,
   "id": "3f9155d4",
   "metadata": {},
   "outputs": [
    {
     "data": {
      "text/plain": [
       "<AxesSubplot:xlabel='Department ', ylabel='Number of tickets assigined to department'>"
      ]
     },
     "execution_count": 36,
     "metadata": {},
     "output_type": "execute_result"
    },
    {
     "data": {
      "image/png": "[encoded data removed]",
      "text/plain": [
       "<Figure size 2160x396 with 1 Axes>"
      ]
     },
     "metadata": {
      "needs_background": "light"
     },
     "output_type": "display_data"
    }
   ],
   "source": [
    "plt.rcParams[\"figure.figsize\"] = (30,5.5)\n",
    "plt.ylabel(\"Number of tickets assigined to department\")\n",
    "plt.xlabel(\"Department \")\n",
    "oversampled_train.case_record_type.hist(edgecolor = 'black')"
   ]
  },
  {
   "cell_type": "code",
   "execution_count": 37,
   "id": "7366464f",
   "metadata": {},
   "outputs": [
    {
     "name": "stdout",
     "output_type": "stream",
     "text": [
      "1.000000    130922\n",
      "0.000000        34\n",
      "0.499282         1\n",
      "0.737740         1\n",
      "0.325550         1\n",
      "             ...  \n",
      "0.311936         1\n",
      "0.228770         1\n",
      "0.543821         1\n",
      "0.212396         1\n",
      "0.660723         1\n",
      "Name: case_record_type, Length: 136, dtype: int64\n"
     ]
    }
   ],
   "source": [
    "print(oversampled_train['case_record_type'].value_counts())"
   ]
  },
  {
   "cell_type": "markdown",
   "id": "0603dd96",
   "metadata": {},
   "source": [
    "Preceptron"
   ]
  },
  {
   "cell_type": "code",
   "execution_count": 76,
   "id": "b0bdd779",
   "metadata": {},
   "outputs": [
    {
     "data": {
      "image/png": "[encoded data removed]",
      "text/plain": [
       "<Figure size 2160x396 with 2 Axes>"
      ]
     },
     "metadata": {
      "needs_background": "light"
     },
     "output_type": "display_data"
    }
   ],
   "source": [
    "from sklearn.metrics import confusion_matrix, ConfusionMatrixDisplay\n",
    "predictions = balanced_model.predict(X_test)\n",
    "cm = confusion_matrix(y_test, predictions, labels=balanced_model.classes_)\n",
    "disp = ConfusionMatrixDisplay(confusion_matrix=cm,display_labels=balanced_model.classes_)\n",
    "\n",
    "disp.plot()\n",
    "plt.show()"
   ]
  },
  {
   "cell_type": "code",
   "execution_count": 77,
   "id": "cb8e9cc3",
   "metadata": {},
   "outputs": [
    {
     "name": "stdout",
     "output_type": "stream",
     "text": [
      "              precision    recall  f1-score   support\n",
      "\n",
      "           0       0.99      0.42      0.59     32775\n",
      "           1       0.04      0.86      0.07       848\n",
      "\n",
      "    accuracy                           0.44     33623\n",
      "   macro avg       0.51      0.64      0.33     33623\n",
      "weighted avg       0.97      0.44      0.58     33623\n",
      "\n"
     ]
    }
   ],
   "source": [
    "print(classification_report(y_test, predictions))"
   ]
  },
  {
   "cell_type": "code",
   "execution_count": 78,
   "id": "428f4e04",
   "metadata": {},
   "outputs": [
    {
     "data": {
      "text/plain": [
       "0.43589209767123693"
      ]
     },
     "execution_count": 78,
     "metadata": {},
     "output_type": "execute_result"
    }
   ],
   "source": [
    "#adding the accruacy \n",
    "accuracy2 = accuracy_score(y_test, predictions)\n",
    "accuracy2"
   ]
  },
  {
   "cell_type": "code",
   "execution_count": 82,
   "id": "60d7c97a",
   "metadata": {},
   "outputs": [
    {
     "name": "stderr",
     "output_type": "stream",
     "text": [
      "/Library/Frameworks/Python.framework/Versions/3.9/lib/python3.9/site-packages/sklearn/utils/validation.py:1111: DataConversionWarning: A column-vector y was passed when a 1d array was expected. Please change the shape of y to (n_samples, ), for example using ravel().\n",
      "  y = column_or_1d(y, warn=True)\n",
      "/Library/Frameworks/Python.framework/Versions/3.9/lib/python3.9/site-packages/sklearn/utils/validation.py:1111: DataConversionWarning: A column-vector y was passed when a 1d array was expected. Please change the shape of y to (n_samples, ), for example using ravel().\n",
      "  y = column_or_1d(y, warn=True)\n",
      "/Library/Frameworks/Python.framework/Versions/3.9/lib/python3.9/site-packages/sklearn/utils/validation.py:1111: DataConversionWarning: A column-vector y was passed when a 1d array was expected. Please change the shape of y to (n_samples, ), for example using ravel().\n",
      "  y = column_or_1d(y, warn=True)\n",
      "/Library/Frameworks/Python.framework/Versions/3.9/lib/python3.9/site-packages/sklearn/model_selection/_validation.py:776: UserWarning: Scoring failed. The score on this train-test partition for these parameters will be set to nan. Details: \n",
      "Traceback (most recent call last):\n",
      "  File \"/Library/Frameworks/Python.framework/Versions/3.9/lib/python3.9/site-packages/sklearn/model_selection/_validation.py\", line 767, in _score\n",
      "    scores = scorer(estimator, X_test, y_test)\n",
      "  File \"/Library/Frameworks/Python.framework/Versions/3.9/lib/python3.9/site-packages/sklearn/metrics/_scorer.py\", line 106, in __call__\n",
      "    score = scorer._score(cached_call, estimator, *args, **kwargs)\n",
      "  File \"/Library/Frameworks/Python.framework/Versions/3.9/lib/python3.9/site-packages/sklearn/metrics/_scorer.py\", line 261, in _score\n",
      "    y_pred = method_caller(estimator, \"predict\", X)\n",
      "  File \"/Library/Frameworks/Python.framework/Versions/3.9/lib/python3.9/site-packages/sklearn/metrics/_scorer.py\", line 71, in _cached_call\n",
      "    return getattr(estimator, method)(*args, **kwargs)\n",
      "  File \"/Library/Frameworks/Python.framework/Versions/3.9/lib/python3.9/site-packages/sklearn/pipeline.py\", line 457, in predict\n",
      "    Xt = transform.transform(Xt)\n",
      "  File \"/Library/Frameworks/Python.framework/Versions/3.9/lib/python3.9/site-packages/sklearn/preprocessing/_encoders.py\", line 882, in transform\n",
      "    X_int, X_mask = self._transform(\n",
      "  File \"/Library/Frameworks/Python.framework/Versions/3.9/lib/python3.9/site-packages/sklearn/preprocessing/_encoders.py\", line 160, in _transform\n",
      "    raise ValueError(msg)\n",
      "ValueError: Found unknown categories [16] in column 2 during transform\n",
      "\n",
      "  warnings.warn(\n",
      "/Library/Frameworks/Python.framework/Versions/3.9/lib/python3.9/site-packages/sklearn/utils/validation.py:1111: DataConversionWarning: A column-vector y was passed when a 1d array was expected. Please change the shape of y to (n_samples, ), for example using ravel().\n",
      "  y = column_or_1d(y, warn=True)\n",
      "/Library/Frameworks/Python.framework/Versions/3.9/lib/python3.9/site-packages/sklearn/utils/validation.py:1111: DataConversionWarning: A column-vector y was passed when a 1d array was expected. Please change the shape of y to (n_samples, ), for example using ravel().\n",
      "  y = column_or_1d(y, warn=True)\n"
     ]
    },
    {
     "data": {
      "text/plain": [
       "array([0.87048327, 0.72579926,        nan, 0.57480666, 0.89381321])"
      ]
     },
     "execution_count": 82,
     "metadata": {},
     "output_type": "execute_result"
    }
   ],
   "source": [
    "norm_scores = cross_val_score(balanced_model, X_test, y_test, cv=10,scoring='accuracy')\n",
    "norm_scores"
   ]
  },
  {
   "cell_type": "code",
   "execution_count": 49,
   "id": "ac5b8ae6",
   "metadata": {},
   "outputs": [
    {
     "data": {
      "image/png": "[encoded data removed]",
      "text/plain": [
       "<Figure size 2160x396 with 2 Axes>"
      ]
     },
     "metadata": {
      "needs_background": "light"
     },
     "output_type": "display_data"
    }
   ],
   "source": [
    "from sklearn.metrics import confusion_matrix, ConfusionMatrixDisplay\n",
    "predictions = unbalanced_model.predict(X_test)\n",
    "cm = confusion_matrix(y_test, predictions, labels=balanced_model.classes_)\n",
    "disp = ConfusionMatrixDisplay(confusion_matrix=cm,display_labels=balanced_model.classes_)\n",
    "disp.plot()\n",
    "plt.show()"
   ]
  },
  {
   "cell_type": "code",
   "execution_count": 50,
   "id": "fe20a05a",
   "metadata": {},
   "outputs": [
    {
     "data": {
      "text/plain": [
       "count       67245\n",
       "unique      55426\n",
       "top       Pothole\n",
       "freq         3770\n",
       "Name: public_description, dtype: object"
      ]
     },
     "execution_count": 50,
     "metadata": {},
     "output_type": "execute_result"
    }
   ],
   "source": [
    "corpus = temp4['public_description']\n",
    "# Remove Outliers (records with no text data nans):\n",
    "corpus=corpus.dropna()\n",
    "\n",
    "corpus.describe()"
   ]
  },
  {
   "cell_type": "code",
   "execution_count": 51,
   "id": "c290ceab",
   "metadata": {},
   "outputs": [
    {
     "data": {
      "text/html": [
       "<div>\n",
       "<style scoped>\n",
       "    .dataframe tbody tr th:only-of-type {\n",
       "        vertical-align: middle;\n",
       "    }\n",
       "\n",
       "    .dataframe tbody tr th {\n",
       "        vertical-align: top;\n",
       "    }\n",
       "\n",
       "    .dataframe thead th {\n",
       "        text-align: right;\n",
       "    }\n",
       "</style>\n",
       "<table border=\"1\" class=\"dataframe\">\n",
       "  <thead>\n",
       "    <tr style=\"text-align: right;\">\n",
       "      <th></th>\n",
       "      <th>public_description</th>\n",
       "      <th>case_age_days</th>\n",
       "    </tr>\n",
       "  </thead>\n",
       "  <tbody>\n",
       "    <tr>\n",
       "      <th>0</th>\n",
       "      <td>4000 block of copeland just before you get on ...</td>\n",
       "      <td>18</td>\n",
       "    </tr>\n",
       "    <tr>\n",
       "      <th>1</th>\n",
       "      <td>LARGE P/H CAUSED VEHICLE DAMAGE</td>\n",
       "      <td>5</td>\n",
       "    </tr>\n",
       "    <tr>\n",
       "      <th>2</th>\n",
       "      <td>Caller reports cracks and potholes in alley</td>\n",
       "      <td>31</td>\n",
       "    </tr>\n",
       "    <tr>\n",
       "      <th>4</th>\n",
       "      <td>POTHOLE</td>\n",
       "      <td>34</td>\n",
       "    </tr>\n",
       "    <tr>\n",
       "      <th>5</th>\n",
       "      <td>Road damage that needsTo be repaired</td>\n",
       "      <td>6</td>\n",
       "    </tr>\n",
       "    <tr>\n",
       "      <th>...</th>\n",
       "      <td>...</td>\n",
       "      <td>...</td>\n",
       "    </tr>\n",
       "    <tr>\n",
       "      <th>75235</th>\n",
       "      <td>From Via Avola to Hidden Valley (going down th...</td>\n",
       "      <td>1</td>\n",
       "    </tr>\n",
       "    <tr>\n",
       "      <th>75236</th>\n",
       "      <td>S/B GENESEE RIGHT BEFORE THE 52 ON RAMP- POTHO...</td>\n",
       "      <td>1</td>\n",
       "    </tr>\n",
       "    <tr>\n",
       "      <th>75237</th>\n",
       "      <td>There needs to be street resurfacing done to t...</td>\n",
       "      <td>1</td>\n",
       "    </tr>\n",
       "    <tr>\n",
       "      <th>75238</th>\n",
       "      <td>Severe pothole at street and garage entrance o...</td>\n",
       "      <td>1</td>\n",
       "    </tr>\n",
       "    <tr>\n",
       "      <th>75239</th>\n",
       "      <td>Pot hole whole street is messed up</td>\n",
       "      <td>1</td>\n",
       "    </tr>\n",
       "  </tbody>\n",
       "</table>\n",
       "<p>67245 rows × 2 columns</p>\n",
       "</div>"
      ],
      "text/plain": [
       "                                      public_description  case_age_days\n",
       "0      4000 block of copeland just before you get on ...             18\n",
       "1                        LARGE P/H CAUSED VEHICLE DAMAGE              5\n",
       "2            Caller reports cracks and potholes in alley             31\n",
       "4                                                POTHOLE             34\n",
       "5                   Road damage that needsTo be repaired              6\n",
       "...                                                  ...            ...\n",
       "75235  From Via Avola to Hidden Valley (going down th...              1\n",
       "75236  S/B GENESEE RIGHT BEFORE THE 52 ON RAMP- POTHO...              1\n",
       "75237  There needs to be street resurfacing done to t...              1\n",
       "75238  Severe pothole at street and garage entrance o...              1\n",
       "75239                 Pot hole whole street is messed up              1\n",
       "\n",
       "[67245 rows x 2 columns]"
      ]
     },
     "execution_count": 51,
     "metadata": {},
     "output_type": "execute_result"
    }
   ],
   "source": [
    "temp=temp4[['public_description','case_age_days']]\n",
    "temp=temp.dropna()\n",
    "temp"
   ]
  },
  {
   "cell_type": "code",
   "execution_count": 52,
   "id": "b951bdd6",
   "metadata": {},
   "outputs": [
    {
     "name": "stderr",
     "output_type": "stream",
     "text": [
      "/Library/Frameworks/Python.framework/Versions/3.9/lib/python3.9/site-packages/sklearn/utils/deprecation.py:87: FutureWarning: Function get_feature_names is deprecated; get_feature_names is deprecated in 1.0 and will be removed in 1.2. Please use get_feature_names_out instead.\n",
      "  warnings.warn(msg, category=FutureWarning)\n"
     ]
    }
   ],
   "source": [
    "from sklearn.feature_extraction.text import TfidfVectorizer\n",
    "vectorizer = TfidfVectorizer()\n",
    "srb = vectorizer.fit_transform(corpus)\n",
    "new_store=vectorizer.get_feature_names()\n",
    "X1 = pd.DataFrame.sparse.from_spmatrix(srb, columns=new_store)\n",
    "y1 = temp['case_age_days']\n",
    "#train_test_split here\n",
    "X_train, X_test, y_train, y_test =train_test_split(X1,y1,test_size=0.5,random_state=42)"
   ]
  },
  {
   "cell_type": "code",
   "execution_count": 53,
   "id": "c0db5ac8",
   "metadata": {},
   "outputs": [
    {
     "name": "stdout",
     "output_type": "stream",
     "text": [
      "Top 10 features ['3939', 'bancook', 'chasewood', 'cinco', 'cover', 'guttet', 'mayo', 'oarta', 'restroom', 'rhonda']\n"
     ]
    }
   ],
   "source": [
    "from sklearn.feature_selection import SelectKBest, chi2\n",
    "\n",
    "kbest = SelectKBest(score_func=chi2, k=10).fit(X_train, y_train)\n",
    "print('Top 10 features %s' % X_train.columns[kbest.get_support()].tolist())"
   ]
  },
  {
   "cell_type": "code",
   "execution_count": 54,
   "id": "25006a35",
   "metadata": {},
   "outputs": [],
   "source": [
    "from sklearn.linear_model import LogisticRegression\n",
    "from sklearn.metrics import confusion_matrix, accuracy_score,plot_confusion_matrix, classification_report\n",
    "from sklearn.model_selection import train_test_split, cross_val_score\n",
    "from sklearn.feature_extraction.text import TfidfVectorizer"
   ]
  },
  {
   "cell_type": "code",
   "execution_count": 55,
   "id": "a60ab847",
   "metadata": {},
   "outputs": [],
   "source": [
    "data=X"
   ]
  },
  {
   "cell_type": "code",
   "execution_count": 56,
   "id": "5a6e05b2",
   "metadata": {},
   "outputs": [
    {
     "data": {
      "text/html": [
       "<div>\n",
       "<style scoped>\n",
       "    .dataframe tbody tr th:only-of-type {\n",
       "        vertical-align: middle;\n",
       "    }\n",
       "\n",
       "    .dataframe tbody tr th {\n",
       "        vertical-align: top;\n",
       "    }\n",
       "\n",
       "    .dataframe thead th {\n",
       "        text-align: right;\n",
       "    }\n",
       "</style>\n",
       "<table border=\"1\" class=\"dataframe\">\n",
       "  <thead>\n",
       "    <tr style=\"text-align: right;\">\n",
       "      <th></th>\n",
       "      <th>case_age_days</th>\n",
       "      <th>case_record_type</th>\n",
       "      <th>comm_plan_name</th>\n",
       "    </tr>\n",
       "  </thead>\n",
       "  <tbody>\n",
       "    <tr>\n",
       "      <th>0</th>\n",
       "      <td>18</td>\n",
       "      <td>1.0</td>\n",
       "      <td>19</td>\n",
       "    </tr>\n",
       "    <tr>\n",
       "      <th>1</th>\n",
       "      <td>5</td>\n",
       "      <td>1.0</td>\n",
       "      <td>53</td>\n",
       "    </tr>\n",
       "    <tr>\n",
       "      <th>2</th>\n",
       "      <td>31</td>\n",
       "      <td>1.0</td>\n",
       "      <td>35</td>\n",
       "    </tr>\n",
       "    <tr>\n",
       "      <th>4</th>\n",
       "      <td>34</td>\n",
       "      <td>1.0</td>\n",
       "      <td>43</td>\n",
       "    </tr>\n",
       "    <tr>\n",
       "      <th>5</th>\n",
       "      <td>6</td>\n",
       "      <td>1.0</td>\n",
       "      <td>23</td>\n",
       "    </tr>\n",
       "  </tbody>\n",
       "</table>\n",
       "</div>"
      ],
      "text/plain": [
       "   case_age_days  case_record_type  comm_plan_name\n",
       "0             18               1.0              19\n",
       "1              5               1.0              53\n",
       "2             31               1.0              35\n",
       "4             34               1.0              43\n",
       "5              6               1.0              23"
      ]
     },
     "execution_count": 56,
     "metadata": {},
     "output_type": "execute_result"
    }
   ],
   "source": [
    "data.head()"
   ]
  },
  {
   "cell_type": "markdown",
   "id": "1bcf5063",
   "metadata": {},
   "source": [
    "Already done above"
   ]
  },
  {
   "cell_type": "code",
   "execution_count": 57,
   "id": "f7d15613",
   "metadata": {},
   "outputs": [
    {
     "data": {
      "text/html": [
       "<div>\n",
       "<style scoped>\n",
       "    .dataframe tbody tr th:only-of-type {\n",
       "        vertical-align: middle;\n",
       "    }\n",
       "\n",
       "    .dataframe tbody tr th {\n",
       "        vertical-align: top;\n",
       "    }\n",
       "\n",
       "    .dataframe thead th {\n",
       "        text-align: right;\n",
       "    }\n",
       "</style>\n",
       "<table border=\"1\" class=\"dataframe\">\n",
       "  <thead>\n",
       "    <tr style=\"text-align: right;\">\n",
       "      <th></th>\n",
       "      <th>case_age_days</th>\n",
       "      <th>case_record_type</th>\n",
       "      <th>comm_plan_name</th>\n",
       "    </tr>\n",
       "  </thead>\n",
       "  <tbody>\n",
       "    <tr>\n",
       "      <th>0</th>\n",
       "      <td>18</td>\n",
       "      <td>1.0</td>\n",
       "      <td>19</td>\n",
       "    </tr>\n",
       "    <tr>\n",
       "      <th>1</th>\n",
       "      <td>5</td>\n",
       "      <td>1.0</td>\n",
       "      <td>53</td>\n",
       "    </tr>\n",
       "    <tr>\n",
       "      <th>2</th>\n",
       "      <td>31</td>\n",
       "      <td>1.0</td>\n",
       "      <td>35</td>\n",
       "    </tr>\n",
       "    <tr>\n",
       "      <th>4</th>\n",
       "      <td>34</td>\n",
       "      <td>1.0</td>\n",
       "      <td>43</td>\n",
       "    </tr>\n",
       "    <tr>\n",
       "      <th>5</th>\n",
       "      <td>6</td>\n",
       "      <td>1.0</td>\n",
       "      <td>23</td>\n",
       "    </tr>\n",
       "  </tbody>\n",
       "</table>\n",
       "</div>"
      ],
      "text/plain": [
       "   case_age_days  case_record_type  comm_plan_name\n",
       "0             18               1.0              19\n",
       "1              5               1.0              53\n",
       "2             31               1.0              35\n",
       "4             34               1.0              43\n",
       "5              6               1.0              23"
      ]
     },
     "execution_count": 57,
     "metadata": {},
     "output_type": "execute_result"
    }
   ],
   "source": [
    "data.head()"
   ]
  },
  {
   "cell_type": "code",
   "execution_count": 58,
   "id": "ba1f3823",
   "metadata": {},
   "outputs": [
    {
     "data": {
      "text/plain": [
       "1.0    67231\n",
       "0.0       14\n",
       "Name: case_record_type, dtype: int64"
      ]
     },
     "execution_count": 58,
     "metadata": {},
     "output_type": "execute_result"
    }
   ],
   "source": [
    "data['case_record_type'].value_counts()"
   ]
  },
  {
   "cell_type": "code",
   "execution_count": 59,
   "id": "3fc8ddac",
   "metadata": {},
   "outputs": [
    {
     "name": "stderr",
     "output_type": "stream",
     "text": [
      "/Users/georgegarcia/Library/Python/3.9/lib/python/site-packages/pandas/core/frame.py:3607: SettingWithCopyWarning: \n",
      "A value is trying to be set on a copy of a slice from a DataFrame.\n",
      "Try using .loc[row_indexer,col_indexer] = value instead\n",
      "\n",
      "See the caveats in the documentation: https://pandas.pydata.org/pandas-docs/stable/user_guide/indexing.html#returning-a-view-versus-a-copy\n",
      "  self._set_item(key, value)\n"
     ]
    },
    {
     "data": {
      "text/html": [
       "<div>\n",
       "<style scoped>\n",
       "    .dataframe tbody tr th:only-of-type {\n",
       "        vertical-align: middle;\n",
       "    }\n",
       "\n",
       "    .dataframe tbody tr th {\n",
       "        vertical-align: top;\n",
       "    }\n",
       "\n",
       "    .dataframe thead th {\n",
       "        text-align: right;\n",
       "    }\n",
       "</style>\n",
       "<table border=\"1\" class=\"dataframe\">\n",
       "  <thead>\n",
       "    <tr style=\"text-align: right;\">\n",
       "      <th></th>\n",
       "      <th>case_age_days</th>\n",
       "      <th>case_record_type</th>\n",
       "      <th>comm_plan_name</th>\n",
       "    </tr>\n",
       "  </thead>\n",
       "  <tbody>\n",
       "    <tr>\n",
       "      <th>0</th>\n",
       "      <td>18</td>\n",
       "      <td>1.0</td>\n",
       "      <td>19</td>\n",
       "    </tr>\n",
       "    <tr>\n",
       "      <th>1</th>\n",
       "      <td>5</td>\n",
       "      <td>1.0</td>\n",
       "      <td>53</td>\n",
       "    </tr>\n",
       "    <tr>\n",
       "      <th>2</th>\n",
       "      <td>31</td>\n",
       "      <td>1.0</td>\n",
       "      <td>35</td>\n",
       "    </tr>\n",
       "    <tr>\n",
       "      <th>4</th>\n",
       "      <td>34</td>\n",
       "      <td>1.0</td>\n",
       "      <td>43</td>\n",
       "    </tr>\n",
       "    <tr>\n",
       "      <th>5</th>\n",
       "      <td>6</td>\n",
       "      <td>1.0</td>\n",
       "      <td>23</td>\n",
       "    </tr>\n",
       "    <tr>\n",
       "      <th>...</th>\n",
       "      <td>...</td>\n",
       "      <td>...</td>\n",
       "      <td>...</td>\n",
       "    </tr>\n",
       "    <tr>\n",
       "      <th>75235</th>\n",
       "      <td>1</td>\n",
       "      <td>1.0</td>\n",
       "      <td>14</td>\n",
       "    </tr>\n",
       "    <tr>\n",
       "      <th>75236</th>\n",
       "      <td>1</td>\n",
       "      <td>1.0</td>\n",
       "      <td>5</td>\n",
       "    </tr>\n",
       "    <tr>\n",
       "      <th>75237</th>\n",
       "      <td>1</td>\n",
       "      <td>1.0</td>\n",
       "      <td>18</td>\n",
       "    </tr>\n",
       "    <tr>\n",
       "      <th>75238</th>\n",
       "      <td>1</td>\n",
       "      <td>1.0</td>\n",
       "      <td>55</td>\n",
       "    </tr>\n",
       "    <tr>\n",
       "      <th>75239</th>\n",
       "      <td>1</td>\n",
       "      <td>1.0</td>\n",
       "      <td>8</td>\n",
       "    </tr>\n",
       "  </tbody>\n",
       "</table>\n",
       "<p>67245 rows × 3 columns</p>\n",
       "</div>"
      ],
      "text/plain": [
       "       case_age_days  case_record_type  comm_plan_name\n",
       "0                 18               1.0              19\n",
       "1                  5               1.0              53\n",
       "2                 31               1.0              35\n",
       "4                 34               1.0              43\n",
       "5                  6               1.0              23\n",
       "...              ...               ...             ...\n",
       "75235              1               1.0              14\n",
       "75236              1               1.0               5\n",
       "75237              1               1.0              18\n",
       "75238              1               1.0              55\n",
       "75239              1               1.0               8\n",
       "\n",
       "[67245 rows x 3 columns]"
      ]
     },
     "execution_count": 59,
     "metadata": {},
     "output_type": "execute_result"
    }
   ],
   "source": [
    "labelencoder = LabelEncoder()\n",
    "# Assigning numerical values and storing in another column\n",
    "data[\"comm_plan_name\"] = labelencoder.fit_transform(data[\"comm_plan_name\"])\n",
    "data"
   ]
  },
  {
   "cell_type": "code",
   "execution_count": 60,
   "id": "108fd2b4",
   "metadata": {},
   "outputs": [
    {
     "name": "stderr",
     "output_type": "stream",
     "text": [
      "/Users/georgegarcia/Library/Python/3.9/lib/python/site-packages/pandas/core/frame.py:3607: SettingWithCopyWarning: \n",
      "A value is trying to be set on a copy of a slice from a DataFrame.\n",
      "Try using .loc[row_indexer,col_indexer] = value instead\n",
      "\n",
      "See the caveats in the documentation: https://pandas.pydata.org/pandas-docs/stable/user_guide/indexing.html#returning-a-view-versus-a-copy\n",
      "  self._set_item(key, value)\n"
     ]
    }
   ],
   "source": [
    "data[\"case_record_type\"]=data['case_record_type'].astype(float)"
   ]
  },
  {
   "cell_type": "code",
   "execution_count": 86,
   "id": "e332dfd1",
   "metadata": {},
   "outputs": [
    {
     "name": "stderr",
     "output_type": "stream",
     "text": [
      "/Users/georgegarcia/Library/Python/3.9/lib/python/site-packages/pandas/core/frame.py:3607: SettingWithCopyWarning: \n",
      "A value is trying to be set on a copy of a slice from a DataFrame.\n",
      "Try using .loc[row_indexer,col_indexer] = value instead\n",
      "\n",
      "See the caveats in the documentation: https://pandas.pydata.org/pandas-docs/stable/user_guide/indexing.html#returning-a-view-versus-a-copy\n",
      "  self._set_item(key, value)\n"
     ]
    }
   ],
   "source": [
    "labelencoder = LabelEncoder()\n",
    "# Assigning numerical values and storing in another column\n",
    "temp4[\"status\"] = labelencoder.fit_transform(temp4[\"status\"])"
   ]
  },
  {
   "cell_type": "code",
   "execution_count": 87,
   "id": "6219aa00",
   "metadata": {},
   "outputs": [
    {
     "data": {
      "text/plain": [
       "0    0\n",
       "1    0\n",
       "2    0\n",
       "4    0\n",
       "5    0\n",
       "Name: status, dtype: int64"
      ]
     },
     "execution_count": 87,
     "metadata": {},
     "output_type": "execute_result"
    }
   ],
   "source": [
    "y2=temp4['status']\n",
    "y2.head()"
   ]
  },
  {
   "cell_type": "code",
   "execution_count": 113,
   "id": "05e59340",
   "metadata": {},
   "outputs": [
    {
     "data": {
      "text/html": [
       "<style>#sk-container-id-11 {color: black;background-color: white;}#sk-container-id-11 pre{padding: 0;}#sk-container-id-11 div.sk-toggleable {background-color: white;}#sk-container-id-11 label.sk-toggleable__label {cursor: pointer;display: block;width: 100%;margin-bottom: 0;padding: 0.3em;box-sizing: border-box;text-align: center;}#sk-container-id-11 label.sk-toggleable__label-arrow:before {content: \"▸\";float: left;margin-right: 0.25em;color: #696969;}#sk-container-id-11 label.sk-toggleable__label-arrow:hover:before {color: black;}#sk-container-id-11 div.sk-estimator:hover label.sk-toggleable__label-arrow:before {color: black;}#sk-container-id-11 div.sk-toggleable__content {max-height: 0;max-width: 0;overflow: hidden;text-align: left;background-color: #f0f8ff;}#sk-container-id-11 div.sk-toggleable__content pre {margin: 0.2em;color: black;border-radius: 0.25em;background-color: #f0f8ff;}#sk-container-id-11 input.sk-toggleable__control:checked~div.sk-toggleable__content {max-height: 200px;max-width: 100%;overflow: auto;}#sk-container-id-11 input.sk-toggleable__control:checked~label.sk-toggleable__label-arrow:before {content: \"▾\";}#sk-container-id-11 div.sk-estimator input.sk-toggleable__control:checked~label.sk-toggleable__label {background-color: #d4ebff;}#sk-container-id-11 div.sk-label input.sk-toggleable__control:checked~label.sk-toggleable__label {background-color: #d4ebff;}#sk-container-id-11 input.sk-hidden--visually {border: 0;clip: rect(1px 1px 1px 1px);clip: rect(1px, 1px, 1px, 1px);height: 1px;margin: -1px;overflow: hidden;padding: 0;position: absolute;width: 1px;}#sk-container-id-11 div.sk-estimator {font-family: monospace;background-color: #f0f8ff;border: 1px dotted black;border-radius: 0.25em;box-sizing: border-box;margin-bottom: 0.5em;}#sk-container-id-11 div.sk-estimator:hover {background-color: #d4ebff;}#sk-container-id-11 div.sk-parallel-item::after {content: \"\";width: 100%;border-bottom: 1px solid gray;flex-grow: 1;}#sk-container-id-11 div.sk-label:hover label.sk-toggleable__label {background-color: #d4ebff;}#sk-container-id-11 div.sk-serial::before {content: \"\";position: absolute;border-left: 1px solid gray;box-sizing: border-box;top: 0;bottom: 0;left: 50%;z-index: 0;}#sk-container-id-11 div.sk-serial {display: flex;flex-direction: column;align-items: center;background-color: white;padding-right: 0.2em;padding-left: 0.2em;position: relative;}#sk-container-id-11 div.sk-item {position: relative;z-index: 1;}#sk-container-id-11 div.sk-parallel {display: flex;align-items: stretch;justify-content: center;background-color: white;position: relative;}#sk-container-id-11 div.sk-item::before, #sk-container-id-11 div.sk-parallel-item::before {content: \"\";position: absolute;border-left: 1px solid gray;box-sizing: border-box;top: 0;bottom: 0;left: 50%;z-index: -1;}#sk-container-id-11 div.sk-parallel-item {display: flex;flex-direction: column;z-index: 1;position: relative;background-color: white;}#sk-container-id-11 div.sk-parallel-item:first-child::after {align-self: flex-end;width: 50%;}#sk-container-id-11 div.sk-parallel-item:last-child::after {align-self: flex-start;width: 50%;}#sk-container-id-11 div.sk-parallel-item:only-child::after {width: 0;}#sk-container-id-11 div.sk-dashed-wrapped {border: 1px dashed gray;margin: 0 0.4em 0.5em 0.4em;box-sizing: border-box;padding-bottom: 0.4em;background-color: white;}#sk-container-id-11 div.sk-label label {font-family: monospace;font-weight: bold;display: inline-block;line-height: 1.2em;}#sk-container-id-11 div.sk-label-container {text-align: center;}#sk-container-id-11 div.sk-container {/* jupyter's `normalize.less` sets `[hidden] { display: none; }` but bootstrap.min.css set `[hidden] { display: none !important; }` so we also need the `!important` here to be able to override the default hidden behavior on the sphinx rendered scikit-learn.org. See: https://github.com/scikit-learn/scikit-learn/issues/21755 */display: inline-block !important;position: relative;}#sk-container-id-11 div.sk-text-repr-fallback {display: none;}</style><div id=\"sk-container-id-11\" class=\"sk-top-container\"><div class=\"sk-text-repr-fallback\"><pre>Pipeline(steps=[(&#x27;onehotencoder&#x27;, OneHotEncoder()),\n",
       "                (&#x27;perceptron&#x27;, Perceptron())])</pre><b>In a Jupyter environment, please rerun this cell to show the HTML representation or trust the notebook. <br />On GitHub, the HTML representation is unable to render, please try loading this page with nbviewer.org.</b></div><div class=\"sk-container\" hidden><div class=\"sk-item sk-dashed-wrapped\"><div class=\"sk-label-container\"><div class=\"sk-label sk-toggleable\"><input class=\"sk-toggleable__control sk-hidden--visually\" id=\"sk-estimator-id-25\" type=\"checkbox\" ><label for=\"sk-estimator-id-25\" class=\"sk-toggleable__label sk-toggleable__label-arrow\">Pipeline</label><div class=\"sk-toggleable__content\"><pre>Pipeline(steps=[(&#x27;onehotencoder&#x27;, OneHotEncoder()),\n",
       "                (&#x27;perceptron&#x27;, Perceptron())])</pre></div></div></div><div class=\"sk-serial\"><div class=\"sk-item\"><div class=\"sk-estimator sk-toggleable\"><input class=\"sk-toggleable__control sk-hidden--visually\" id=\"sk-estimator-id-26\" type=\"checkbox\" ><label for=\"sk-estimator-id-26\" class=\"sk-toggleable__label sk-toggleable__label-arrow\">OneHotEncoder</label><div class=\"sk-toggleable__content\"><pre>OneHotEncoder()</pre></div></div></div><div class=\"sk-item\"><div class=\"sk-estimator sk-toggleable\"><input class=\"sk-toggleable__control sk-hidden--visually\" id=\"sk-estimator-id-27\" type=\"checkbox\" ><label for=\"sk-estimator-id-27\" class=\"sk-toggleable__label sk-toggleable__label-arrow\">Perceptron</label><div class=\"sk-toggleable__content\"><pre>Perceptron()</pre></div></div></div></div></div></div></div>"
      ],
      "text/plain": [
       "Pipeline(steps=[('onehotencoder', OneHotEncoder()),\n",
       "                ('perceptron', Perceptron())])"
      ]
     },
     "execution_count": 113,
     "metadata": {},
     "output_type": "execute_result"
    }
   ],
   "source": [
    "X1_train, X1_test, y1_train, y1_test =train_test_split(data, y2, test_size=0.2,random_state=42)\n",
    "\n",
    "balanced_model = make_pipeline(OneHotEncoder(),Perceptron(class_weight='balanced'))\n",
    "unbalanced_model = make_pipeline(OneHotEncoder(), Perceptron())\n",
    "\n",
    "# fit the models here:\n",
    "balanced_model.fit(X1_train, y1_train)\n",
    "unbalanced_model.fit(X1_train, y1_train)"
   ]
  },
  {
   "cell_type": "code",
   "execution_count": 114,
   "id": "a42ba513",
   "metadata": {},
   "outputs": [],
   "source": [
    "#making the model\n",
    "logisticRegr = LogisticRegression()\n"
   ]
  },
  {
   "cell_type": "code",
   "execution_count": 115,
   "id": "5e956d24",
   "metadata": {},
   "outputs": [
    {
     "data": {
      "text/html": [
       "<style>#sk-container-id-12 {color: black;background-color: white;}#sk-container-id-12 pre{padding: 0;}#sk-container-id-12 div.sk-toggleable {background-color: white;}#sk-container-id-12 label.sk-toggleable__label {cursor: pointer;display: block;width: 100%;margin-bottom: 0;padding: 0.3em;box-sizing: border-box;text-align: center;}#sk-container-id-12 label.sk-toggleable__label-arrow:before {content: \"▸\";float: left;margin-right: 0.25em;color: #696969;}#sk-container-id-12 label.sk-toggleable__label-arrow:hover:before {color: black;}#sk-container-id-12 div.sk-estimator:hover label.sk-toggleable__label-arrow:before {color: black;}#sk-container-id-12 div.sk-toggleable__content {max-height: 0;max-width: 0;overflow: hidden;text-align: left;background-color: #f0f8ff;}#sk-container-id-12 div.sk-toggleable__content pre {margin: 0.2em;color: black;border-radius: 0.25em;background-color: #f0f8ff;}#sk-container-id-12 input.sk-toggleable__control:checked~div.sk-toggleable__content {max-height: 200px;max-width: 100%;overflow: auto;}#sk-container-id-12 input.sk-toggleable__control:checked~label.sk-toggleable__label-arrow:before {content: \"▾\";}#sk-container-id-12 div.sk-estimator input.sk-toggleable__control:checked~label.sk-toggleable__label {background-color: #d4ebff;}#sk-container-id-12 div.sk-label input.sk-toggleable__control:checked~label.sk-toggleable__label {background-color: #d4ebff;}#sk-container-id-12 input.sk-hidden--visually {border: 0;clip: rect(1px 1px 1px 1px);clip: rect(1px, 1px, 1px, 1px);height: 1px;margin: -1px;overflow: hidden;padding: 0;position: absolute;width: 1px;}#sk-container-id-12 div.sk-estimator {font-family: monospace;background-color: #f0f8ff;border: 1px dotted black;border-radius: 0.25em;box-sizing: border-box;margin-bottom: 0.5em;}#sk-container-id-12 div.sk-estimator:hover {background-color: #d4ebff;}#sk-container-id-12 div.sk-parallel-item::after {content: \"\";width: 100%;border-bottom: 1px solid gray;flex-grow: 1;}#sk-container-id-12 div.sk-label:hover label.sk-toggleable__label {background-color: #d4ebff;}#sk-container-id-12 div.sk-serial::before {content: \"\";position: absolute;border-left: 1px solid gray;box-sizing: border-box;top: 0;bottom: 0;left: 50%;z-index: 0;}#sk-container-id-12 div.sk-serial {display: flex;flex-direction: column;align-items: center;background-color: white;padding-right: 0.2em;padding-left: 0.2em;position: relative;}#sk-container-id-12 div.sk-item {position: relative;z-index: 1;}#sk-container-id-12 div.sk-parallel {display: flex;align-items: stretch;justify-content: center;background-color: white;position: relative;}#sk-container-id-12 div.sk-item::before, #sk-container-id-12 div.sk-parallel-item::before {content: \"\";position: absolute;border-left: 1px solid gray;box-sizing: border-box;top: 0;bottom: 0;left: 50%;z-index: -1;}#sk-container-id-12 div.sk-parallel-item {display: flex;flex-direction: column;z-index: 1;position: relative;background-color: white;}#sk-container-id-12 div.sk-parallel-item:first-child::after {align-self: flex-end;width: 50%;}#sk-container-id-12 div.sk-parallel-item:last-child::after {align-self: flex-start;width: 50%;}#sk-container-id-12 div.sk-parallel-item:only-child::after {width: 0;}#sk-container-id-12 div.sk-dashed-wrapped {border: 1px dashed gray;margin: 0 0.4em 0.5em 0.4em;box-sizing: border-box;padding-bottom: 0.4em;background-color: white;}#sk-container-id-12 div.sk-label label {font-family: monospace;font-weight: bold;display: inline-block;line-height: 1.2em;}#sk-container-id-12 div.sk-label-container {text-align: center;}#sk-container-id-12 div.sk-container {/* jupyter's `normalize.less` sets `[hidden] { display: none; }` but bootstrap.min.css set `[hidden] { display: none !important; }` so we also need the `!important` here to be able to override the default hidden behavior on the sphinx rendered scikit-learn.org. See: https://github.com/scikit-learn/scikit-learn/issues/21755 */display: inline-block !important;position: relative;}#sk-container-id-12 div.sk-text-repr-fallback {display: none;}</style><div id=\"sk-container-id-12\" class=\"sk-top-container\"><div class=\"sk-text-repr-fallback\"><pre>LogisticRegression()</pre><b>In a Jupyter environment, please rerun this cell to show the HTML representation or trust the notebook. <br />On GitHub, the HTML representation is unable to render, please try loading this page with nbviewer.org.</b></div><div class=\"sk-container\" hidden><div class=\"sk-item\"><div class=\"sk-estimator sk-toggleable\"><input class=\"sk-toggleable__control sk-hidden--visually\" id=\"sk-estimator-id-28\" type=\"checkbox\" checked><label for=\"sk-estimator-id-28\" class=\"sk-toggleable__label sk-toggleable__label-arrow\">LogisticRegression</label><div class=\"sk-toggleable__content\"><pre>LogisticRegression()</pre></div></div></div></div></div>"
      ],
      "text/plain": [
       "LogisticRegression()"
      ]
     },
     "execution_count": 115,
     "metadata": {},
     "output_type": "execute_result"
    }
   ],
   "source": [
    "#applying the model \n",
    "logisticRegr.fit(X1_train, y1_train)"
   ]
  },
  {
   "cell_type": "code",
   "execution_count": 116,
   "id": "45357585",
   "metadata": {},
   "outputs": [
    {
     "name": "stdout",
     "output_type": "stream",
     "text": [
      "0.9744218901033534\n"
     ]
    }
   ],
   "source": [
    "predictions = logisticRegr.predict(X1_test)\n",
    "# Use score method to get accuracy of model\n",
    "score4 = logisticRegr.score(X1_test, y1_test)\n",
    "print(score4)"
   ]
  },
  {
   "cell_type": "code",
   "execution_count": 117,
   "id": "69c31193",
   "metadata": {},
   "outputs": [
    {
     "name": "stdout",
     "output_type": "stream",
     "text": [
      "Cross-Validation Accuracy Scores [0.97472119 0.97472119 0.97472119 0.97472119 0.97472119 0.97472119\n",
      " 0.9749024  0.9749024  0.9749024  0.9749024 ]\n"
     ]
    }
   ],
   "source": [
    "from sklearn.model_selection import cross_val_score\n",
    "\n",
    "scores = cross_val_score(logisticRegr, X1_train, y1_train,cv=10)\n",
    "print('Cross-Validation Accuracy Scores', scores)"
   ]
  },
  {
   "cell_type": "markdown",
   "id": "c740909d",
   "metadata": {},
   "source": [
    "Making the confusion Matrix"
   ]
  },
  {
   "cell_type": "code",
   "execution_count": 118,
   "id": "40cd6c89",
   "metadata": {},
   "outputs": [],
   "source": [
    "y2_pred = logisticRegr.predict(X1_test)"
   ]
  },
  {
   "cell_type": "code",
   "execution_count": 119,
   "id": "b7b57672",
   "metadata": {},
   "outputs": [
    {
     "name": "stdout",
     "output_type": "stream",
     "text": [
      "Confusion Matrix : \n",
      " [[13105     0]\n",
      " [  344     0]]\n"
     ]
    }
   ],
   "source": [
    "from sklearn.metrics import confusion_matrix\n",
    "cm = confusion_matrix(y1_test, y2_pred)\n",
    " \n",
    "print (\"Confusion Matrix : \\n\", cm)"
   ]
  },
  {
   "cell_type": "markdown",
   "id": "eb55fe82",
   "metadata": {},
   "source": [
    "ROC Curve"
   ]
  },
  {
   "cell_type": "code",
   "execution_count": 120,
   "id": "1e8a1a50",
   "metadata": {},
   "outputs": [
    {
     "data": {
      "image/png": "[encoded data removed]",
      "text/plain": [
       "<Figure size 2160x396 with 1 Axes>"
      ]
     },
     "metadata": {
      "needs_background": "light"
     },
     "output_type": "display_data"
    }
   ],
   "source": [
    "y_pred_proba = logisticRegr.predict_proba(X1_test)[::,1]\n",
    "fpr, tpr, _ = metrics.roc_curve(y1_test,  y_pred_proba)\n",
    "auc = metrics.roc_auc_score(y1_test, y_pred_proba)\n",
    "plt.plot(fpr,tpr,label=\"data 1, auc=\"+str(auc))\n",
    "plt.legend(loc=4)\n",
    "plt.show()"
   ]
  },
  {
   "cell_type": "markdown",
   "id": "6d521d5b",
   "metadata": {},
   "source": [
    "ROC Decision tree"
   ]
  },
  {
   "cell_type": "code",
   "execution_count": 107,
   "id": "3be82c83",
   "metadata": {},
   "outputs": [],
   "source": [
    "\n",
    "from sklearn.metrics import roc_curve, auc"
   ]
  },
  {
   "cell_type": "code",
   "execution_count": 124,
   "id": "17ea13da",
   "metadata": {},
   "outputs": [
    {
     "data": {
      "image/png": "[encoded data removed]",
      "text/plain": [
       "<Figure size 2160x396 with 1 Axes>"
      ]
     },
     "metadata": {
      "needs_background": "light"
     },
     "output_type": "display_data"
    }
   ],
   "source": [
    "y_pred_proba = bbc.predict_proba(X_test)[::,1]\n",
    "fpr, tpr, _ = metrics.roc_curve(y_test,  y_pred_proba)\n",
    "auc = metrics.roc_auc_score(y_test, y_pred_proba)\n",
    "plt.plot(fpr,tpr,label=\"data 1, auc=\"+str(auc))\n",
    "plt.legend(loc=4)\n",
    "plt.show()"
   ]
  }
 ],
 "metadata": {
  "kernelspec": {
   "display_name": "Python 3",
   "language": "python",
   "name": "python3"
  },
  "language_info": {
   "codemirror_mode": {
    "name": "ipython",
    "version": 3
   },
   "file_extension": ".py",
   "mimetype": "text/x-python",
   "name": "python",
   "nbconvert_exporter": "python",
   "pygments_lexer": "ipython3",
   "version": "3.9.6"
  }
 },
 "nbformat": 4,
 "nbformat_minor": 5
}

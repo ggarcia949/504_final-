{
  "nbformat": 4,
  "nbformat_minor": 0,
  "metadata": {
    "colab": {
      "name": "504_final .ipynb",
      "provenance": [],
      "collapsed_sections": [],
      "authorship_tag": "ABX9TyNX4gMqeTOkLCOzSTDzFtqb",
      "include_colab_link": true
    },
    "kernelspec": {
      "name": "python3",
      "display_name": "Python 3"
    },
    "language_info": {
      "name": "python"
    }
  },
  "cells": [
    {
      "cell_type": "markdown",
      "metadata": {
        "id": "view-in-github",
        "colab_type": "text"
      },
      "source": [
        "<a href=\"https://colab.research.google.com/github/ggarcia949/504_final-/blob/main/504_final_.ipynb\" target=\"_parent\"><img src=\"https://colab.research.google.com/assets/colab-badge.svg\" alt=\"Open In Colab\"/></a>"
      ]
    },
    {
      "cell_type": "code",
      "source": [
        "from google.colab import drive\n",
        "drive.mount('/content/drive')"
      ],
      "metadata": {
        "id": "soVCvLe0A98H"
      },
      "execution_count": null,
      "outputs": []
    },
    {
      "cell_type": "markdown",
      "source": [
        "504 Final project "
      ],
      "metadata": {
        "id": "N1OTg7z8CXLY"
      }
    },
    {
      "cell_type": "markdown",
      "source": [
        "project description "
      ],
      "metadata": {
        "id": "19MuqzQXCbtN"
      }
    },
    {
      "cell_type": "markdown",
      "source": [
        "Packages\n",
        "  Package Requirements\n"
      ],
      "metadata": {
        "id": "lQw4D2LcCgzx"
      }
    },
    {
      "cell_type": "code",
      "source": [
        "# All you may need as the IMPORTS :)\n",
        "import pandas as pd\n",
        "import numpy as np\n",
        "import json\n",
        "import os\n",
        "import matplotlib.pyplot as plt\n",
        "import seaborn as sns\n",
        "import json\n",
        "from sklearn.preprocessing import OneHotEncoder, OrdinalEncoder, LabelEncoder, StandardScaler, Normalizer\n",
        "from sklearn.compose import ColumnTransformer\n",
        "from sklearn.impute import SimpleImputer\n",
        "from sklearn.metrics import confusion_matrix, accuracy_score, plot_confusion_matrix, classification_report\n",
        "from sklearn.model_selection import train_test_split, cross_val_score\n",
        "from sklearn.pipeline import make_pipeline, Pipeline\n",
        "from sklearn.feature_extraction.text import TfidfVectorizer\n",
        "from sklearn.feature_selection import SelectKBest, chi2\n",
        "from sklearn.linear_model import Perceptron\n",
        "from sklearn.preprocessing import StandardScaler"
      ],
      "metadata": {
        "id": "360dZkJAliw1"
      },
      "execution_count": 15,
      "outputs": []
    },
    {
      "cell_type": "markdown",
      "source": [
        "EDTA"
      ],
      "metadata": {
        "id": "xnWUjlO9Ce55"
      }
    },
    {
      "cell_type": "markdown",
      "source": [
        "Data Importing and Pre-processing\n",
        "  Data Importing and Pre-processing\n",
        "Dataset Description"
      ],
      "metadata": {
        "id": "GKLImJY5DFBO"
      }
    },
    {
      "cell_type": "code",
      "source": [
        "#importing the data \n",
        "df1= pd.read_csv('/content/get_it_done_311_requests_dictionary_datasd.csv')\n",
        "df2= pd.read_csv('/content/pothole_requests_datasd_v1.csv')"
      ],
      "metadata": {
        "id": "Y-mnmnCNl1Sx"
      },
      "execution_count": 2,
      "outputs": []
    },
    {
      "cell_type": "code",
      "source": [
        "#seeing the data \n",
        "df1.describe()"
      ],
      "metadata": {
        "colab": {
          "base_uri": "https://localhost:8080/",
          "height": 175
        },
        "id": "YhoTrqMVmcj7",
        "outputId": "4c6366bc-faeb-4b9e-d8f6-0202530780aa"
      },
      "execution_count": 4,
      "outputs": [
        {
          "output_type": "execute_result",
          "data": {
            "text/plain": [
              "                     field                                        description  \\\n",
              "count                   12                                                 12   \n",
              "unique                  12                                                 12   \n",
              "top     service_request_id  A unique identifier for each request that also...   \n",
              "freq                     1                                                  1   \n",
              "\n",
              "                     possible_values  \n",
              "count                              3  \n",
              "unique                             3  \n",
              "top     See list of services dataset  \n",
              "freq                               1  "
            ],
            "text/html": [
              "\n",
              "  <div id=\"df-8de3b1fd-17d6-4d16-82f6-f5bb984ebd7c\">\n",
              "    <div class=\"colab-df-container\">\n",
              "      <div>\n",
              "<style scoped>\n",
              "    .dataframe tbody tr th:only-of-type {\n",
              "        vertical-align: middle;\n",
              "    }\n",
              "\n",
              "    .dataframe tbody tr th {\n",
              "        vertical-align: top;\n",
              "    }\n",
              "\n",
              "    .dataframe thead th {\n",
              "        text-align: right;\n",
              "    }\n",
              "</style>\n",
              "<table border=\"1\" class=\"dataframe\">\n",
              "  <thead>\n",
              "    <tr style=\"text-align: right;\">\n",
              "      <th></th>\n",
              "      <th>field</th>\n",
              "      <th>description</th>\n",
              "      <th>possible_values</th>\n",
              "    </tr>\n",
              "  </thead>\n",
              "  <tbody>\n",
              "    <tr>\n",
              "      <th>count</th>\n",
              "      <td>12</td>\n",
              "      <td>12</td>\n",
              "      <td>3</td>\n",
              "    </tr>\n",
              "    <tr>\n",
              "      <th>unique</th>\n",
              "      <td>12</td>\n",
              "      <td>12</td>\n",
              "      <td>3</td>\n",
              "    </tr>\n",
              "    <tr>\n",
              "      <th>top</th>\n",
              "      <td>service_request_id</td>\n",
              "      <td>A unique identifier for each request that also...</td>\n",
              "      <td>See list of services dataset</td>\n",
              "    </tr>\n",
              "    <tr>\n",
              "      <th>freq</th>\n",
              "      <td>1</td>\n",
              "      <td>1</td>\n",
              "      <td>1</td>\n",
              "    </tr>\n",
              "  </tbody>\n",
              "</table>\n",
              "</div>\n",
              "      <button class=\"colab-df-convert\" onclick=\"convertToInteractive('df-8de3b1fd-17d6-4d16-82f6-f5bb984ebd7c')\"\n",
              "              title=\"Convert this dataframe to an interactive table.\"\n",
              "              style=\"display:none;\">\n",
              "        \n",
              "  <svg xmlns=\"http://www.w3.org/2000/svg\" height=\"24px\"viewBox=\"0 0 24 24\"\n",
              "       width=\"24px\">\n",
              "    <path d=\"M0 0h24v24H0V0z\" fill=\"none\"/>\n",
              "    <path d=\"M18.56 5.44l.94 2.06.94-2.06 2.06-.94-2.06-.94-.94-2.06-.94 2.06-2.06.94zm-11 1L8.5 8.5l.94-2.06 2.06-.94-2.06-.94L8.5 2.5l-.94 2.06-2.06.94zm10 10l.94 2.06.94-2.06 2.06-.94-2.06-.94-.94-2.06-.94 2.06-2.06.94z\"/><path d=\"M17.41 7.96l-1.37-1.37c-.4-.4-.92-.59-1.43-.59-.52 0-1.04.2-1.43.59L10.3 9.45l-7.72 7.72c-.78.78-.78 2.05 0 2.83L4 21.41c.39.39.9.59 1.41.59.51 0 1.02-.2 1.41-.59l7.78-7.78 2.81-2.81c.8-.78.8-2.07 0-2.86zM5.41 20L4 18.59l7.72-7.72 1.47 1.35L5.41 20z\"/>\n",
              "  </svg>\n",
              "      </button>\n",
              "      \n",
              "  <style>\n",
              "    .colab-df-container {\n",
              "      display:flex;\n",
              "      flex-wrap:wrap;\n",
              "      gap: 12px;\n",
              "    }\n",
              "\n",
              "    .colab-df-convert {\n",
              "      background-color: #E8F0FE;\n",
              "      border: none;\n",
              "      border-radius: 50%;\n",
              "      cursor: pointer;\n",
              "      display: none;\n",
              "      fill: #1967D2;\n",
              "      height: 32px;\n",
              "      padding: 0 0 0 0;\n",
              "      width: 32px;\n",
              "    }\n",
              "\n",
              "    .colab-df-convert:hover {\n",
              "      background-color: #E2EBFA;\n",
              "      box-shadow: 0px 1px 2px rgba(60, 64, 67, 0.3), 0px 1px 3px 1px rgba(60, 64, 67, 0.15);\n",
              "      fill: #174EA6;\n",
              "    }\n",
              "\n",
              "    [theme=dark] .colab-df-convert {\n",
              "      background-color: #3B4455;\n",
              "      fill: #D2E3FC;\n",
              "    }\n",
              "\n",
              "    [theme=dark] .colab-df-convert:hover {\n",
              "      background-color: #434B5C;\n",
              "      box-shadow: 0px 1px 3px 1px rgba(0, 0, 0, 0.15);\n",
              "      filter: drop-shadow(0px 1px 2px rgba(0, 0, 0, 0.3));\n",
              "      fill: #FFFFFF;\n",
              "    }\n",
              "  </style>\n",
              "\n",
              "      <script>\n",
              "        const buttonEl =\n",
              "          document.querySelector('#df-8de3b1fd-17d6-4d16-82f6-f5bb984ebd7c button.colab-df-convert');\n",
              "        buttonEl.style.display =\n",
              "          google.colab.kernel.accessAllowed ? 'block' : 'none';\n",
              "\n",
              "        async function convertToInteractive(key) {\n",
              "          const element = document.querySelector('#df-8de3b1fd-17d6-4d16-82f6-f5bb984ebd7c');\n",
              "          const dataTable =\n",
              "            await google.colab.kernel.invokeFunction('convertToInteractive',\n",
              "                                                     [key], {});\n",
              "          if (!dataTable) return;\n",
              "\n",
              "          const docLinkHtml = 'Like what you see? Visit the ' +\n",
              "            '<a target=\"_blank\" href=https://colab.research.google.com/notebooks/data_table.ipynb>data table notebook</a>'\n",
              "            + ' to learn more about interactive tables.';\n",
              "          element.innerHTML = '';\n",
              "          dataTable['output_type'] = 'display_data';\n",
              "          await google.colab.output.renderOutput(dataTable, element);\n",
              "          const docLink = document.createElement('div');\n",
              "          docLink.innerHTML = docLinkHtml;\n",
              "          element.appendChild(docLink);\n",
              "        }\n",
              "      </script>\n",
              "    </div>\n",
              "  </div>\n",
              "  "
            ]
          },
          "metadata": {},
          "execution_count": 4
        }
      ]
    },
    {
      "cell_type": "code",
      "source": [
        "df2.describe()"
      ],
      "metadata": {
        "colab": {
          "base_uri": "https://localhost:8080/",
          "height": 300
        },
        "id": "WnXPvRWjnAD2",
        "outputId": "e0475959-2c9d-4e63-a05f-98aa29e1b181"
      },
      "execution_count": 5,
      "outputs": [
        {
          "output_type": "execute_result",
          "data": {
            "text/plain": [
              "       service_request_id  service_request_parent_id  sap_notification_number  \\\n",
              "count        8.479100e+04               2.871100e+04             5.315400e+04   \n",
              "mean         1.684091e+06               1.486583e+06             7.549938e+10   \n",
              "std          1.329102e+06               1.342107e+06             5.160382e+10   \n",
              "min          8.050800e+04               5.235200e+04             4.030000e+10   \n",
              "25%          1.803825e+05               1.479480e+05             4.030012e+10   \n",
              "50%          2.495834e+06               3.667320e+05             4.030029e+10   \n",
              "75%          2.861530e+06               2.822132e+06             1.500008e+11   \n",
              "max          3.437976e+06               3.437089e+06             5.000001e+11   \n",
              "\n",
              "       case_age_days           lat           lng       zipcode  \\\n",
              "count   83463.000000  84755.000000  84755.000000  59368.000000   \n",
              "mean       26.954687     32.795878   -117.099512  92111.570594   \n",
              "std        55.207168      0.627322      2.348127     23.148242   \n",
              "min      -245.000000    -43.578128   -123.068018  91911.000000   \n",
              "25%         4.000000     32.746661   -117.196366  92105.000000   \n",
              "50%        11.000000     32.790733   -117.145091  92114.000000   \n",
              "75%        27.000000     32.840988   -117.095187  92123.000000   \n",
              "max      1426.000000     52.027394    172.709463  92182.000000   \n",
              "\n",
              "       council_district  comm_plan_code  \n",
              "count      84543.000000    84533.000000  \n",
              "mean           4.702956       28.925437  \n",
              "std            2.484889       21.788180  \n",
              "min            1.000000        1.000000  \n",
              "25%            2.000000       12.000000  \n",
              "50%            5.000000       27.000000  \n",
              "75%            7.000000       42.000000  \n",
              "max            9.000000       99.000000  "
            ],
            "text/html": [
              "\n",
              "  <div id=\"df-0f575844-e499-4db5-9269-45d159d63a2b\">\n",
              "    <div class=\"colab-df-container\">\n",
              "      <div>\n",
              "<style scoped>\n",
              "    .dataframe tbody tr th:only-of-type {\n",
              "        vertical-align: middle;\n",
              "    }\n",
              "\n",
              "    .dataframe tbody tr th {\n",
              "        vertical-align: top;\n",
              "    }\n",
              "\n",
              "    .dataframe thead th {\n",
              "        text-align: right;\n",
              "    }\n",
              "</style>\n",
              "<table border=\"1\" class=\"dataframe\">\n",
              "  <thead>\n",
              "    <tr style=\"text-align: right;\">\n",
              "      <th></th>\n",
              "      <th>service_request_id</th>\n",
              "      <th>service_request_parent_id</th>\n",
              "      <th>sap_notification_number</th>\n",
              "      <th>case_age_days</th>\n",
              "      <th>lat</th>\n",
              "      <th>lng</th>\n",
              "      <th>zipcode</th>\n",
              "      <th>council_district</th>\n",
              "      <th>comm_plan_code</th>\n",
              "    </tr>\n",
              "  </thead>\n",
              "  <tbody>\n",
              "    <tr>\n",
              "      <th>count</th>\n",
              "      <td>8.479100e+04</td>\n",
              "      <td>2.871100e+04</td>\n",
              "      <td>5.315400e+04</td>\n",
              "      <td>83463.000000</td>\n",
              "      <td>84755.000000</td>\n",
              "      <td>84755.000000</td>\n",
              "      <td>59368.000000</td>\n",
              "      <td>84543.000000</td>\n",
              "      <td>84533.000000</td>\n",
              "    </tr>\n",
              "    <tr>\n",
              "      <th>mean</th>\n",
              "      <td>1.684091e+06</td>\n",
              "      <td>1.486583e+06</td>\n",
              "      <td>7.549938e+10</td>\n",
              "      <td>26.954687</td>\n",
              "      <td>32.795878</td>\n",
              "      <td>-117.099512</td>\n",
              "      <td>92111.570594</td>\n",
              "      <td>4.702956</td>\n",
              "      <td>28.925437</td>\n",
              "    </tr>\n",
              "    <tr>\n",
              "      <th>std</th>\n",
              "      <td>1.329102e+06</td>\n",
              "      <td>1.342107e+06</td>\n",
              "      <td>5.160382e+10</td>\n",
              "      <td>55.207168</td>\n",
              "      <td>0.627322</td>\n",
              "      <td>2.348127</td>\n",
              "      <td>23.148242</td>\n",
              "      <td>2.484889</td>\n",
              "      <td>21.788180</td>\n",
              "    </tr>\n",
              "    <tr>\n",
              "      <th>min</th>\n",
              "      <td>8.050800e+04</td>\n",
              "      <td>5.235200e+04</td>\n",
              "      <td>4.030000e+10</td>\n",
              "      <td>-245.000000</td>\n",
              "      <td>-43.578128</td>\n",
              "      <td>-123.068018</td>\n",
              "      <td>91911.000000</td>\n",
              "      <td>1.000000</td>\n",
              "      <td>1.000000</td>\n",
              "    </tr>\n",
              "    <tr>\n",
              "      <th>25%</th>\n",
              "      <td>1.803825e+05</td>\n",
              "      <td>1.479480e+05</td>\n",
              "      <td>4.030012e+10</td>\n",
              "      <td>4.000000</td>\n",
              "      <td>32.746661</td>\n",
              "      <td>-117.196366</td>\n",
              "      <td>92105.000000</td>\n",
              "      <td>2.000000</td>\n",
              "      <td>12.000000</td>\n",
              "    </tr>\n",
              "    <tr>\n",
              "      <th>50%</th>\n",
              "      <td>2.495834e+06</td>\n",
              "      <td>3.667320e+05</td>\n",
              "      <td>4.030029e+10</td>\n",
              "      <td>11.000000</td>\n",
              "      <td>32.790733</td>\n",
              "      <td>-117.145091</td>\n",
              "      <td>92114.000000</td>\n",
              "      <td>5.000000</td>\n",
              "      <td>27.000000</td>\n",
              "    </tr>\n",
              "    <tr>\n",
              "      <th>75%</th>\n",
              "      <td>2.861530e+06</td>\n",
              "      <td>2.822132e+06</td>\n",
              "      <td>1.500008e+11</td>\n",
              "      <td>27.000000</td>\n",
              "      <td>32.840988</td>\n",
              "      <td>-117.095187</td>\n",
              "      <td>92123.000000</td>\n",
              "      <td>7.000000</td>\n",
              "      <td>42.000000</td>\n",
              "    </tr>\n",
              "    <tr>\n",
              "      <th>max</th>\n",
              "      <td>3.437976e+06</td>\n",
              "      <td>3.437089e+06</td>\n",
              "      <td>5.000001e+11</td>\n",
              "      <td>1426.000000</td>\n",
              "      <td>52.027394</td>\n",
              "      <td>172.709463</td>\n",
              "      <td>92182.000000</td>\n",
              "      <td>9.000000</td>\n",
              "      <td>99.000000</td>\n",
              "    </tr>\n",
              "  </tbody>\n",
              "</table>\n",
              "</div>\n",
              "      <button class=\"colab-df-convert\" onclick=\"convertToInteractive('df-0f575844-e499-4db5-9269-45d159d63a2b')\"\n",
              "              title=\"Convert this dataframe to an interactive table.\"\n",
              "              style=\"display:none;\">\n",
              "        \n",
              "  <svg xmlns=\"http://www.w3.org/2000/svg\" height=\"24px\"viewBox=\"0 0 24 24\"\n",
              "       width=\"24px\">\n",
              "    <path d=\"M0 0h24v24H0V0z\" fill=\"none\"/>\n",
              "    <path d=\"M18.56 5.44l.94 2.06.94-2.06 2.06-.94-2.06-.94-.94-2.06-.94 2.06-2.06.94zm-11 1L8.5 8.5l.94-2.06 2.06-.94-2.06-.94L8.5 2.5l-.94 2.06-2.06.94zm10 10l.94 2.06.94-2.06 2.06-.94-2.06-.94-.94-2.06-.94 2.06-2.06.94z\"/><path d=\"M17.41 7.96l-1.37-1.37c-.4-.4-.92-.59-1.43-.59-.52 0-1.04.2-1.43.59L10.3 9.45l-7.72 7.72c-.78.78-.78 2.05 0 2.83L4 21.41c.39.39.9.59 1.41.59.51 0 1.02-.2 1.41-.59l7.78-7.78 2.81-2.81c.8-.78.8-2.07 0-2.86zM5.41 20L4 18.59l7.72-7.72 1.47 1.35L5.41 20z\"/>\n",
              "  </svg>\n",
              "      </button>\n",
              "      \n",
              "  <style>\n",
              "    .colab-df-container {\n",
              "      display:flex;\n",
              "      flex-wrap:wrap;\n",
              "      gap: 12px;\n",
              "    }\n",
              "\n",
              "    .colab-df-convert {\n",
              "      background-color: #E8F0FE;\n",
              "      border: none;\n",
              "      border-radius: 50%;\n",
              "      cursor: pointer;\n",
              "      display: none;\n",
              "      fill: #1967D2;\n",
              "      height: 32px;\n",
              "      padding: 0 0 0 0;\n",
              "      width: 32px;\n",
              "    }\n",
              "\n",
              "    .colab-df-convert:hover {\n",
              "      background-color: #E2EBFA;\n",
              "      box-shadow: 0px 1px 2px rgba(60, 64, 67, 0.3), 0px 1px 3px 1px rgba(60, 64, 67, 0.15);\n",
              "      fill: #174EA6;\n",
              "    }\n",
              "\n",
              "    [theme=dark] .colab-df-convert {\n",
              "      background-color: #3B4455;\n",
              "      fill: #D2E3FC;\n",
              "    }\n",
              "\n",
              "    [theme=dark] .colab-df-convert:hover {\n",
              "      background-color: #434B5C;\n",
              "      box-shadow: 0px 1px 3px 1px rgba(0, 0, 0, 0.15);\n",
              "      filter: drop-shadow(0px 1px 2px rgba(0, 0, 0, 0.3));\n",
              "      fill: #FFFFFF;\n",
              "    }\n",
              "  </style>\n",
              "\n",
              "      <script>\n",
              "        const buttonEl =\n",
              "          document.querySelector('#df-0f575844-e499-4db5-9269-45d159d63a2b button.colab-df-convert');\n",
              "        buttonEl.style.display =\n",
              "          google.colab.kernel.accessAllowed ? 'block' : 'none';\n",
              "\n",
              "        async function convertToInteractive(key) {\n",
              "          const element = document.querySelector('#df-0f575844-e499-4db5-9269-45d159d63a2b');\n",
              "          const dataTable =\n",
              "            await google.colab.kernel.invokeFunction('convertToInteractive',\n",
              "                                                     [key], {});\n",
              "          if (!dataTable) return;\n",
              "\n",
              "          const docLinkHtml = 'Like what you see? Visit the ' +\n",
              "            '<a target=\"_blank\" href=https://colab.research.google.com/notebooks/data_table.ipynb>data table notebook</a>'\n",
              "            + ' to learn more about interactive tables.';\n",
              "          element.innerHTML = '';\n",
              "          dataTable['output_type'] = 'display_data';\n",
              "          await google.colab.output.renderOutput(dataTable, element);\n",
              "          const docLink = document.createElement('div');\n",
              "          docLink.innerHTML = docLinkHtml;\n",
              "          element.appendChild(docLink);\n",
              "        }\n",
              "      </script>\n",
              "    </div>\n",
              "  </div>\n",
              "  "
            ]
          },
          "metadata": {},
          "execution_count": 5
        }
      ]
    },
    {
      "cell_type": "code",
      "source": [
        "df2.isna().sum()"
      ],
      "metadata": {
        "colab": {
          "base_uri": "https://localhost:8080/"
        },
        "id": "Lee4Og91nEVR",
        "outputId": "80844e38-94ef-4345-bf01-0d557e40b4a9"
      },
      "execution_count": 10,
      "outputs": [
        {
          "output_type": "execute_result",
          "data": {
            "text/plain": [
              "service_request_id               0\n",
              "service_request_parent_id    56080\n",
              "sap_notification_number      31637\n",
              "date_requested                   0\n",
              "case_age_days                 1328\n",
              "case_record_type                 0\n",
              "service_name                     0\n",
              "service_name_detail              6\n",
              "date_closed                   2610\n",
              "status                           0\n",
              "lat                             36\n",
              "lng                             36\n",
              "street_address                  98\n",
              "zipcode                      25423\n",
              "council_district               248\n",
              "comm_plan_code                 258\n",
              "comm_plan_name                 258\n",
              "park_name                    83826\n",
              "case_origin                      0\n",
              "referred                     82297\n",
              "public_description            7892\n",
              "iamfloc                      31403\n",
              "floc                          1231\n",
              "public_url                       0\n",
              "dtype: int64"
            ]
          },
          "metadata": {},
          "execution_count": 10
        }
      ]
    },
    {
      "cell_type": "code",
      "source": [
        "df1.isna().sum()"
      ],
      "metadata": {
        "colab": {
          "base_uri": "https://localhost:8080/"
        },
        "id": "nP_33QZqnequ",
        "outputId": "60b51cd7-dfa2-43d5-8178-7b7faa2ba04d"
      },
      "execution_count": 11,
      "outputs": [
        {
          "output_type": "execute_result",
          "data": {
            "text/plain": [
              "field              0\n",
              "description        0\n",
              "possible_values    9\n",
              "dtype: int64"
            ]
          },
          "metadata": {},
          "execution_count": 11
        }
      ]
    },
    {
      "cell_type": "code",
      "source": [
        "corr=df2.corr()"
      ],
      "metadata": {
        "id": "ZXcvBfZcnx3q"
      },
      "execution_count": 13,
      "outputs": []
    },
    {
      "cell_type": "code",
      "source": [
        "cmap = sns.diverging_palette(220, 20, as_cmap=True)\n",
        "plt.figure(figsize = (14,7))\n",
        "sns.heatmap(corr, \n",
        "            cmap = cmap,\n",
        "            annot = True , \n",
        "            fmt = '.2f')"
      ],
      "metadata": {
        "colab": {
          "base_uri": "https://localhost:8080/",
          "height": 570
        },
        "id": "EDF-NDNWooip",
        "outputId": "1f6285cf-9592-482b-b9c3-80ee7d2d50ff"
      },
      "execution_count": 14,
      "outputs": [
        {
          "output_type": "execute_result",
          "data": {
            "text/plain": [
              "<matplotlib.axes._subplots.AxesSubplot at 0x7f4aa2f0edd0>"
            ]
          },
          "metadata": {},
          "execution_count": 14
        },
        {
          "output_type": "display_data",
          "data": {
            "text/plain": [
              "<Figure size 1008x504 with 2 Axes>"
            ],
            "image/png": "[encoded data removed]"
          },
          "metadata": {
            "needs_background": "light"
          }
        }
      ]
    },
    {
      "cell_type": "code",
      "source": [
        ""
      ],
      "metadata": {
        "id": "7tB1nRXirHAQ"
      },
      "execution_count": null,
      "outputs": []
    },
    {
      "cell_type": "code",
      "source": [
        "#PCA before we imputate the missing number?\n",
        "features = []\n",
        "# Separating out the features\n",
        "x = df2.loc[:, features].values\n",
        "# Separating out the target\n",
        "y = df2.loc[:,['target']].values\n",
        "# Standardizing the features\n",
        "x = StandardScaler().fit_transform(x)"
      ],
      "metadata": {
        "id": "xarFh7XRpnwx"
      },
      "execution_count": null,
      "outputs": []
    },
    {
      "cell_type": "markdown",
      "source": [
        "Data Analysis and Visualization"
      ],
      "metadata": {
        "id": "CxItGgzUDYW_"
      }
    },
    {
      "cell_type": "markdown",
      "source": [
        "# modeling"
      ],
      "metadata": {
        "id": "Y1xAPTu5Cjtt"
      }
    },
    {
      "cell_type": "markdown",
      "source": [
        ""
      ],
      "metadata": {
        "id": "WAc9x2qsCWn-"
      }
    }
  ]
}
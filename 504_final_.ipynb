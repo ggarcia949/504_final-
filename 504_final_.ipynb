{
  "nbformat": 4,
  "nbformat_minor": 0,
  "metadata": {
    "colab": {
      "name": "504_final .ipynb",
      "provenance": [],
      "collapsed_sections": [],
      "authorship_tag": "ABX9TyN/kAV6yt0atE70XpqQK0GM",
      "include_colab_link": true
    },
    "kernelspec": {
      "name": "python3",
      "display_name": "Python 3"
    },
    "language_info": {
      "name": "python"
    }
  },
  "cells": [
    {
      "cell_type": "markdown",
      "metadata": {
        "id": "view-in-github",
        "colab_type": "text"
      },
      "source": [
        "<a href=\"https://colab.research.google.com/github/ggarcia949/504_final-/blob/main/504_final_.ipynb\" target=\"_parent\"><img src=\"https://colab.research.google.com/assets/colab-badge.svg\" alt=\"Open In Colab\"/></a>"
      ]
    },
    {
      "cell_type": "code",
      "source": [
        "from google.colab import drive\n",
        "drive.mount('/content/drive')"
      ],
      "metadata": {
        "id": "soVCvLe0A98H"
      },
      "execution_count": null,
      "outputs": []
    },
    {
      "cell_type": "markdown",
      "source": [
        "504 Final project "
      ],
      "metadata": {
        "id": "N1OTg7z8CXLY"
      }
    },
    {
      "cell_type": "markdown",
      "source": [
        "project description "
      ],
      "metadata": {
        "id": "19MuqzQXCbtN"
      }
    },
    {
      "cell_type": "markdown",
      "source": [
        "Packages\n",
        "  Package Requirements\n"
      ],
      "metadata": {
        "id": "lQw4D2LcCgzx"
      }
    },
    {
      "cell_type": "markdown",
      "source": [
        "EDTA"
      ],
      "metadata": {
        "id": "xnWUjlO9Ce55"
      }
    },
    {
      "cell_type": "markdown",
      "source": [
        "Data Importing and Pre-processing\n",
        "  Data Importing and Pre-processing\n",
        "Dataset Description"
      ],
      "metadata": {
        "id": "GKLImJY5DFBO"
      }
    },
    {
      "cell_type": "markdown",
      "source": [
        "Data Analysis and Visualization"
      ],
      "metadata": {
        "id": "CxItGgzUDYW_"
      }
    },
    {
      "cell_type": "markdown",
      "source": [
        "# modeling"
      ],
      "metadata": {
        "id": "Y1xAPTu5Cjtt"
      }
    },
    {
      "cell_type": "markdown",
      "source": [
        ""
      ],
      "metadata": {
        "id": "WAc9x2qsCWn-"
      }
    }
  ]
}
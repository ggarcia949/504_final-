{
 "cells": [
  {
   "cell_type": "code",
   "execution_count": 1,
   "id": "d34d871a",
   "metadata": {},
   "outputs": [],
   "source": [
    "import numpy as np\n",
    "import pandas as pd\n",
    "import os\n",
    "import matplotlib"
   ]
  },
  {
   "cell_type": "code",
   "execution_count": 3,
   "id": "3eb545f3",
   "metadata": {},
   "outputs": [
    {
     "data": {
      "text/html": [
       "<div>\n",
       "<style scoped>\n",
       "    .dataframe tbody tr th:only-of-type {\n",
       "        vertical-align: middle;\n",
       "    }\n",
       "\n",
       "    .dataframe tbody tr th {\n",
       "        vertical-align: top;\n",
       "    }\n",
       "\n",
       "    .dataframe thead th {\n",
       "        text-align: right;\n",
       "    }\n",
       "</style>\n",
       "<table border=\"1\" class=\"dataframe\">\n",
       "  <thead>\n",
       "    <tr style=\"text-align: right;\">\n",
       "      <th></th>\n",
       "      <th>service_request_id</th>\n",
       "      <th>service_request_parent_id</th>\n",
       "      <th>sap_notification_number</th>\n",
       "      <th>date_requested</th>\n",
       "      <th>case_age_days</th>\n",
       "      <th>case_record_type</th>\n",
       "      <th>service_name</th>\n",
       "      <th>service_name_detail</th>\n",
       "      <th>date_closed</th>\n",
       "      <th>status</th>\n",
       "      <th>...</th>\n",
       "      <th>council_district</th>\n",
       "      <th>comm_plan_code</th>\n",
       "      <th>comm_plan_name</th>\n",
       "      <th>park_name</th>\n",
       "      <th>case_origin</th>\n",
       "      <th>referred</th>\n",
       "      <th>public_description</th>\n",
       "      <th>iamfloc</th>\n",
       "      <th>floc</th>\n",
       "      <th>public_url</th>\n",
       "    </tr>\n",
       "  </thead>\n",
       "  <tbody>\n",
       "    <tr>\n",
       "      <th>0</th>\n",
       "      <td>80508</td>\n",
       "      <td>52352.0</td>\n",
       "      <td>NaN</td>\n",
       "      <td>2016-05-20T08:55:00</td>\n",
       "      <td>0.0</td>\n",
       "      <td>TSW</td>\n",
       "      <td>Pothole</td>\n",
       "      <td>STREET - Streets and Alleys Pothole</td>\n",
       "      <td>2016-05-20T00:00:00</td>\n",
       "      <td>Closed</td>\n",
       "      <td>...</td>\n",
       "      <td>2.0</td>\n",
       "      <td>6.0</td>\n",
       "      <td>Clairemont Mesa</td>\n",
       "      <td>NaN</td>\n",
       "      <td>Phone</td>\n",
       "      <td>NaN</td>\n",
       "      <td>test only, please dont create a notification</td>\n",
       "      <td>NaN</td>\n",
       "      <td>NaN</td>\n",
       "      <td>https://getitdone.force.com//TSWViewReportDeta...</td>\n",
       "    </tr>\n",
       "    <tr>\n",
       "      <th>1</th>\n",
       "      <td>80510</td>\n",
       "      <td>NaN</td>\n",
       "      <td>NaN</td>\n",
       "      <td>2016-05-20T09:05:00</td>\n",
       "      <td>0.0</td>\n",
       "      <td>TSW</td>\n",
       "      <td>Pothole</td>\n",
       "      <td>STREET - Streets and Alleys Pothole</td>\n",
       "      <td>2016-05-20T00:00:00</td>\n",
       "      <td>Closed</td>\n",
       "      <td>...</td>\n",
       "      <td>3.0</td>\n",
       "      <td>4.0</td>\n",
       "      <td>Downtown</td>\n",
       "      <td>NaN</td>\n",
       "      <td>Web</td>\n",
       "      <td>NaN</td>\n",
       "      <td>Test Only - Please close</td>\n",
       "      <td>NaN</td>\n",
       "      <td>SS-000222</td>\n",
       "      <td>https://getitdone.force.com//TSWViewReportDeta...</td>\n",
       "    </tr>\n",
       "    <tr>\n",
       "      <th>2</th>\n",
       "      <td>80518</td>\n",
       "      <td>NaN</td>\n",
       "      <td>1.500007e+11</td>\n",
       "      <td>2016-05-20T09:31:00</td>\n",
       "      <td>18.0</td>\n",
       "      <td>TSW</td>\n",
       "      <td>Pothole</td>\n",
       "      <td>STREET - Streets and Alleys Pothole</td>\n",
       "      <td>2016-06-07T00:00:00</td>\n",
       "      <td>Closed</td>\n",
       "      <td>...</td>\n",
       "      <td>9.0</td>\n",
       "      <td>58.0</td>\n",
       "      <td>Mid-City:Kensington-Talmadge</td>\n",
       "      <td>NaN</td>\n",
       "      <td>Phone</td>\n",
       "      <td>NaN</td>\n",
       "      <td>4000 block of copeland just before you get on ...</td>\n",
       "      <td>NaN</td>\n",
       "      <td>SS-001014</td>\n",
       "      <td>https://getitdone.force.com//TSWViewReportDeta...</td>\n",
       "    </tr>\n",
       "    <tr>\n",
       "      <th>3</th>\n",
       "      <td>80531</td>\n",
       "      <td>NaN</td>\n",
       "      <td>1.500007e+11</td>\n",
       "      <td>2016-05-20T10:43:00</td>\n",
       "      <td>5.0</td>\n",
       "      <td>TSW</td>\n",
       "      <td>Pothole</td>\n",
       "      <td>STREET - Streets and Alleys Pothole</td>\n",
       "      <td>2016-05-25T00:00:00</td>\n",
       "      <td>Closed</td>\n",
       "      <td>...</td>\n",
       "      <td>1.0</td>\n",
       "      <td>40.0</td>\n",
       "      <td>Torrey Pines</td>\n",
       "      <td>NaN</td>\n",
       "      <td>Phone</td>\n",
       "      <td>NaN</td>\n",
       "      <td>LARGE P/H CAUSED VEHICLE DAMAGE</td>\n",
       "      <td>NaN</td>\n",
       "      <td>SS-022822</td>\n",
       "      <td>https://getitdone.force.com//TSWViewReportDeta...</td>\n",
       "    </tr>\n",
       "    <tr>\n",
       "      <th>4</th>\n",
       "      <td>80535</td>\n",
       "      <td>NaN</td>\n",
       "      <td>NaN</td>\n",
       "      <td>2016-05-20T11:14:00</td>\n",
       "      <td>0.0</td>\n",
       "      <td>TSW</td>\n",
       "      <td>Pothole</td>\n",
       "      <td>STREET - Streets and Alleys Pothole</td>\n",
       "      <td>2016-05-20T00:00:00</td>\n",
       "      <td>Closed</td>\n",
       "      <td>...</td>\n",
       "      <td>3.0</td>\n",
       "      <td>4.0</td>\n",
       "      <td>Downtown</td>\n",
       "      <td>NaN</td>\n",
       "      <td>Web</td>\n",
       "      <td>NaN</td>\n",
       "      <td>This is a test.  Please close when you receive.</td>\n",
       "      <td>NaN</td>\n",
       "      <td>SS-014279</td>\n",
       "      <td>https://getitdone.force.com//TSWViewReportDeta...</td>\n",
       "    </tr>\n",
       "  </tbody>\n",
       "</table>\n",
       "<p>5 rows × 24 columns</p>\n",
       "</div>"
      ],
      "text/plain": [
       "   service_request_id  service_request_parent_id  sap_notification_number  \\\n",
       "0               80508                    52352.0                      NaN   \n",
       "1               80510                        NaN                      NaN   \n",
       "2               80518                        NaN             1.500007e+11   \n",
       "3               80531                        NaN             1.500007e+11   \n",
       "4               80535                        NaN                      NaN   \n",
       "\n",
       "        date_requested  case_age_days case_record_type service_name  \\\n",
       "0  2016-05-20T08:55:00            0.0              TSW      Pothole   \n",
       "1  2016-05-20T09:05:00            0.0              TSW      Pothole   \n",
       "2  2016-05-20T09:31:00           18.0              TSW      Pothole   \n",
       "3  2016-05-20T10:43:00            5.0              TSW      Pothole   \n",
       "4  2016-05-20T11:14:00            0.0              TSW      Pothole   \n",
       "\n",
       "                   service_name_detail          date_closed  status  ...  \\\n",
       "0  STREET - Streets and Alleys Pothole  2016-05-20T00:00:00  Closed  ...   \n",
       "1  STREET - Streets and Alleys Pothole  2016-05-20T00:00:00  Closed  ...   \n",
       "2  STREET - Streets and Alleys Pothole  2016-06-07T00:00:00  Closed  ...   \n",
       "3  STREET - Streets and Alleys Pothole  2016-05-25T00:00:00  Closed  ...   \n",
       "4  STREET - Streets and Alleys Pothole  2016-05-20T00:00:00  Closed  ...   \n",
       "\n",
       "   council_district  comm_plan_code                comm_plan_name  park_name  \\\n",
       "0               2.0             6.0               Clairemont Mesa        NaN   \n",
       "1               3.0             4.0                      Downtown        NaN   \n",
       "2               9.0            58.0  Mid-City:Kensington-Talmadge        NaN   \n",
       "3               1.0            40.0                  Torrey Pines        NaN   \n",
       "4               3.0             4.0                      Downtown        NaN   \n",
       "\n",
       "   case_origin  referred                                 public_description  \\\n",
       "0        Phone       NaN       test only, please dont create a notification   \n",
       "1          Web       NaN                           Test Only - Please close   \n",
       "2        Phone       NaN  4000 block of copeland just before you get on ...   \n",
       "3        Phone       NaN                    LARGE P/H CAUSED VEHICLE DAMAGE   \n",
       "4          Web       NaN    This is a test.  Please close when you receive.   \n",
       "\n",
       "  iamfloc       floc                                         public_url  \n",
       "0     NaN        NaN  https://getitdone.force.com//TSWViewReportDeta...  \n",
       "1     NaN  SS-000222  https://getitdone.force.com//TSWViewReportDeta...  \n",
       "2     NaN  SS-001014  https://getitdone.force.com//TSWViewReportDeta...  \n",
       "3     NaN  SS-022822  https://getitdone.force.com//TSWViewReportDeta...  \n",
       "4     NaN  SS-014279  https://getitdone.force.com//TSWViewReportDeta...  \n",
       "\n",
       "[5 rows x 24 columns]"
      ]
     },
     "execution_count": 3,
     "metadata": {},
     "output_type": "execute_result"
    }
   ],
   "source": [
    "PH_data = pd.read_csv(\"/Users/Blaven/Desktop/Final Project 504/pothole_requests_datasd_v1 (1).csv\")\n",
    "PH_data.head()"
   ]
  },
  {
   "cell_type": "code",
   "execution_count": null,
   "id": "1ba21455",
   "metadata": {},
   "outputs": [],
   "source": [
    "PH_data.shape"
   ]
  },
  {
   "cell_type": "code",
   "execution_count": null,
   "id": "7e46e57f",
   "metadata": {},
   "outputs": [],
   "source": [
    "list(PH_data.columns)"
   ]
  },
  {
   "cell_type": "code",
   "execution_count": null,
   "id": "70b503cf",
   "metadata": {},
   "outputs": [],
   "source": [
    "case_days=PH_data[\"case_age_days\"].dropna()\n",
    "case_days=case_days.abs()\n",
    "temp1=case_days.unique().tolist()"
   ]
  },
  {
   "cell_type": "code",
   "execution_count": null,
   "id": "0b96fb84",
   "metadata": {},
   "outputs": [],
   "source": [
    "case_days.shape"
   ]
  },
  {
   "cell_type": "code",
   "execution_count": null,
   "id": "117df0b7",
   "metadata": {},
   "outputs": [],
   "source": [
    "max(temp1)"
   ]
  },
  {
   "cell_type": "code",
   "execution_count": null,
   "id": "17669f3c",
   "metadata": {},
   "outputs": [],
   "source": [
    "min(temp1)"
   ]
  },
  {
   "cell_type": "code",
   "execution_count": null,
   "id": "3173a115",
   "metadata": {},
   "outputs": [],
   "source": [
    "import matplotlib.pyplot as plt\n",
    "case_days.hist(bins=100)"
   ]
  },
  {
   "cell_type": "code",
   "execution_count": null,
   "id": "db1a0a0d",
   "metadata": {},
   "outputs": [],
   "source": [
    "84791-83463"
   ]
  },
  {
   "cell_type": "code",
   "execution_count": 4,
   "id": "d656cb48",
   "metadata": {},
   "outputs": [
    {
     "data": {
      "text/plain": [
       "(84791, 7)"
      ]
     },
     "execution_count": 4,
     "metadata": {},
     "output_type": "execute_result"
    }
   ],
   "source": [
    "N_Var= PH_data[[\"service_request_id\",\"case_age_days\",\"status\",\"case_record_type\",\"comm_plan_name\",\"case_origin\",\"public_description\"]]\n",
    "N_Var.shape"
   ]
  },
  {
   "cell_type": "code",
   "execution_count": 4,
   "id": "2fc7e35d",
   "metadata": {},
   "outputs": [
    {
     "data": {
      "text/plain": [
       "(84533,)"
      ]
     },
     "execution_count": 4,
     "metadata": {},
     "output_type": "execute_result"
    }
   ],
   "source": [
    "store2=PH_data[\"comm_plan_name\"].dropna()\n",
    "store2.shape"
   ]
  },
  {
   "cell_type": "code",
   "execution_count": 5,
   "id": "e6a181e9",
   "metadata": {},
   "outputs": [
    {
     "data": {
      "text/plain": [
       "(75400, 7)"
      ]
     },
     "execution_count": 5,
     "metadata": {},
     "output_type": "execute_result"
    }
   ],
   "source": [
    "N_Var=N_Var.dropna()\n",
    "N_Var.shape"
   ]
  },
  {
   "cell_type": "code",
   "execution_count": 6,
   "id": "acc5dcd4",
   "metadata": {},
   "outputs": [],
   "source": [
    "discard = [\"test\"]\n",
    "\n",
    "N_Var2=N_Var[~N_Var.public_description.str.contains('|'.join(discard))]\n",
    "N_Var3=N_Var2[~N_Var2.public_description.str.contains(\"Test\")]\n",
    "N_Var4=N_Var3[~N_Var3.public_description.str.contains(\"TEST\")]"
   ]
  },
  {
   "cell_type": "code",
   "execution_count": 7,
   "id": "43950a49",
   "metadata": {},
   "outputs": [
    {
     "data": {
      "text/plain": [
       "(75240, 7)"
      ]
     },
     "execution_count": 7,
     "metadata": {},
     "output_type": "execute_result"
    }
   ],
   "source": [
    "N_Var4.shape\n",
    "#76892"
   ]
  },
  {
   "cell_type": "code",
   "execution_count": 8,
   "id": "e133b146",
   "metadata": {},
   "outputs": [
    {
     "name": "stderr",
     "output_type": "stream",
     "text": [
      "<ipython-input-8-5adb02b2b196>:1: SettingWithCopyWarning: \n",
      "A value is trying to be set on a copy of a slice from a DataFrame.\n",
      "Try using .loc[row_indexer,col_indexer] = value instead\n",
      "\n",
      "See the caveats in the documentation: https://pandas.pydata.org/pandas-docs/stable/user_guide/indexing.html#returning-a-view-versus-a-copy\n",
      "  N_Var4[\"case_age_days\"]=abs(N_Var4[\"case_age_days\"])\n"
     ]
    },
    {
     "data": {
      "text/plain": [
       "(75240, 7)"
      ]
     },
     "execution_count": 8,
     "metadata": {},
     "output_type": "execute_result"
    }
   ],
   "source": [
    "N_Var4[\"case_age_days\"]=abs(N_Var4[\"case_age_days\"])\n",
    "N_Var4.shape"
   ]
  },
  {
   "cell_type": "code",
   "execution_count": 56,
   "id": "c9ea233b",
   "metadata": {},
   "outputs": [],
   "source": [
    "N_Var4.to_csv('/Users/Blaven/Desktop/temp3.csv', index=False)"
   ]
  },
  {
   "cell_type": "code",
   "execution_count": 13,
   "id": "69bc74d3",
   "metadata": {},
   "outputs": [
    {
     "data": {
      "text/html": [
       "<div>\n",
       "<style scoped>\n",
       "    .dataframe tbody tr th:only-of-type {\n",
       "        vertical-align: middle;\n",
       "    }\n",
       "\n",
       "    .dataframe tbody tr th {\n",
       "        vertical-align: top;\n",
       "    }\n",
       "\n",
       "    .dataframe thead th {\n",
       "        text-align: right;\n",
       "    }\n",
       "</style>\n",
       "<table border=\"1\" class=\"dataframe\">\n",
       "  <thead>\n",
       "    <tr style=\"text-align: right;\">\n",
       "      <th></th>\n",
       "      <th>service_request_id</th>\n",
       "      <th>case_age_days</th>\n",
       "      <th>status</th>\n",
       "      <th>case_record_type</th>\n",
       "      <th>comm_plan_name</th>\n",
       "      <th>case_origin</th>\n",
       "      <th>public_description</th>\n",
       "    </tr>\n",
       "  </thead>\n",
       "  <tbody>\n",
       "    <tr>\n",
       "      <th>2</th>\n",
       "      <td>80518</td>\n",
       "      <td>18.0</td>\n",
       "      <td>Closed</td>\n",
       "      <td>TSW</td>\n",
       "      <td>Mid-City:Kensington-Talmadge</td>\n",
       "      <td>Phone</td>\n",
       "      <td>4000 block of copeland just before you get on ...</td>\n",
       "    </tr>\n",
       "    <tr>\n",
       "      <th>3</th>\n",
       "      <td>80531</td>\n",
       "      <td>5.0</td>\n",
       "      <td>Closed</td>\n",
       "      <td>TSW</td>\n",
       "      <td>Torrey Pines</td>\n",
       "      <td>Phone</td>\n",
       "      <td>LARGE P/H CAUSED VEHICLE DAMAGE</td>\n",
       "    </tr>\n",
       "    <tr>\n",
       "      <th>5</th>\n",
       "      <td>80543</td>\n",
       "      <td>31.0</td>\n",
       "      <td>Closed</td>\n",
       "      <td>TSW</td>\n",
       "      <td>Pacific Beach</td>\n",
       "      <td>Phone</td>\n",
       "      <td>Caller reports cracks and potholes in alley</td>\n",
       "    </tr>\n",
       "    <tr>\n",
       "      <th>6</th>\n",
       "      <td>80547</td>\n",
       "      <td>344.0</td>\n",
       "      <td>Closed</td>\n",
       "      <td>TSW</td>\n",
       "      <td>Clairemont Mesa</td>\n",
       "      <td>Phone</td>\n",
       "      <td>Pothole in left turn lane going toward school</td>\n",
       "    </tr>\n",
       "    <tr>\n",
       "      <th>8</th>\n",
       "      <td>80577</td>\n",
       "      <td>34.0</td>\n",
       "      <td>Closed</td>\n",
       "      <td>TSW</td>\n",
       "      <td>San Pasqual</td>\n",
       "      <td>Phone</td>\n",
       "      <td>POTHOLE</td>\n",
       "    </tr>\n",
       "    <tr>\n",
       "      <th>...</th>\n",
       "      <td>...</td>\n",
       "      <td>...</td>\n",
       "      <td>...</td>\n",
       "      <td>...</td>\n",
       "      <td>...</td>\n",
       "      <td>...</td>\n",
       "      <td>...</td>\n",
       "    </tr>\n",
       "    <tr>\n",
       "      <th>84786</th>\n",
       "      <td>3437781</td>\n",
       "      <td>1.0</td>\n",
       "      <td>New</td>\n",
       "      <td>TSW</td>\n",
       "      <td>La Jolla</td>\n",
       "      <td>Web</td>\n",
       "      <td>From Via Avola to Hidden Valley (going down th...</td>\n",
       "    </tr>\n",
       "    <tr>\n",
       "      <th>84787</th>\n",
       "      <td>3437850</td>\n",
       "      <td>1.0</td>\n",
       "      <td>In Process</td>\n",
       "      <td>TSW</td>\n",
       "      <td>Clairemont Mesa</td>\n",
       "      <td>Phone</td>\n",
       "      <td>S/B GENESEE RIGHT BEFORE THE 52 ON RAMP- POTHO...</td>\n",
       "    </tr>\n",
       "    <tr>\n",
       "      <th>84788</th>\n",
       "      <td>3437886</td>\n",
       "      <td>1.0</td>\n",
       "      <td>In Process</td>\n",
       "      <td>TSW</td>\n",
       "      <td>Mid-City:Eastern Area</td>\n",
       "      <td>Web</td>\n",
       "      <td>There needs to be street resurfacing done to t...</td>\n",
       "    </tr>\n",
       "    <tr>\n",
       "      <th>84789</th>\n",
       "      <td>3437965</td>\n",
       "      <td>1.0</td>\n",
       "      <td>In Process</td>\n",
       "      <td>TSW</td>\n",
       "      <td>Uptown</td>\n",
       "      <td>Mobile</td>\n",
       "      <td>Severe pothole at street and garage entrance o...</td>\n",
       "    </tr>\n",
       "    <tr>\n",
       "      <th>84790</th>\n",
       "      <td>3437976</td>\n",
       "      <td>1.0</td>\n",
       "      <td>In Process</td>\n",
       "      <td>TSW</td>\n",
       "      <td>Downtown</td>\n",
       "      <td>Mobile</td>\n",
       "      <td>Pot hole whole street is messed up</td>\n",
       "    </tr>\n",
       "  </tbody>\n",
       "</table>\n",
       "<p>75240 rows × 7 columns</p>\n",
       "</div>"
      ],
      "text/plain": [
       "       service_request_id  case_age_days      status case_record_type  \\\n",
       "2                   80518           18.0      Closed              TSW   \n",
       "3                   80531            5.0      Closed              TSW   \n",
       "5                   80543           31.0      Closed              TSW   \n",
       "6                   80547          344.0      Closed              TSW   \n",
       "8                   80577           34.0      Closed              TSW   \n",
       "...                   ...            ...         ...              ...   \n",
       "84786             3437781            1.0         New              TSW   \n",
       "84787             3437850            1.0  In Process              TSW   \n",
       "84788             3437886            1.0  In Process              TSW   \n",
       "84789             3437965            1.0  In Process              TSW   \n",
       "84790             3437976            1.0  In Process              TSW   \n",
       "\n",
       "                     comm_plan_name case_origin  \\\n",
       "2      Mid-City:Kensington-Talmadge       Phone   \n",
       "3                      Torrey Pines       Phone   \n",
       "5                     Pacific Beach       Phone   \n",
       "6                   Clairemont Mesa       Phone   \n",
       "8                       San Pasqual       Phone   \n",
       "...                             ...         ...   \n",
       "84786                      La Jolla         Web   \n",
       "84787               Clairemont Mesa       Phone   \n",
       "84788         Mid-City:Eastern Area         Web   \n",
       "84789                        Uptown      Mobile   \n",
       "84790                      Downtown      Mobile   \n",
       "\n",
       "                                      public_description  \n",
       "2      4000 block of copeland just before you get on ...  \n",
       "3                        LARGE P/H CAUSED VEHICLE DAMAGE  \n",
       "5            Caller reports cracks and potholes in alley  \n",
       "6          Pothole in left turn lane going toward school  \n",
       "8                                                POTHOLE  \n",
       "...                                                  ...  \n",
       "84786  From Via Avola to Hidden Valley (going down th...  \n",
       "84787  S/B GENESEE RIGHT BEFORE THE 52 ON RAMP- POTHO...  \n",
       "84788  There needs to be street resurfacing done to t...  \n",
       "84789  Severe pothole at street and garage entrance o...  \n",
       "84790                 Pot hole whole street is messed up  \n",
       "\n",
       "[75240 rows x 7 columns]"
      ]
     },
     "execution_count": 13,
     "metadata": {},
     "output_type": "execute_result"
    }
   ],
   "source": [
    "N_Var4.drop_duplicates()\n"
   ]
  },
  {
   "cell_type": "code",
   "execution_count": 4,
   "id": "c381335e",
   "metadata": {},
   "outputs": [
    {
     "data": {
      "text/html": [
       "<div>\n",
       "<style scoped>\n",
       "    .dataframe tbody tr th:only-of-type {\n",
       "        vertical-align: middle;\n",
       "    }\n",
       "\n",
       "    .dataframe tbody tr th {\n",
       "        vertical-align: top;\n",
       "    }\n",
       "\n",
       "    .dataframe thead th {\n",
       "        text-align: right;\n",
       "    }\n",
       "</style>\n",
       "<table border=\"1\" class=\"dataframe\">\n",
       "  <thead>\n",
       "    <tr style=\"text-align: right;\">\n",
       "      <th></th>\n",
       "      <th>service_request_id</th>\n",
       "      <th>case_age_days</th>\n",
       "      <th>status</th>\n",
       "      <th>case_record_type</th>\n",
       "      <th>comm_plan_name</th>\n",
       "      <th>case_origin</th>\n",
       "      <th>public_description</th>\n",
       "    </tr>\n",
       "  </thead>\n",
       "  <tbody>\n",
       "    <tr>\n",
       "      <th>0</th>\n",
       "      <td>80518</td>\n",
       "      <td>18</td>\n",
       "      <td>Closed</td>\n",
       "      <td>TSW</td>\n",
       "      <td>Mid-City:Kensington-Talmadge</td>\n",
       "      <td>Phone</td>\n",
       "      <td>4000 block of copeland just before you get on ...</td>\n",
       "    </tr>\n",
       "    <tr>\n",
       "      <th>1</th>\n",
       "      <td>80531</td>\n",
       "      <td>5</td>\n",
       "      <td>Closed</td>\n",
       "      <td>TSW</td>\n",
       "      <td>Torrey Pines</td>\n",
       "      <td>Phone</td>\n",
       "      <td>LARGE P/H CAUSED VEHICLE DAMAGE</td>\n",
       "    </tr>\n",
       "    <tr>\n",
       "      <th>2</th>\n",
       "      <td>80543</td>\n",
       "      <td>31</td>\n",
       "      <td>Closed</td>\n",
       "      <td>TSW</td>\n",
       "      <td>Pacific Beach</td>\n",
       "      <td>Phone</td>\n",
       "      <td>Caller reports cracks and potholes in alley</td>\n",
       "    </tr>\n",
       "    <tr>\n",
       "      <th>3</th>\n",
       "      <td>80547</td>\n",
       "      <td>344</td>\n",
       "      <td>Closed</td>\n",
       "      <td>TSW</td>\n",
       "      <td>Clairemont Mesa</td>\n",
       "      <td>Phone</td>\n",
       "      <td>Pothole in left turn lane going toward school</td>\n",
       "    </tr>\n",
       "    <tr>\n",
       "      <th>4</th>\n",
       "      <td>80577</td>\n",
       "      <td>34</td>\n",
       "      <td>Closed</td>\n",
       "      <td>TSW</td>\n",
       "      <td>San Pasqual</td>\n",
       "      <td>Phone</td>\n",
       "      <td>POTHOLE</td>\n",
       "    </tr>\n",
       "  </tbody>\n",
       "</table>\n",
       "</div>"
      ],
      "text/plain": [
       "   service_request_id  case_age_days  status case_record_type  \\\n",
       "0               80518             18  Closed              TSW   \n",
       "1               80531              5  Closed              TSW   \n",
       "2               80543             31  Closed              TSW   \n",
       "3               80547            344  Closed              TSW   \n",
       "4               80577             34  Closed              TSW   \n",
       "\n",
       "                 comm_plan_name case_origin  \\\n",
       "0  Mid-City:Kensington-Talmadge       Phone   \n",
       "1                  Torrey Pines       Phone   \n",
       "2                 Pacific Beach       Phone   \n",
       "3               Clairemont Mesa       Phone   \n",
       "4                   San Pasqual       Phone   \n",
       "\n",
       "                                  public_description  \n",
       "0  4000 block of copeland just before you get on ...  \n",
       "1                    LARGE P/H CAUSED VEHICLE DAMAGE  \n",
       "2        Caller reports cracks and potholes in alley  \n",
       "3      Pothole in left turn lane going toward school  \n",
       "4                                            POTHOLE  "
      ]
     },
     "execution_count": 4,
     "metadata": {},
     "output_type": "execute_result"
    }
   ],
   "source": [
    "PH_data = pd.read_csv(\"/Users/Blaven/Desktop/Final Project 504/temp3.csv\")\n",
    "PH_data.head()\n"
   ]
  },
  {
   "cell_type": "code",
   "execution_count": 5,
   "id": "0586d033",
   "metadata": {},
   "outputs": [
    {
     "data": {
      "text/plain": [
       "(75240, 7)"
      ]
     },
     "execution_count": 5,
     "metadata": {},
     "output_type": "execute_result"
    }
   ],
   "source": [
    "PH_data.shape"
   ]
  },
  {
   "cell_type": "code",
   "execution_count": 6,
   "id": "e7efd1e9",
   "metadata": {},
   "outputs": [
    {
     "data": {
      "image/png": "[encoded data removed]",
      "text/plain": [
       "<Figure size 432x288 with 1 Axes>"
      ]
     },
     "metadata": {
      "needs_background": "light"
     },
     "output_type": "display_data"
    }
   ],
   "source": [
    "import matplotlib.pyplot as plt\n",
    "PH_data.case_age_days.hist(bins=50,edgecolor = 'black')\n",
    "plt.ylabel(\"Number of entries\")\n",
    "plt.xlabel(\"Number of Days\")\n",
    "plt.title(\"Responce to ticket\")\n",
    "plt.show()\n",
    "# very right skewed will have to normalize the data"
   ]
  },
  {
   "cell_type": "code",
   "execution_count": 38,
   "id": "801495c1",
   "metadata": {},
   "outputs": [
    {
     "data": {
      "image/png": "[encoded data removed]",
      "text/plain": [
       "<Figure size 576x396 with 1 Axes>"
      ]
     },
     "metadata": {
      "needs_background": "light"
     },
     "output_type": "display_data"
    }
   ],
   "source": [
    "plt.rcParams[\"figure.figsize\"] = (8,5.5)\n",
    "PH_data.comm_plan_name.hist(edgecolor = 'black')\n",
    "plt.xticks(rotation='vertical')\n",
    "plt.ylabel(\"Number of Reports\")\n",
    "plt.xlabel(\"County names\")\n",
    "plt.title(\"Total Responce to Server\")\n",
    "plt.show()"
   ]
  },
  {
   "cell_type": "code",
   "execution_count": 39,
   "id": "31dea1f8",
   "metadata": {},
   "outputs": [
    {
     "data": {
      "text/plain": [
       "<AxesSubplot:title={'center':'Device Report'}, xlabel='Type of Device ', ylabel='Number of Reports by Device'>"
      ]
     },
     "execution_count": 39,
     "metadata": {},
     "output_type": "execute_result"
    },
    {
     "data": {
      "image/png": "[encoded data removed]",
      "text/plain": [
       "<Figure size 2160x396 with 1 Axes>"
      ]
     },
     "metadata": {
      "needs_background": "light"
     },
     "output_type": "display_data"
    }
   ],
   "source": [
    "plt.rcParams[\"figure.figsize\"] = (30,5.5)\n",
    "plt.ylabel(\"Number of Reports by Device\")\n",
    "plt.xlabel(\"Type of Device \")\n",
    "plt.title(\"Device Report\")\n",
    "PH_data.case_origin.hist(edgecolor = 'black')"
   ]
  },
  {
   "cell_type": "code",
   "execution_count": 40,
   "id": "aca8f429",
   "metadata": {},
   "outputs": [
    {
     "data": {
      "text/plain": [
       "Text(0.5, 1.0, 'Responsibility of Reporting to Pothole')"
      ]
     },
     "execution_count": 40,
     "metadata": {},
     "output_type": "execute_result"
    },
    {
     "data": {
      "image/png": "[encoded data removed]",
      "text/plain": [
       "<Figure size 720x396 with 1 Axes>"
      ]
     },
     "metadata": {
      "needs_background": "light"
     },
     "output_type": "display_data"
    }
   ],
   "source": [
    "plt.rcParams[\"figure.figsize\"] = (10,5.5)\n",
    "PH_data.case_record_type.hist(edgecolor = 'black')\n",
    "plt.ylabel(\"Ticket assigned to Department\")\n",
    "plt.xlabel(\"Department \")\n",
    "plt.title(\"Responsibility of Reporting to Pothole\")\n",
    "# TSW has a heavy influence than the others that you cant see the values\n",
    "# down scale after test split"
   ]
  },
  {
   "cell_type": "code",
   "execution_count": 43,
   "id": "45f05a6f",
   "metadata": {},
   "outputs": [
    {
     "data": {
      "text/plain": [
       "TSW                             75223\n",
       "Traffic Engineering                11\n",
       "Storm Water Code Enforcement        5\n",
       "ESD Complaint/Report                1\n",
       "Name: case_record_type, dtype: int64"
      ]
     },
     "execution_count": 43,
     "metadata": {},
     "output_type": "execute_result"
    }
   ],
   "source": [
    "PH_data[\"case_record_type\"].value_counts()"
   ]
  },
  {
   "cell_type": "code",
   "execution_count": 41,
   "id": "19284f29",
   "metadata": {},
   "outputs": [
    {
     "data": {
      "text/plain": [
       "<AxesSubplot:title={'center':'Cases Status'}, xlabel='Status ', ylabel='Number of tickets'>"
      ]
     },
     "execution_count": 41,
     "metadata": {},
     "output_type": "execute_result"
    },
    {
     "data": {
      "image/png": "[encoded data removed]",
      "text/plain": [
       "<Figure size 720x396 with 1 Axes>"
      ]
     },
     "metadata": {
      "needs_background": "light"
     },
     "output_type": "display_data"
    }
   ],
   "source": [
    "plt.rcParams[\"figure.figsize\"] = (10,5.5)\n",
    "plt.ylabel(\"Number of tickets\")\n",
    "plt.xlabel(\"Status \")\n",
    "plt.title(\"Cases Status\")\n",
    "PH_data.status.hist(edgecolor = 'black')\n",
    "# down scale the Closed after test split"
   ]
  },
  {
   "cell_type": "code",
   "execution_count": 44,
   "id": "a1ca64c7",
   "metadata": {},
   "outputs": [
    {
     "data": {
      "text/plain": [
       "Closed        73042\n",
       "In Process     1245\n",
       "Referred        950\n",
       "New               3\n",
       "Name: status, dtype: int64"
      ]
     },
     "execution_count": 44,
     "metadata": {},
     "output_type": "execute_result"
    }
   ],
   "source": [
    "PH_data[\"status\"].value_counts()"
   ]
  },
  {
   "cell_type": "code",
   "execution_count": 31,
   "id": "e98168f3",
   "metadata": {},
   "outputs": [
    {
     "data": {
      "image/png": "[encoded data removed]",
      "text/plain": [
       "<Figure size 720x504 with 1 Axes>"
      ]
     },
     "metadata": {
      "needs_background": "light"
     },
     "output_type": "display_data"
    }
   ],
   "source": [
    "import matplotlib.pyplot as plt\n",
    "import numpy as np\n",
    " \n",
    " \n",
    "# Creating dataset\n",
    " \n",
    "fig = plt.figure(figsize =(10, 7))\n",
    " \n",
    "# Creating plot\n",
    "plt.boxplot(PH_data.case_age_days)\n",
    " \n",
    "# show plot\n",
    "plt.show()\n",
    "\n",
    "# probally redoit after normalize"
   ]
  },
  {
   "cell_type": "code",
   "execution_count": 46,
   "id": "f67f32a8",
   "metadata": {},
   "outputs": [
    {
     "data": {
      "text/plain": [
       "[0.0, 60.0]"
      ]
     },
     "execution_count": 46,
     "metadata": {},
     "output_type": "execute_result"
    },
    {
     "data": {
      "image/png": "[encoded data removed]",
      "text/plain": [
       "<Figure size 720x396 with 1 Axes>"
      ]
     },
     "metadata": {
      "needs_background": "light"
     },
     "output_type": "display_data"
    }
   ],
   "source": [
    "B = plt.boxplot(PH_data.case_age_days)\n",
    "[item.get_ydata()[1] for item in B['whiskers']]\n",
    "# dropping the outlier that is outside of 60 day mark"
   ]
  },
  {
   "cell_type": "code",
   "execution_count": 9,
   "id": "63378bd3",
   "metadata": {},
   "outputs": [
    {
     "data": {
      "text/plain": [
       "(67245, 7)"
      ]
     },
     "execution_count": 9,
     "metadata": {},
     "output_type": "execute_result"
    }
   ],
   "source": [
    "df_filtered = PH_data[PH_data['case_age_days'] < 61]\n",
    "  \n",
    "  \n",
    "# Print the shape of the dataframe\n",
    "df_filtered.shape"
   ]
  },
  {
   "cell_type": "code",
   "execution_count": 8,
   "id": "9255b71f",
   "metadata": {},
   "outputs": [
    {
     "data": {
      "text/html": [
       "<div>\n",
       "<style scoped>\n",
       "    .dataframe tbody tr th:only-of-type {\n",
       "        vertical-align: middle;\n",
       "    }\n",
       "\n",
       "    .dataframe tbody tr th {\n",
       "        vertical-align: top;\n",
       "    }\n",
       "\n",
       "    .dataframe thead th {\n",
       "        text-align: right;\n",
       "    }\n",
       "</style>\n",
       "<table border=\"1\" class=\"dataframe\">\n",
       "  <thead>\n",
       "    <tr style=\"text-align: right;\">\n",
       "      <th></th>\n",
       "      <th>service_request_id</th>\n",
       "      <th>case_age_days</th>\n",
       "      <th>status</th>\n",
       "      <th>case_record_type</th>\n",
       "      <th>comm_plan_name</th>\n",
       "      <th>case_origin</th>\n",
       "      <th>public_description</th>\n",
       "    </tr>\n",
       "  </thead>\n",
       "  <tbody>\n",
       "    <tr>\n",
       "      <th>0</th>\n",
       "      <td>80518</td>\n",
       "      <td>18</td>\n",
       "      <td>Closed</td>\n",
       "      <td>TSW</td>\n",
       "      <td>Mid-City:Kensington-Talmadge</td>\n",
       "      <td>Phone</td>\n",
       "      <td>4000 block of copeland just before you get on ...</td>\n",
       "    </tr>\n",
       "    <tr>\n",
       "      <th>1</th>\n",
       "      <td>80531</td>\n",
       "      <td>5</td>\n",
       "      <td>Closed</td>\n",
       "      <td>TSW</td>\n",
       "      <td>Torrey Pines</td>\n",
       "      <td>Phone</td>\n",
       "      <td>LARGE P/H CAUSED VEHICLE DAMAGE</td>\n",
       "    </tr>\n",
       "    <tr>\n",
       "      <th>2</th>\n",
       "      <td>80543</td>\n",
       "      <td>31</td>\n",
       "      <td>Closed</td>\n",
       "      <td>TSW</td>\n",
       "      <td>Pacific Beach</td>\n",
       "      <td>Phone</td>\n",
       "      <td>Caller reports cracks and potholes in alley</td>\n",
       "    </tr>\n",
       "    <tr>\n",
       "      <th>4</th>\n",
       "      <td>80577</td>\n",
       "      <td>34</td>\n",
       "      <td>Closed</td>\n",
       "      <td>TSW</td>\n",
       "      <td>San Pasqual</td>\n",
       "      <td>Phone</td>\n",
       "      <td>POTHOLE</td>\n",
       "    </tr>\n",
       "    <tr>\n",
       "      <th>5</th>\n",
       "      <td>80582</td>\n",
       "      <td>6</td>\n",
       "      <td>Closed</td>\n",
       "      <td>TSW</td>\n",
       "      <td>Mira Mesa</td>\n",
       "      <td>Web</td>\n",
       "      <td>Road damage that needsTo be repaired</td>\n",
       "    </tr>\n",
       "    <tr>\n",
       "      <th>6</th>\n",
       "      <td>80838</td>\n",
       "      <td>17</td>\n",
       "      <td>Closed</td>\n",
       "      <td>TSW</td>\n",
       "      <td>Pacific Beach</td>\n",
       "      <td>Web</td>\n",
       "      <td>Substantial pothole on westbound Grand Ave, in...</td>\n",
       "    </tr>\n",
       "    <tr>\n",
       "      <th>7</th>\n",
       "      <td>80844</td>\n",
       "      <td>12</td>\n",
       "      <td>Closed</td>\n",
       "      <td>TSW</td>\n",
       "      <td>University</td>\n",
       "      <td>Web</td>\n",
       "      <td>Pothole in street</td>\n",
       "    </tr>\n",
       "    <tr>\n",
       "      <th>8</th>\n",
       "      <td>80848</td>\n",
       "      <td>5</td>\n",
       "      <td>Closed</td>\n",
       "      <td>TSW</td>\n",
       "      <td>Clairemont Mesa</td>\n",
       "      <td>Web</td>\n",
       "      <td>on corner of appleton and genesee</td>\n",
       "    </tr>\n",
       "    <tr>\n",
       "      <th>10</th>\n",
       "      <td>80892</td>\n",
       "      <td>12</td>\n",
       "      <td>Closed</td>\n",
       "      <td>TSW</td>\n",
       "      <td>Sabre Springs</td>\n",
       "      <td>Web</td>\n",
       "      <td>Numerous potholes in pavement both westbound a...</td>\n",
       "    </tr>\n",
       "    <tr>\n",
       "      <th>11</th>\n",
       "      <td>80895</td>\n",
       "      <td>12</td>\n",
       "      <td>Closed</td>\n",
       "      <td>TSW</td>\n",
       "      <td>Sabre Springs</td>\n",
       "      <td>Web</td>\n",
       "      <td>many bad potholes SB Sabre Springs between Pow...</td>\n",
       "    </tr>\n",
       "  </tbody>\n",
       "</table>\n",
       "</div>"
      ],
      "text/plain": [
       "    service_request_id  case_age_days  status case_record_type  \\\n",
       "0                80518             18  Closed              TSW   \n",
       "1                80531              5  Closed              TSW   \n",
       "2                80543             31  Closed              TSW   \n",
       "4                80577             34  Closed              TSW   \n",
       "5                80582              6  Closed              TSW   \n",
       "6                80838             17  Closed              TSW   \n",
       "7                80844             12  Closed              TSW   \n",
       "8                80848              5  Closed              TSW   \n",
       "10               80892             12  Closed              TSW   \n",
       "11               80895             12  Closed              TSW   \n",
       "\n",
       "                  comm_plan_name case_origin  \\\n",
       "0   Mid-City:Kensington-Talmadge       Phone   \n",
       "1                   Torrey Pines       Phone   \n",
       "2                  Pacific Beach       Phone   \n",
       "4                    San Pasqual       Phone   \n",
       "5                      Mira Mesa         Web   \n",
       "6                  Pacific Beach         Web   \n",
       "7                     University         Web   \n",
       "8                Clairemont Mesa         Web   \n",
       "10                 Sabre Springs         Web   \n",
       "11                 Sabre Springs         Web   \n",
       "\n",
       "                                   public_description  \n",
       "0   4000 block of copeland just before you get on ...  \n",
       "1                     LARGE P/H CAUSED VEHICLE DAMAGE  \n",
       "2         Caller reports cracks and potholes in alley  \n",
       "4                                             POTHOLE  \n",
       "5                Road damage that needsTo be repaired  \n",
       "6   Substantial pothole on westbound Grand Ave, in...  \n",
       "7                                   Pothole in street  \n",
       "8                   on corner of appleton and genesee  \n",
       "10  Numerous potholes in pavement both westbound a...  \n",
       "11  many bad potholes SB Sabre Springs between Pow...  "
      ]
     },
     "execution_count": 8,
     "metadata": {},
     "output_type": "execute_result"
    }
   ],
   "source": [
    "df_filtered.head(10)"
   ]
  },
  {
   "cell_type": "code",
   "execution_count": 51,
   "id": "3acb860f",
   "metadata": {},
   "outputs": [
    {
     "data": {
      "text/plain": [
       "1     4720\n",
       "2     3958\n",
       "3     3531\n",
       "4     3463\n",
       "5     3372\n",
       "      ... \n",
       "54     186\n",
       "57     167\n",
       "60     150\n",
       "58     133\n",
       "59     121\n",
       "Name: case_age_days, Length: 61, dtype: int64"
      ]
     },
     "execution_count": 51,
     "metadata": {},
     "output_type": "execute_result"
    }
   ],
   "source": [
    "df_filtered.case_age_days.value_counts()"
   ]
  },
  {
   "cell_type": "code",
   "execution_count": 14,
   "id": "fa5aa240",
   "metadata": {},
   "outputs": [],
   "source": [
    "df_filtered.describe()\n",
    "temp4=df_filtered"
   ]
  },
  {
   "cell_type": "code",
   "execution_count": null,
   "id": "f0abd2f5",
   "metadata": {},
   "outputs": [],
   "source": [
    "from sklearn.metrics import confusion_matrix, ConfusionMatrixDisplay\n",
    "predictions = balanced_model.predict(X_test)\n",
    "cm = confusion_matrix(y_test, predictions, labels=balanced_model.classes_)\n",
    "disp = ConfusionMatrixDisplay(confusion_matrix=cm,display_labels=balanced_model.classes_)\n",
    "disp.plot()\n",
    "plt.show()"
   ]
  },
  {
   "cell_type": "code",
   "execution_count": 11,
   "id": "466133ba",
   "metadata": {},
   "outputs": [],
   "source": [
    "import pandas as pd\n",
    "import numpy as np\n",
    "import json\n",
    "import os\n",
    "import matplotlib.pyplot as plt\n",
    "import seaborn as sns\n",
    "import json\n",
    "from sklearn.preprocessing import OneHotEncoder, OrdinalEncoder, LabelEncoder, StandardScaler, Normalizer\n",
    "from sklearn.compose import ColumnTransformer\n",
    "from sklearn.impute import SimpleImputer\n",
    "from sklearn.metrics import confusion_matrix, accuracy_score, plot_confusion_matrix, classification_report\n",
    "from sklearn.model_selection import train_test_split, cross_val_score\n",
    "from sklearn.pipeline import make_pipeline, Pipeline\n",
    "from sklearn.feature_extraction.text import TfidfVectorizer\n",
    "from sklearn.feature_selection import SelectKBest, chi2\n",
    "from sklearn.linear_model import Perceptron"
   ]
  },
  {
   "cell_type": "code",
   "execution_count": 17,
   "id": "aff48e41",
   "metadata": {},
   "outputs": [
    {
     "name": "stderr",
     "output_type": "stream",
     "text": [
      "/Users/Blaven/miniconda3/lib/python3.8/site-packages/sklearn/utils/validation.py:63: DataConversionWarning: A column-vector y was passed when a 1d array was expected. Please change the shape of y to (n_samples, ), for example using ravel().\n",
      "  return f(*args, **kwargs)\n",
      "/Users/Blaven/miniconda3/lib/python3.8/site-packages/sklearn/utils/validation.py:63: DataConversionWarning: A column-vector y was passed when a 1d array was expected. Please change the shape of y to (n_samples, ), for example using ravel().\n",
      "  return f(*args, **kwargs)\n"
     ]
    },
    {
     "data": {
      "text/plain": [
       "Pipeline(steps=[('onehotencoder', OneHotEncoder()),\n",
       "                ('perceptron', Perceptron())])"
      ]
     },
     "execution_count": 17,
     "metadata": {},
     "output_type": "execute_result"
    }
   ],
   "source": [
    "cat_feat = temp4[['case_age_days', 'case_record_type','comm_plan_name']]\n",
    "\n",
    "X= cat_feat\n",
    "y= df_filtered[['status']]\n",
    "X_train, X_test, y_train, y_test =train_test_split(X, y, test_size=0.5,random_state=42)\n",
    "\n",
    "balanced_model = make_pipeline(OneHotEncoder(),Perceptron(class_weight='balanced'))\n",
    "unbalanced_model = make_pipeline(OneHotEncoder(), Perceptron())\n",
    "\n",
    "# fit the models here:\n",
    "balanced_model.fit(X_train, y_train)\n",
    "unbalanced_model.fit(X_train, y_train)"
   ]
  },
  {
   "cell_type": "code",
   "execution_count": 18,
   "id": "047eadba",
   "metadata": {},
   "outputs": [
    {
     "data": {
      "image/png": "[encoded data removed]",
      "text/plain": [
       "<Figure size 432x288 with 2 Axes>"
      ]
     },
     "metadata": {
      "needs_background": "light"
     },
     "output_type": "display_data"
    }
   ],
   "source": [
    "from sklearn.metrics import confusion_matrix, ConfusionMatrixDisplay\n",
    "predictions = balanced_model.predict(X_test)\n",
    "cm = confusion_matrix(y_test, predictions, labels=balanced_model.classes_)\n",
    "disp = ConfusionMatrixDisplay(confusion_matrix=cm,display_labels=balanced_model.classes_)\n",
    "disp.plot()\n",
    "plt.show()"
   ]
  },
  {
   "cell_type": "code",
   "execution_count": 19,
   "id": "28303af6",
   "metadata": {},
   "outputs": [
    {
     "name": "stdout",
     "output_type": "stream",
     "text": [
      "              precision    recall  f1-score   support\n",
      "\n",
      "      Closed       0.99      0.55      0.71     32775\n",
      "  In Process       0.02      0.60      0.03       376\n",
      "         New       0.00      0.00      0.00         2\n",
      "    Referred       0.30      0.96      0.46       470\n",
      "\n",
      "    accuracy                           0.55     33623\n",
      "   macro avg       0.33      0.53      0.30     33623\n",
      "weighted avg       0.97      0.55      0.70     33623\n",
      "\n"
     ]
    }
   ],
   "source": [
    "print(classification_report(y_test, predictions))"
   ]
  },
  {
   "cell_type": "code",
   "execution_count": 20,
   "id": "ded855f8",
   "metadata": {},
   "outputs": [
    {
     "data": {
      "image/png": "[encoded data removed]",
      "text/plain": [
       "<Figure size 432x288 with 2 Axes>"
      ]
     },
     "metadata": {
      "needs_background": "light"
     },
     "output_type": "display_data"
    }
   ],
   "source": [
    "from sklearn.metrics import confusion_matrix, ConfusionMatrixDisplay\n",
    "predictions = unbalanced_model.predict(X_test)\n",
    "cm = confusion_matrix(y_test, predictions, labels=balanced_model.classes_)\n",
    "disp = ConfusionMatrixDisplay(confusion_matrix=cm,display_labels=balanced_model.classes_)\n",
    "disp.plot()\n",
    "plt.show()"
   ]
  },
  {
   "cell_type": "code",
   "execution_count": 22,
   "id": "e1ee67a3",
   "metadata": {},
   "outputs": [
    {
     "data": {
      "text/plain": [
       "count       67245\n",
       "unique      55426\n",
       "top       Pothole\n",
       "freq         3770\n",
       "Name: public_description, dtype: object"
      ]
     },
     "execution_count": 22,
     "metadata": {},
     "output_type": "execute_result"
    }
   ],
   "source": [
    "corpus = temp4['public_description']\n",
    "# Remove Outliers (records with no text data nans):\n",
    "corpus=corpus.dropna()\n",
    "\n",
    "corpus.describe()"
   ]
  },
  {
   "cell_type": "code",
   "execution_count": 30,
   "id": "b0e5f7c0",
   "metadata": {},
   "outputs": [
    {
     "data": {
      "text/html": [
       "<div>\n",
       "<style scoped>\n",
       "    .dataframe tbody tr th:only-of-type {\n",
       "        vertical-align: middle;\n",
       "    }\n",
       "\n",
       "    .dataframe tbody tr th {\n",
       "        vertical-align: top;\n",
       "    }\n",
       "\n",
       "    .dataframe thead th {\n",
       "        text-align: right;\n",
       "    }\n",
       "</style>\n",
       "<table border=\"1\" class=\"dataframe\">\n",
       "  <thead>\n",
       "    <tr style=\"text-align: right;\">\n",
       "      <th></th>\n",
       "      <th>public_description</th>\n",
       "      <th>case_age_days</th>\n",
       "    </tr>\n",
       "  </thead>\n",
       "  <tbody>\n",
       "    <tr>\n",
       "      <th>0</th>\n",
       "      <td>4000 block of copeland just before you get on ...</td>\n",
       "      <td>18</td>\n",
       "    </tr>\n",
       "    <tr>\n",
       "      <th>1</th>\n",
       "      <td>LARGE P/H CAUSED VEHICLE DAMAGE</td>\n",
       "      <td>5</td>\n",
       "    </tr>\n",
       "    <tr>\n",
       "      <th>2</th>\n",
       "      <td>Caller reports cracks and potholes in alley</td>\n",
       "      <td>31</td>\n",
       "    </tr>\n",
       "    <tr>\n",
       "      <th>4</th>\n",
       "      <td>POTHOLE</td>\n",
       "      <td>34</td>\n",
       "    </tr>\n",
       "    <tr>\n",
       "      <th>5</th>\n",
       "      <td>Road damage that needsTo be repaired</td>\n",
       "      <td>6</td>\n",
       "    </tr>\n",
       "    <tr>\n",
       "      <th>...</th>\n",
       "      <td>...</td>\n",
       "      <td>...</td>\n",
       "    </tr>\n",
       "    <tr>\n",
       "      <th>75235</th>\n",
       "      <td>From Via Avola to Hidden Valley (going down th...</td>\n",
       "      <td>1</td>\n",
       "    </tr>\n",
       "    <tr>\n",
       "      <th>75236</th>\n",
       "      <td>S/B GENESEE RIGHT BEFORE THE 52 ON RAMP- POTHO...</td>\n",
       "      <td>1</td>\n",
       "    </tr>\n",
       "    <tr>\n",
       "      <th>75237</th>\n",
       "      <td>There needs to be street resurfacing done to t...</td>\n",
       "      <td>1</td>\n",
       "    </tr>\n",
       "    <tr>\n",
       "      <th>75238</th>\n",
       "      <td>Severe pothole at street and garage entrance o...</td>\n",
       "      <td>1</td>\n",
       "    </tr>\n",
       "    <tr>\n",
       "      <th>75239</th>\n",
       "      <td>Pot hole whole street is messed up</td>\n",
       "      <td>1</td>\n",
       "    </tr>\n",
       "  </tbody>\n",
       "</table>\n",
       "<p>67245 rows × 2 columns</p>\n",
       "</div>"
      ],
      "text/plain": [
       "                                      public_description  case_age_days\n",
       "0      4000 block of copeland just before you get on ...             18\n",
       "1                        LARGE P/H CAUSED VEHICLE DAMAGE              5\n",
       "2            Caller reports cracks and potholes in alley             31\n",
       "4                                                POTHOLE             34\n",
       "5                   Road damage that needsTo be repaired              6\n",
       "...                                                  ...            ...\n",
       "75235  From Via Avola to Hidden Valley (going down th...              1\n",
       "75236  S/B GENESEE RIGHT BEFORE THE 52 ON RAMP- POTHO...              1\n",
       "75237  There needs to be street resurfacing done to t...              1\n",
       "75238  Severe pothole at street and garage entrance o...              1\n",
       "75239                 Pot hole whole street is messed up              1\n",
       "\n",
       "[67245 rows x 2 columns]"
      ]
     },
     "execution_count": 30,
     "metadata": {},
     "output_type": "execute_result"
    }
   ],
   "source": [
    "temp=temp4[['public_description','case_age_days']]\n",
    "temp=temp.dropna()\n",
    "temp"
   ]
  },
  {
   "cell_type": "code",
   "execution_count": 41,
   "id": "668ae19f",
   "metadata": {},
   "outputs": [],
   "source": [
    "from sklearn.feature_extraction.text import TfidfVectorizer\n",
    "vectorizer = TfidfVectorizer()\n",
    "srb = vectorizer.fit_transform(corpus)\n",
    "new_store=vectorizer.get_feature_names()\n",
    "X = pd.DataFrame.sparse.from_spmatrix(srb, columns=new_store)\n",
    "y = temp['case_age_days']\n",
    "#train_test_split here\n",
    "X_train, X_test, y_train, y_test =train_test_split(X,y,test_size=0.5,random_state=42)"
   ]
  },
  {
   "cell_type": "code",
   "execution_count": 42,
   "id": "33204391",
   "metadata": {},
   "outputs": [
    {
     "name": "stdout",
     "output_type": "stream",
     "text": [
      "Top 10 features ['3939', 'bancook', 'chasewood', 'cinco', 'cover', 'guttet', 'mayo', 'oarta', 'restroom', 'rhonda']\n"
     ]
    }
   ],
   "source": [
    "from sklearn.feature_selection import SelectKBest, chi2\n",
    "\n",
    "kbest = SelectKBest(score_func=chi2, k=10).fit(X_train, y_train)\n",
    "print('Top 10 features %s' % X_train.columns[kbest.get_support()].tolist())"
   ]
  },
  {
   "cell_type": "code",
   "execution_count": null,
   "id": "e125490b",
   "metadata": {},
   "outputs": [],
   "source": []
  }
 ],
 "metadata": {
  "kernelspec": {
   "display_name": "Python 3",
   "language": "python",
   "name": "python3"
  },
  "language_info": {
   "codemirror_mode": {
    "name": "ipython",
    "version": 3
   },
   "file_extension": ".py",
   "mimetype": "text/x-python",
   "name": "python",
   "nbconvert_exporter": "python",
   "pygments_lexer": "ipython3",
   "version": "3.8.5"
  }
 },
 "nbformat": 4,
 "nbformat_minor": 5
}

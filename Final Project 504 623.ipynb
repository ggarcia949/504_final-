{
 "cells": [
  {
   "cell_type": "code",
   "execution_count": 1,
   "id": "d34d871a",
   "metadata": {},
   "outputs": [],
   "source": [
    "import numpy as np\n",
    "import pandas as pd\n",
    "import os\n",
    "import matplotlib"
   ]
  },
  {
   "cell_type": "code",
   "execution_count": 4,
   "id": "3eb545f3",
   "metadata": {},
   "outputs": [
    {
     "ename": "FileNotFoundError",
     "evalue": "[Errno 2] No such file or directory: '/Users/Blaven/Desktop/Final Project 504/pothole_requests_datasd_v1 (1).csv'",
     "output_type": "error",
     "traceback": [
      "\u001b[0;31m---------------------------------------------------------------------------\u001b[0m",
      "\u001b[0;31mFileNotFoundError\u001b[0m                         Traceback (most recent call last)",
      "\u001b[1;32m/Users/georgegarcia/Desktop/504/Final Project 504 348.ipynb Cell 2'\u001b[0m in \u001b[0;36m<cell line: 1>\u001b[0;34m()\u001b[0m\n\u001b[0;32m----> <a href='vscode-notebook-cell:/Users/georgegarcia/Desktop/504/Final%20Project%20504%20348.ipynb#ch0000001?line=0'>1</a>\u001b[0m PH_data \u001b[39m=\u001b[39m pd\u001b[39m.\u001b[39;49mread_csv(\u001b[39m\"\u001b[39;49m\u001b[39m/Users/Blaven/Desktop/Final Project 504/pothole_requests_datasd_v1 (1).csv\u001b[39;49m\u001b[39m\"\u001b[39;49m)\n\u001b[1;32m      <a href='vscode-notebook-cell:/Users/georgegarcia/Desktop/504/Final%20Project%20504%20348.ipynb#ch0000001?line=1'>2</a>\u001b[0m PH_data\u001b[39m.\u001b[39mhead()\n",
      "File \u001b[0;32m~/Library/Python/3.9/lib/python/site-packages/pandas/util/_decorators.py:311\u001b[0m, in \u001b[0;36mdeprecate_nonkeyword_arguments.<locals>.decorate.<locals>.wrapper\u001b[0;34m(*args, **kwargs)\u001b[0m\n\u001b[1;32m    <a href='file:///~/Library/Python/3.9/lib/python/site-packages/pandas/util/_decorators.py?line=304'>305</a>\u001b[0m \u001b[39mif\u001b[39;00m \u001b[39mlen\u001b[39m(args) \u001b[39m>\u001b[39m num_allow_args:\n\u001b[1;32m    <a href='file:///~/Library/Python/3.9/lib/python/site-packages/pandas/util/_decorators.py?line=305'>306</a>\u001b[0m     warnings\u001b[39m.\u001b[39mwarn(\n\u001b[1;32m    <a href='file:///~/Library/Python/3.9/lib/python/site-packages/pandas/util/_decorators.py?line=306'>307</a>\u001b[0m         msg\u001b[39m.\u001b[39mformat(arguments\u001b[39m=\u001b[39marguments),\n\u001b[1;32m    <a href='file:///~/Library/Python/3.9/lib/python/site-packages/pandas/util/_decorators.py?line=307'>308</a>\u001b[0m         \u001b[39mFutureWarning\u001b[39;00m,\n\u001b[1;32m    <a href='file:///~/Library/Python/3.9/lib/python/site-packages/pandas/util/_decorators.py?line=308'>309</a>\u001b[0m         stacklevel\u001b[39m=\u001b[39mstacklevel,\n\u001b[1;32m    <a href='file:///~/Library/Python/3.9/lib/python/site-packages/pandas/util/_decorators.py?line=309'>310</a>\u001b[0m     )\n\u001b[0;32m--> <a href='file:///~/Library/Python/3.9/lib/python/site-packages/pandas/util/_decorators.py?line=310'>311</a>\u001b[0m \u001b[39mreturn\u001b[39;00m func(\u001b[39m*\u001b[39;49margs, \u001b[39m*\u001b[39;49m\u001b[39m*\u001b[39;49mkwargs)\n",
      "File \u001b[0;32m~/Library/Python/3.9/lib/python/site-packages/pandas/io/parsers/readers.py:586\u001b[0m, in \u001b[0;36mread_csv\u001b[0;34m(filepath_or_buffer, sep, delimiter, header, names, index_col, usecols, squeeze, prefix, mangle_dupe_cols, dtype, engine, converters, true_values, false_values, skipinitialspace, skiprows, skipfooter, nrows, na_values, keep_default_na, na_filter, verbose, skip_blank_lines, parse_dates, infer_datetime_format, keep_date_col, date_parser, dayfirst, cache_dates, iterator, chunksize, compression, thousands, decimal, lineterminator, quotechar, quoting, doublequote, escapechar, comment, encoding, encoding_errors, dialect, error_bad_lines, warn_bad_lines, on_bad_lines, delim_whitespace, low_memory, memory_map, float_precision, storage_options)\u001b[0m\n\u001b[1;32m    <a href='file:///~/Library/Python/3.9/lib/python/site-packages/pandas/io/parsers/readers.py?line=570'>571</a>\u001b[0m kwds_defaults \u001b[39m=\u001b[39m _refine_defaults_read(\n\u001b[1;32m    <a href='file:///~/Library/Python/3.9/lib/python/site-packages/pandas/io/parsers/readers.py?line=571'>572</a>\u001b[0m     dialect,\n\u001b[1;32m    <a href='file:///~/Library/Python/3.9/lib/python/site-packages/pandas/io/parsers/readers.py?line=572'>573</a>\u001b[0m     delimiter,\n\u001b[0;32m   (...)\u001b[0m\n\u001b[1;32m    <a href='file:///~/Library/Python/3.9/lib/python/site-packages/pandas/io/parsers/readers.py?line=581'>582</a>\u001b[0m     defaults\u001b[39m=\u001b[39m{\u001b[39m\"\u001b[39m\u001b[39mdelimiter\u001b[39m\u001b[39m\"\u001b[39m: \u001b[39m\"\u001b[39m\u001b[39m,\u001b[39m\u001b[39m\"\u001b[39m},\n\u001b[1;32m    <a href='file:///~/Library/Python/3.9/lib/python/site-packages/pandas/io/parsers/readers.py?line=582'>583</a>\u001b[0m )\n\u001b[1;32m    <a href='file:///~/Library/Python/3.9/lib/python/site-packages/pandas/io/parsers/readers.py?line=583'>584</a>\u001b[0m kwds\u001b[39m.\u001b[39mupdate(kwds_defaults)\n\u001b[0;32m--> <a href='file:///~/Library/Python/3.9/lib/python/site-packages/pandas/io/parsers/readers.py?line=585'>586</a>\u001b[0m \u001b[39mreturn\u001b[39;00m _read(filepath_or_buffer, kwds)\n",
      "File \u001b[0;32m~/Library/Python/3.9/lib/python/site-packages/pandas/io/parsers/readers.py:482\u001b[0m, in \u001b[0;36m_read\u001b[0;34m(filepath_or_buffer, kwds)\u001b[0m\n\u001b[1;32m    <a href='file:///~/Library/Python/3.9/lib/python/site-packages/pandas/io/parsers/readers.py?line=478'>479</a>\u001b[0m _validate_names(kwds\u001b[39m.\u001b[39mget(\u001b[39m\"\u001b[39m\u001b[39mnames\u001b[39m\u001b[39m\"\u001b[39m, \u001b[39mNone\u001b[39;00m))\n\u001b[1;32m    <a href='file:///~/Library/Python/3.9/lib/python/site-packages/pandas/io/parsers/readers.py?line=480'>481</a>\u001b[0m \u001b[39m# Create the parser.\u001b[39;00m\n\u001b[0;32m--> <a href='file:///~/Library/Python/3.9/lib/python/site-packages/pandas/io/parsers/readers.py?line=481'>482</a>\u001b[0m parser \u001b[39m=\u001b[39m TextFileReader(filepath_or_buffer, \u001b[39m*\u001b[39;49m\u001b[39m*\u001b[39;49mkwds)\n\u001b[1;32m    <a href='file:///~/Library/Python/3.9/lib/python/site-packages/pandas/io/parsers/readers.py?line=483'>484</a>\u001b[0m \u001b[39mif\u001b[39;00m chunksize \u001b[39mor\u001b[39;00m iterator:\n\u001b[1;32m    <a href='file:///~/Library/Python/3.9/lib/python/site-packages/pandas/io/parsers/readers.py?line=484'>485</a>\u001b[0m     \u001b[39mreturn\u001b[39;00m parser\n",
      "File \u001b[0;32m~/Library/Python/3.9/lib/python/site-packages/pandas/io/parsers/readers.py:811\u001b[0m, in \u001b[0;36mTextFileReader.__init__\u001b[0;34m(self, f, engine, **kwds)\u001b[0m\n\u001b[1;32m    <a href='file:///~/Library/Python/3.9/lib/python/site-packages/pandas/io/parsers/readers.py?line=807'>808</a>\u001b[0m \u001b[39mif\u001b[39;00m \u001b[39m\"\u001b[39m\u001b[39mhas_index_names\u001b[39m\u001b[39m\"\u001b[39m \u001b[39min\u001b[39;00m kwds:\n\u001b[1;32m    <a href='file:///~/Library/Python/3.9/lib/python/site-packages/pandas/io/parsers/readers.py?line=808'>809</a>\u001b[0m     \u001b[39mself\u001b[39m\u001b[39m.\u001b[39moptions[\u001b[39m\"\u001b[39m\u001b[39mhas_index_names\u001b[39m\u001b[39m\"\u001b[39m] \u001b[39m=\u001b[39m kwds[\u001b[39m\"\u001b[39m\u001b[39mhas_index_names\u001b[39m\u001b[39m\"\u001b[39m]\n\u001b[0;32m--> <a href='file:///~/Library/Python/3.9/lib/python/site-packages/pandas/io/parsers/readers.py?line=810'>811</a>\u001b[0m \u001b[39mself\u001b[39m\u001b[39m.\u001b[39m_engine \u001b[39m=\u001b[39m \u001b[39mself\u001b[39;49m\u001b[39m.\u001b[39;49m_make_engine(\u001b[39mself\u001b[39;49m\u001b[39m.\u001b[39;49mengine)\n",
      "File \u001b[0;32m~/Library/Python/3.9/lib/python/site-packages/pandas/io/parsers/readers.py:1040\u001b[0m, in \u001b[0;36mTextFileReader._make_engine\u001b[0;34m(self, engine)\u001b[0m\n\u001b[1;32m   <a href='file:///~/Library/Python/3.9/lib/python/site-packages/pandas/io/parsers/readers.py?line=1035'>1036</a>\u001b[0m     \u001b[39mraise\u001b[39;00m \u001b[39mValueError\u001b[39;00m(\n\u001b[1;32m   <a href='file:///~/Library/Python/3.9/lib/python/site-packages/pandas/io/parsers/readers.py?line=1036'>1037</a>\u001b[0m         \u001b[39mf\u001b[39m\u001b[39m\"\u001b[39m\u001b[39mUnknown engine: \u001b[39m\u001b[39m{\u001b[39;00mengine\u001b[39m}\u001b[39;00m\u001b[39m (valid options are \u001b[39m\u001b[39m{\u001b[39;00mmapping\u001b[39m.\u001b[39mkeys()\u001b[39m}\u001b[39;00m\u001b[39m)\u001b[39m\u001b[39m\"\u001b[39m\n\u001b[1;32m   <a href='file:///~/Library/Python/3.9/lib/python/site-packages/pandas/io/parsers/readers.py?line=1037'>1038</a>\u001b[0m     )\n\u001b[1;32m   <a href='file:///~/Library/Python/3.9/lib/python/site-packages/pandas/io/parsers/readers.py?line=1038'>1039</a>\u001b[0m \u001b[39m# error: Too many arguments for \"ParserBase\"\u001b[39;00m\n\u001b[0;32m-> <a href='file:///~/Library/Python/3.9/lib/python/site-packages/pandas/io/parsers/readers.py?line=1039'>1040</a>\u001b[0m \u001b[39mreturn\u001b[39;00m mapping[engine](\u001b[39mself\u001b[39;49m\u001b[39m.\u001b[39;49mf, \u001b[39m*\u001b[39;49m\u001b[39m*\u001b[39;49m\u001b[39mself\u001b[39;49m\u001b[39m.\u001b[39;49moptions)\n",
      "File \u001b[0;32m~/Library/Python/3.9/lib/python/site-packages/pandas/io/parsers/c_parser_wrapper.py:51\u001b[0m, in \u001b[0;36mCParserWrapper.__init__\u001b[0;34m(self, src, **kwds)\u001b[0m\n\u001b[1;32m     <a href='file:///~/Library/Python/3.9/lib/python/site-packages/pandas/io/parsers/c_parser_wrapper.py?line=47'>48</a>\u001b[0m kwds[\u001b[39m\"\u001b[39m\u001b[39musecols\u001b[39m\u001b[39m\"\u001b[39m] \u001b[39m=\u001b[39m \u001b[39mself\u001b[39m\u001b[39m.\u001b[39musecols\n\u001b[1;32m     <a href='file:///~/Library/Python/3.9/lib/python/site-packages/pandas/io/parsers/c_parser_wrapper.py?line=49'>50</a>\u001b[0m \u001b[39m# open handles\u001b[39;00m\n\u001b[0;32m---> <a href='file:///~/Library/Python/3.9/lib/python/site-packages/pandas/io/parsers/c_parser_wrapper.py?line=50'>51</a>\u001b[0m \u001b[39mself\u001b[39;49m\u001b[39m.\u001b[39;49m_open_handles(src, kwds)\n\u001b[1;32m     <a href='file:///~/Library/Python/3.9/lib/python/site-packages/pandas/io/parsers/c_parser_wrapper.py?line=51'>52</a>\u001b[0m \u001b[39massert\u001b[39;00m \u001b[39mself\u001b[39m\u001b[39m.\u001b[39mhandles \u001b[39mis\u001b[39;00m \u001b[39mnot\u001b[39;00m \u001b[39mNone\u001b[39;00m\n\u001b[1;32m     <a href='file:///~/Library/Python/3.9/lib/python/site-packages/pandas/io/parsers/c_parser_wrapper.py?line=53'>54</a>\u001b[0m \u001b[39m# Have to pass int, would break tests using TextReader directly otherwise :(\u001b[39;00m\n",
      "File \u001b[0;32m~/Library/Python/3.9/lib/python/site-packages/pandas/io/parsers/base_parser.py:222\u001b[0m, in \u001b[0;36mParserBase._open_handles\u001b[0;34m(self, src, kwds)\u001b[0m\n\u001b[1;32m    <a href='file:///~/Library/Python/3.9/lib/python/site-packages/pandas/io/parsers/base_parser.py?line=217'>218</a>\u001b[0m \u001b[39mdef\u001b[39;00m \u001b[39m_open_handles\u001b[39m(\u001b[39mself\u001b[39m, src: FilePathOrBuffer, kwds: \u001b[39mdict\u001b[39m[\u001b[39mstr\u001b[39m, Any]) \u001b[39m-\u001b[39m\u001b[39m>\u001b[39m \u001b[39mNone\u001b[39;00m:\n\u001b[1;32m    <a href='file:///~/Library/Python/3.9/lib/python/site-packages/pandas/io/parsers/base_parser.py?line=218'>219</a>\u001b[0m     \u001b[39m\"\"\"\u001b[39;00m\n\u001b[1;32m    <a href='file:///~/Library/Python/3.9/lib/python/site-packages/pandas/io/parsers/base_parser.py?line=219'>220</a>\u001b[0m \u001b[39m    Let the readers open IOHandles after they are done with their potential raises.\u001b[39;00m\n\u001b[1;32m    <a href='file:///~/Library/Python/3.9/lib/python/site-packages/pandas/io/parsers/base_parser.py?line=220'>221</a>\u001b[0m \u001b[39m    \"\"\"\u001b[39;00m\n\u001b[0;32m--> <a href='file:///~/Library/Python/3.9/lib/python/site-packages/pandas/io/parsers/base_parser.py?line=221'>222</a>\u001b[0m     \u001b[39mself\u001b[39m\u001b[39m.\u001b[39mhandles \u001b[39m=\u001b[39m get_handle(\n\u001b[1;32m    <a href='file:///~/Library/Python/3.9/lib/python/site-packages/pandas/io/parsers/base_parser.py?line=222'>223</a>\u001b[0m         src,\n\u001b[1;32m    <a href='file:///~/Library/Python/3.9/lib/python/site-packages/pandas/io/parsers/base_parser.py?line=223'>224</a>\u001b[0m         \u001b[39m\"\u001b[39;49m\u001b[39mr\u001b[39;49m\u001b[39m\"\u001b[39;49m,\n\u001b[1;32m    <a href='file:///~/Library/Python/3.9/lib/python/site-packages/pandas/io/parsers/base_parser.py?line=224'>225</a>\u001b[0m         encoding\u001b[39m=\u001b[39;49mkwds\u001b[39m.\u001b[39;49mget(\u001b[39m\"\u001b[39;49m\u001b[39mencoding\u001b[39;49m\u001b[39m\"\u001b[39;49m, \u001b[39mNone\u001b[39;49;00m),\n\u001b[1;32m    <a href='file:///~/Library/Python/3.9/lib/python/site-packages/pandas/io/parsers/base_parser.py?line=225'>226</a>\u001b[0m         compression\u001b[39m=\u001b[39;49mkwds\u001b[39m.\u001b[39;49mget(\u001b[39m\"\u001b[39;49m\u001b[39mcompression\u001b[39;49m\u001b[39m\"\u001b[39;49m, \u001b[39mNone\u001b[39;49;00m),\n\u001b[1;32m    <a href='file:///~/Library/Python/3.9/lib/python/site-packages/pandas/io/parsers/base_parser.py?line=226'>227</a>\u001b[0m         memory_map\u001b[39m=\u001b[39;49mkwds\u001b[39m.\u001b[39;49mget(\u001b[39m\"\u001b[39;49m\u001b[39mmemory_map\u001b[39;49m\u001b[39m\"\u001b[39;49m, \u001b[39mFalse\u001b[39;49;00m),\n\u001b[1;32m    <a href='file:///~/Library/Python/3.9/lib/python/site-packages/pandas/io/parsers/base_parser.py?line=227'>228</a>\u001b[0m         storage_options\u001b[39m=\u001b[39;49mkwds\u001b[39m.\u001b[39;49mget(\u001b[39m\"\u001b[39;49m\u001b[39mstorage_options\u001b[39;49m\u001b[39m\"\u001b[39;49m, \u001b[39mNone\u001b[39;49;00m),\n\u001b[1;32m    <a href='file:///~/Library/Python/3.9/lib/python/site-packages/pandas/io/parsers/base_parser.py?line=228'>229</a>\u001b[0m         errors\u001b[39m=\u001b[39;49mkwds\u001b[39m.\u001b[39;49mget(\u001b[39m\"\u001b[39;49m\u001b[39mencoding_errors\u001b[39;49m\u001b[39m\"\u001b[39;49m, \u001b[39m\"\u001b[39;49m\u001b[39mstrict\u001b[39;49m\u001b[39m\"\u001b[39;49m),\n\u001b[1;32m    <a href='file:///~/Library/Python/3.9/lib/python/site-packages/pandas/io/parsers/base_parser.py?line=229'>230</a>\u001b[0m     )\n",
      "File \u001b[0;32m~/Library/Python/3.9/lib/python/site-packages/pandas/io/common.py:701\u001b[0m, in \u001b[0;36mget_handle\u001b[0;34m(path_or_buf, mode, encoding, compression, memory_map, is_text, errors, storage_options)\u001b[0m\n\u001b[1;32m    <a href='file:///~/Library/Python/3.9/lib/python/site-packages/pandas/io/common.py?line=695'>696</a>\u001b[0m \u001b[39melif\u001b[39;00m \u001b[39misinstance\u001b[39m(handle, \u001b[39mstr\u001b[39m):\n\u001b[1;32m    <a href='file:///~/Library/Python/3.9/lib/python/site-packages/pandas/io/common.py?line=696'>697</a>\u001b[0m     \u001b[39m# Check whether the filename is to be opened in binary mode.\u001b[39;00m\n\u001b[1;32m    <a href='file:///~/Library/Python/3.9/lib/python/site-packages/pandas/io/common.py?line=697'>698</a>\u001b[0m     \u001b[39m# Binary mode does not support 'encoding' and 'newline'.\u001b[39;00m\n\u001b[1;32m    <a href='file:///~/Library/Python/3.9/lib/python/site-packages/pandas/io/common.py?line=698'>699</a>\u001b[0m     \u001b[39mif\u001b[39;00m ioargs\u001b[39m.\u001b[39mencoding \u001b[39mand\u001b[39;00m \u001b[39m\"\u001b[39m\u001b[39mb\u001b[39m\u001b[39m\"\u001b[39m \u001b[39mnot\u001b[39;00m \u001b[39min\u001b[39;00m ioargs\u001b[39m.\u001b[39mmode:\n\u001b[1;32m    <a href='file:///~/Library/Python/3.9/lib/python/site-packages/pandas/io/common.py?line=699'>700</a>\u001b[0m         \u001b[39m# Encoding\u001b[39;00m\n\u001b[0;32m--> <a href='file:///~/Library/Python/3.9/lib/python/site-packages/pandas/io/common.py?line=700'>701</a>\u001b[0m         handle \u001b[39m=\u001b[39m \u001b[39mopen\u001b[39;49m(\n\u001b[1;32m    <a href='file:///~/Library/Python/3.9/lib/python/site-packages/pandas/io/common.py?line=701'>702</a>\u001b[0m             handle,\n\u001b[1;32m    <a href='file:///~/Library/Python/3.9/lib/python/site-packages/pandas/io/common.py?line=702'>703</a>\u001b[0m             ioargs\u001b[39m.\u001b[39;49mmode,\n\u001b[1;32m    <a href='file:///~/Library/Python/3.9/lib/python/site-packages/pandas/io/common.py?line=703'>704</a>\u001b[0m             encoding\u001b[39m=\u001b[39;49mioargs\u001b[39m.\u001b[39;49mencoding,\n\u001b[1;32m    <a href='file:///~/Library/Python/3.9/lib/python/site-packages/pandas/io/common.py?line=704'>705</a>\u001b[0m             errors\u001b[39m=\u001b[39;49merrors,\n\u001b[1;32m    <a href='file:///~/Library/Python/3.9/lib/python/site-packages/pandas/io/common.py?line=705'>706</a>\u001b[0m             newline\u001b[39m=\u001b[39;49m\u001b[39m\"\u001b[39;49m\u001b[39m\"\u001b[39;49m,\n\u001b[1;32m    <a href='file:///~/Library/Python/3.9/lib/python/site-packages/pandas/io/common.py?line=706'>707</a>\u001b[0m         )\n\u001b[1;32m    <a href='file:///~/Library/Python/3.9/lib/python/site-packages/pandas/io/common.py?line=707'>708</a>\u001b[0m     \u001b[39melse\u001b[39;00m:\n\u001b[1;32m    <a href='file:///~/Library/Python/3.9/lib/python/site-packages/pandas/io/common.py?line=708'>709</a>\u001b[0m         \u001b[39m# Binary mode\u001b[39;00m\n\u001b[1;32m    <a href='file:///~/Library/Python/3.9/lib/python/site-packages/pandas/io/common.py?line=709'>710</a>\u001b[0m         handle \u001b[39m=\u001b[39m \u001b[39mopen\u001b[39m(handle, ioargs\u001b[39m.\u001b[39mmode)\n",
      "\u001b[0;31mFileNotFoundError\u001b[0m: [Errno 2] No such file or directory: '/Users/Blaven/Desktop/Final Project 504/pothole_requests_datasd_v1 (1).csv'"
     ]
    }
   ],
   "source": [
    "PH_data = pd.read_csv(\"/Users/Blaven/Desktop/Final Project 504/pothole_requests_datasd_v1 (1).csv\")\n",
    "PH_data.head()"
   ]
  },
  {
   "cell_type": "code",
   "execution_count": null,
   "id": "1ba21455",
   "metadata": {},
   "outputs": [],
   "source": [
    "PH_data.shape"
   ]
  },
  {
   "cell_type": "code",
   "execution_count": null,
   "id": "7e46e57f",
   "metadata": {},
   "outputs": [],
   "source": [
    "list(PH_data.columns)"
   ]
  },
  {
   "cell_type": "code",
   "execution_count": null,
   "id": "70b503cf",
   "metadata": {},
   "outputs": [],
   "source": [
    "case_days=PH_data[\"case_age_days\"].dropna()\n",
    "case_days=case_days.abs()\n",
    "temp1=case_days.unique().tolist()"
   ]
  },
  {
   "cell_type": "code",
   "execution_count": null,
   "id": "0b96fb84",
   "metadata": {},
   "outputs": [],
   "source": [
    "case_days.shape"
   ]
  },
  {
   "cell_type": "code",
   "execution_count": null,
   "id": "117df0b7",
   "metadata": {},
   "outputs": [],
   "source": [
    "max(temp1)"
   ]
  },
  {
   "cell_type": "code",
   "execution_count": null,
   "id": "17669f3c",
   "metadata": {},
   "outputs": [],
   "source": [
    "min(temp1)"
   ]
  },
  {
   "cell_type": "code",
   "execution_count": null,
   "id": "3173a115",
   "metadata": {},
   "outputs": [],
   "source": [
    "import matplotlib.pyplot as plt\n",
    "case_days.hist(bins=100)"
   ]
  },
  {
   "cell_type": "code",
   "execution_count": null,
   "id": "db1a0a0d",
   "metadata": {},
   "outputs": [],
   "source": [
    "84791-83463"
   ]
  },
  {
   "cell_type": "code",
   "execution_count": null,
   "id": "d656cb48",
   "metadata": {},
   "outputs": [
    {
     "data": {
      "text/plain": [
       "(84791, 7)"
      ]
     },
     "execution_count": 4,
     "metadata": {},
     "output_type": "execute_result"
    }
   ],
   "source": [
    "N_Var= PH_data[[\"service_request_id\",\"case_age_days\",\"status\",\"case_record_type\",\"comm_plan_name\",\"case_origin\",\"public_description\"]]\n",
    "N_Var.shape"
   ]
  },
  {
   "cell_type": "code",
   "execution_count": null,
   "id": "2fc7e35d",
   "metadata": {},
   "outputs": [
    {
     "data": {
      "text/plain": [
       "(84533,)"
      ]
     },
     "execution_count": 4,
     "metadata": {},
     "output_type": "execute_result"
    }
   ],
   "source": [
    "store2=PH_data[\"comm_plan_name\"].dropna()\n",
    "store2.shape"
   ]
  },
  {
   "cell_type": "code",
   "execution_count": null,
   "id": "e6a181e9",
   "metadata": {},
   "outputs": [
    {
     "data": {
      "text/plain": [
       "(75400, 7)"
      ]
     },
     "execution_count": 5,
     "metadata": {},
     "output_type": "execute_result"
    }
   ],
   "source": [
    "N_Var=N_Var.dropna()\n",
    "N_Var.shape"
   ]
  },
  {
   "cell_type": "code",
   "execution_count": null,
   "id": "acc5dcd4",
   "metadata": {},
   "outputs": [],
   "source": [
    "discard = [\"test\"]\n",
    "\n",
    "N_Var2=N_Var[~N_Var.public_description.str.contains('|'.join(discard))]\n",
    "N_Var3=N_Var2[~N_Var2.public_description.str.contains(\"Test\")]\n",
    "N_Var4=N_Var3[~N_Var3.public_description.str.contains(\"TEST\")]"
   ]
  },
  {
   "cell_type": "code",
   "execution_count": null,
   "id": "43950a49",
   "metadata": {},
   "outputs": [
    {
     "data": {
      "text/plain": [
       "(75240, 7)"
      ]
     },
     "execution_count": 7,
     "metadata": {},
     "output_type": "execute_result"
    }
   ],
   "source": [
    "N_Var4.shape\n",
    "#76892"
   ]
  },
  {
   "cell_type": "code",
   "execution_count": null,
   "id": "e133b146",
   "metadata": {},
   "outputs": [
    {
     "name": "stderr",
     "output_type": "stream",
     "text": [
      "<ipython-input-8-5adb02b2b196>:1: SettingWithCopyWarning: \n",
      "A value is trying to be set on a copy of a slice from a DataFrame.\n",
      "Try using .loc[row_indexer,col_indexer] = value instead\n",
      "\n",
      "See the caveats in the documentation: https://pandas.pydata.org/pandas-docs/stable/user_guide/indexing.html#returning-a-view-versus-a-copy\n",
      "  N_Var4[\"case_age_days\"]=abs(N_Var4[\"case_age_days\"])\n"
     ]
    },
    {
     "data": {
      "text/plain": [
       "(75240, 7)"
      ]
     },
     "execution_count": 8,
     "metadata": {},
     "output_type": "execute_result"
    }
   ],
   "source": [
    "N_Var4[\"case_age_days\"]=abs(N_Var4[\"case_age_days\"])\n",
    "N_Var4.shape"
   ]
  },
  {
   "cell_type": "code",
   "execution_count": null,
   "id": "c9ea233b",
   "metadata": {},
   "outputs": [],
   "source": [
    "N_Var4.to_csv('/Users/Blaven/Desktop/temp3.csv', index=False)"
   ]
  },
  {
   "cell_type": "code",
   "execution_count": null,
   "id": "69bc74d3",
   "metadata": {},
   "outputs": [
    {
     "data": {
      "text/html": [
       "<div>\n",
       "<style scoped>\n",
       "    .dataframe tbody tr th:only-of-type {\n",
       "        vertical-align: middle;\n",
       "    }\n",
       "\n",
       "    .dataframe tbody tr th {\n",
       "        vertical-align: top;\n",
       "    }\n",
       "\n",
       "    .dataframe thead th {\n",
       "        text-align: right;\n",
       "    }\n",
       "</style>\n",
       "<table border=\"1\" class=\"dataframe\">\n",
       "  <thead>\n",
       "    <tr style=\"text-align: right;\">\n",
       "      <th></th>\n",
       "      <th>service_request_id</th>\n",
       "      <th>case_age_days</th>\n",
       "      <th>status</th>\n",
       "      <th>case_record_type</th>\n",
       "      <th>comm_plan_name</th>\n",
       "      <th>case_origin</th>\n",
       "      <th>public_description</th>\n",
       "    </tr>\n",
       "  </thead>\n",
       "  <tbody>\n",
       "    <tr>\n",
       "      <th>2</th>\n",
       "      <td>80518</td>\n",
       "      <td>18.0</td>\n",
       "      <td>Closed</td>\n",
       "      <td>TSW</td>\n",
       "      <td>Mid-City:Kensington-Talmadge</td>\n",
       "      <td>Phone</td>\n",
       "      <td>4000 block of copeland just before you get on ...</td>\n",
       "    </tr>\n",
       "    <tr>\n",
       "      <th>3</th>\n",
       "      <td>80531</td>\n",
       "      <td>5.0</td>\n",
       "      <td>Closed</td>\n",
       "      <td>TSW</td>\n",
       "      <td>Torrey Pines</td>\n",
       "      <td>Phone</td>\n",
       "      <td>LARGE P/H CAUSED VEHICLE DAMAGE</td>\n",
       "    </tr>\n",
       "    <tr>\n",
       "      <th>5</th>\n",
       "      <td>80543</td>\n",
       "      <td>31.0</td>\n",
       "      <td>Closed</td>\n",
       "      <td>TSW</td>\n",
       "      <td>Pacific Beach</td>\n",
       "      <td>Phone</td>\n",
       "      <td>Caller reports cracks and potholes in alley</td>\n",
       "    </tr>\n",
       "    <tr>\n",
       "      <th>6</th>\n",
       "      <td>80547</td>\n",
       "      <td>344.0</td>\n",
       "      <td>Closed</td>\n",
       "      <td>TSW</td>\n",
       "      <td>Clairemont Mesa</td>\n",
       "      <td>Phone</td>\n",
       "      <td>Pothole in left turn lane going toward school</td>\n",
       "    </tr>\n",
       "    <tr>\n",
       "      <th>8</th>\n",
       "      <td>80577</td>\n",
       "      <td>34.0</td>\n",
       "      <td>Closed</td>\n",
       "      <td>TSW</td>\n",
       "      <td>San Pasqual</td>\n",
       "      <td>Phone</td>\n",
       "      <td>POTHOLE</td>\n",
       "    </tr>\n",
       "    <tr>\n",
       "      <th>...</th>\n",
       "      <td>...</td>\n",
       "      <td>...</td>\n",
       "      <td>...</td>\n",
       "      <td>...</td>\n",
       "      <td>...</td>\n",
       "      <td>...</td>\n",
       "      <td>...</td>\n",
       "    </tr>\n",
       "    <tr>\n",
       "      <th>84786</th>\n",
       "      <td>3437781</td>\n",
       "      <td>1.0</td>\n",
       "      <td>New</td>\n",
       "      <td>TSW</td>\n",
       "      <td>La Jolla</td>\n",
       "      <td>Web</td>\n",
       "      <td>From Via Avola to Hidden Valley (going down th...</td>\n",
       "    </tr>\n",
       "    <tr>\n",
       "      <th>84787</th>\n",
       "      <td>3437850</td>\n",
       "      <td>1.0</td>\n",
       "      <td>In Process</td>\n",
       "      <td>TSW</td>\n",
       "      <td>Clairemont Mesa</td>\n",
       "      <td>Phone</td>\n",
       "      <td>S/B GENESEE RIGHT BEFORE THE 52 ON RAMP- POTHO...</td>\n",
       "    </tr>\n",
       "    <tr>\n",
       "      <th>84788</th>\n",
       "      <td>3437886</td>\n",
       "      <td>1.0</td>\n",
       "      <td>In Process</td>\n",
       "      <td>TSW</td>\n",
       "      <td>Mid-City:Eastern Area</td>\n",
       "      <td>Web</td>\n",
       "      <td>There needs to be street resurfacing done to t...</td>\n",
       "    </tr>\n",
       "    <tr>\n",
       "      <th>84789</th>\n",
       "      <td>3437965</td>\n",
       "      <td>1.0</td>\n",
       "      <td>In Process</td>\n",
       "      <td>TSW</td>\n",
       "      <td>Uptown</td>\n",
       "      <td>Mobile</td>\n",
       "      <td>Severe pothole at street and garage entrance o...</td>\n",
       "    </tr>\n",
       "    <tr>\n",
       "      <th>84790</th>\n",
       "      <td>3437976</td>\n",
       "      <td>1.0</td>\n",
       "      <td>In Process</td>\n",
       "      <td>TSW</td>\n",
       "      <td>Downtown</td>\n",
       "      <td>Mobile</td>\n",
       "      <td>Pot hole whole street is messed up</td>\n",
       "    </tr>\n",
       "  </tbody>\n",
       "</table>\n",
       "<p>75240 rows × 7 columns</p>\n",
       "</div>"
      ],
      "text/plain": [
       "       service_request_id  case_age_days      status case_record_type  \\\n",
       "2                   80518           18.0      Closed              TSW   \n",
       "3                   80531            5.0      Closed              TSW   \n",
       "5                   80543           31.0      Closed              TSW   \n",
       "6                   80547          344.0      Closed              TSW   \n",
       "8                   80577           34.0      Closed              TSW   \n",
       "...                   ...            ...         ...              ...   \n",
       "84786             3437781            1.0         New              TSW   \n",
       "84787             3437850            1.0  In Process              TSW   \n",
       "84788             3437886            1.0  In Process              TSW   \n",
       "84789             3437965            1.0  In Process              TSW   \n",
       "84790             3437976            1.0  In Process              TSW   \n",
       "\n",
       "                     comm_plan_name case_origin  \\\n",
       "2      Mid-City:Kensington-Talmadge       Phone   \n",
       "3                      Torrey Pines       Phone   \n",
       "5                     Pacific Beach       Phone   \n",
       "6                   Clairemont Mesa       Phone   \n",
       "8                       San Pasqual       Phone   \n",
       "...                             ...         ...   \n",
       "84786                      La Jolla         Web   \n",
       "84787               Clairemont Mesa       Phone   \n",
       "84788         Mid-City:Eastern Area         Web   \n",
       "84789                        Uptown      Mobile   \n",
       "84790                      Downtown      Mobile   \n",
       "\n",
       "                                      public_description  \n",
       "2      4000 block of copeland just before you get on ...  \n",
       "3                        LARGE P/H CAUSED VEHICLE DAMAGE  \n",
       "5            Caller reports cracks and potholes in alley  \n",
       "6          Pothole in left turn lane going toward school  \n",
       "8                                                POTHOLE  \n",
       "...                                                  ...  \n",
       "84786  From Via Avola to Hidden Valley (going down th...  \n",
       "84787  S/B GENESEE RIGHT BEFORE THE 52 ON RAMP- POTHO...  \n",
       "84788  There needs to be street resurfacing done to t...  \n",
       "84789  Severe pothole at street and garage entrance o...  \n",
       "84790                 Pot hole whole street is messed up  \n",
       "\n",
       "[75240 rows x 7 columns]"
      ]
     },
     "execution_count": 13,
     "metadata": {},
     "output_type": "execute_result"
    }
   ],
   "source": [
    "N_Var4.drop_duplicates()\n"
   ]
  },
  {
   "cell_type": "code",
   "execution_count": 2,
   "id": "c381335e",
   "metadata": {},
   "outputs": [
    {
     "data": {
      "text/html": [
       "<div>\n",
       "<style scoped>\n",
       "    .dataframe tbody tr th:only-of-type {\n",
       "        vertical-align: middle;\n",
       "    }\n",
       "\n",
       "    .dataframe tbody tr th {\n",
       "        vertical-align: top;\n",
       "    }\n",
       "\n",
       "    .dataframe thead th {\n",
       "        text-align: right;\n",
       "    }\n",
       "</style>\n",
       "<table border=\"1\" class=\"dataframe\">\n",
       "  <thead>\n",
       "    <tr style=\"text-align: right;\">\n",
       "      <th></th>\n",
       "      <th>service_request_id</th>\n",
       "      <th>case_age_days</th>\n",
       "      <th>status</th>\n",
       "      <th>case_record_type</th>\n",
       "      <th>comm_plan_name</th>\n",
       "      <th>case_origin</th>\n",
       "      <th>public_description</th>\n",
       "    </tr>\n",
       "  </thead>\n",
       "  <tbody>\n",
       "    <tr>\n",
       "      <th>0</th>\n",
       "      <td>80518</td>\n",
       "      <td>18</td>\n",
       "      <td>Closed</td>\n",
       "      <td>TSW</td>\n",
       "      <td>Mid-City:Kensington-Talmadge</td>\n",
       "      <td>Phone</td>\n",
       "      <td>4000 block of copeland just before you get on ...</td>\n",
       "    </tr>\n",
       "    <tr>\n",
       "      <th>1</th>\n",
       "      <td>80531</td>\n",
       "      <td>5</td>\n",
       "      <td>Closed</td>\n",
       "      <td>TSW</td>\n",
       "      <td>Torrey Pines</td>\n",
       "      <td>Phone</td>\n",
       "      <td>LARGE P/H CAUSED VEHICLE DAMAGE</td>\n",
       "    </tr>\n",
       "    <tr>\n",
       "      <th>2</th>\n",
       "      <td>80543</td>\n",
       "      <td>31</td>\n",
       "      <td>Closed</td>\n",
       "      <td>TSW</td>\n",
       "      <td>Pacific Beach</td>\n",
       "      <td>Phone</td>\n",
       "      <td>Caller reports cracks and potholes in alley</td>\n",
       "    </tr>\n",
       "    <tr>\n",
       "      <th>3</th>\n",
       "      <td>80547</td>\n",
       "      <td>344</td>\n",
       "      <td>Closed</td>\n",
       "      <td>TSW</td>\n",
       "      <td>Clairemont Mesa</td>\n",
       "      <td>Phone</td>\n",
       "      <td>Pothole in left turn lane going toward school</td>\n",
       "    </tr>\n",
       "    <tr>\n",
       "      <th>4</th>\n",
       "      <td>80577</td>\n",
       "      <td>34</td>\n",
       "      <td>Closed</td>\n",
       "      <td>TSW</td>\n",
       "      <td>San Pasqual</td>\n",
       "      <td>Phone</td>\n",
       "      <td>POTHOLE</td>\n",
       "    </tr>\n",
       "  </tbody>\n",
       "</table>\n",
       "</div>"
      ],
      "text/plain": [
       "   service_request_id  case_age_days  status case_record_type  \\\n",
       "0               80518             18  Closed              TSW   \n",
       "1               80531              5  Closed              TSW   \n",
       "2               80543             31  Closed              TSW   \n",
       "3               80547            344  Closed              TSW   \n",
       "4               80577             34  Closed              TSW   \n",
       "\n",
       "                 comm_plan_name case_origin  \\\n",
       "0  Mid-City:Kensington-Talmadge       Phone   \n",
       "1                  Torrey Pines       Phone   \n",
       "2                 Pacific Beach       Phone   \n",
       "3               Clairemont Mesa       Phone   \n",
       "4                   San Pasqual       Phone   \n",
       "\n",
       "                                  public_description  \n",
       "0  4000 block of copeland just before you get on ...  \n",
       "1                    LARGE P/H CAUSED VEHICLE DAMAGE  \n",
       "2        Caller reports cracks and potholes in alley  \n",
       "3      Pothole in left turn lane going toward school  \n",
       "4                                            POTHOLE  "
      ]
     },
     "execution_count": 2,
     "metadata": {},
     "output_type": "execute_result"
    }
   ],
   "source": [
    "PH_data = pd.read_csv(\"/Users/georgegarcia/Desktop/504/final project/504_final-/temp3.csv\")\n",
    "PH_data.head()\n"
   ]
  },
  {
   "cell_type": "code",
   "execution_count": 3,
   "id": "0586d033",
   "metadata": {},
   "outputs": [
    {
     "data": {
      "text/plain": [
       "(75240, 7)"
      ]
     },
     "execution_count": 3,
     "metadata": {},
     "output_type": "execute_result"
    }
   ],
   "source": [
    "PH_data.shape"
   ]
  },
  {
   "cell_type": "code",
   "execution_count": 4,
   "id": "e7efd1e9",
   "metadata": {},
   "outputs": [
    {
     "data": {
      "image/png": "[encoded data removed]",
      "text/plain": [
       "<Figure size 432x288 with 1 Axes>"
      ]
     },
     "metadata": {
      "needs_background": "light"
     },
     "output_type": "display_data"
    }
   ],
   "source": [
    "import matplotlib.pyplot as plt\n",
    "PH_data.case_age_days.hist(bins=50,edgecolor = 'black')\n",
    "plt.ylabel(\"Number of entries\")\n",
    "plt.xlabel(\"Number of Days\")\n",
    "plt.title(\"Responce to ticket\")\n",
    "plt.show()\n",
    "# very right skewed will have to normalize the data"
   ]
  },
  {
   "cell_type": "code",
   "execution_count": null,
   "id": "801495c1",
   "metadata": {},
   "outputs": [
    {
     "data": {
      "image/png": "[encoded data removed]",
      "text/plain": [
       "<Figure size 576x396 with 1 Axes>"
      ]
     },
     "metadata": {
      "needs_background": "light"
     },
     "output_type": "display_data"
    }
   ],
   "source": [
    "plt.rcParams[\"figure.figsize\"] = (8,5.5)\n",
    "PH_data.comm_plan_name.hist(edgecolor = 'black')\n",
    "plt.xticks(rotation='vertical')\n",
    "plt.ylabel(\"Number of Reports\")\n",
    "plt.xlabel(\"County names\")\n",
    "plt.title(\"Total Responce to Server\")\n",
    "plt.show()"
   ]
  },
  {
   "cell_type": "code",
   "execution_count": 5,
   "id": "31dea1f8",
   "metadata": {},
   "outputs": [
    {
     "data": {
      "text/plain": [
       "<AxesSubplot:title={'center':'Device Report'}, xlabel='Type of Device ', ylabel='Number of Reports by Device'>"
      ]
     },
     "execution_count": 5,
     "metadata": {},
     "output_type": "execute_result"
    },
    {
     "data": {
      "image/png": "[encoded data removed]",
      "text/plain": [
       "<Figure size 2160x396 with 1 Axes>"
      ]
     },
     "metadata": {
      "needs_background": "light"
     },
     "output_type": "display_data"
    }
   ],
   "source": [
    "plt.rcParams[\"figure.figsize\"] = (30,5.5)\n",
    "plt.ylabel(\"Number of Reports by Device\")\n",
    "plt.xlabel(\"Type of Device \")\n",
    "plt.title(\"Device Report\")\n",
    "PH_data.case_origin.hist(edgecolor = 'black')"
   ]
  },
  {
   "cell_type": "code",
   "execution_count": null,
   "id": "aca8f429",
   "metadata": {},
   "outputs": [
    {
     "data": {
      "text/plain": [
       "Text(0.5, 1.0, 'Responsibility of Reporting to Pothole')"
      ]
     },
     "execution_count": 44,
     "metadata": {},
     "output_type": "execute_result"
    },
    {
     "data": {
      "image/png": "[encoded data removed]",
      "text/plain": [
       "<Figure size 720x396 with 1 Axes>"
      ]
     },
     "metadata": {
      "needs_background": "light"
     },
     "output_type": "display_data"
    }
   ],
   "source": [
    "plt.rcParams[\"figure.figsize\"] = (10,5.5)\n",
    "PH_data.case_record_type.hist(edgecolor = 'black')\n",
    "plt.ylabel(\"Ticket assigned to Department\")\n",
    "plt.xlabel(\"Department \")\n",
    "plt.title(\"Responsibility of Reporting to Pothole\")\n",
    "# TSW has a heavy influence than the others that you cant see the values\n",
    "# down scale after test split"
   ]
  },
  {
   "cell_type": "code",
   "execution_count": 5,
   "id": "45f05a6f",
   "metadata": {},
   "outputs": [
    {
     "data": {
      "text/plain": [
       "TSW                             75223\n",
       "Traffic Engineering                11\n",
       "Storm Water Code Enforcement        5\n",
       "ESD Complaint/Report                1\n",
       "Name: case_record_type, dtype: int64"
      ]
     },
     "execution_count": 5,
     "metadata": {},
     "output_type": "execute_result"
    }
   ],
   "source": [
    "PH_data[\"case_record_type\"].value_counts()"
   ]
  },
  {
   "cell_type": "code",
   "execution_count": 6,
   "id": "19284f29",
   "metadata": {},
   "outputs": [
    {
     "ename": "NameError",
     "evalue": "name 'plt' is not defined",
     "output_type": "error",
     "traceback": [
      "\u001b[0;31m---------------------------------------------------------------------------\u001b[0m",
      "\u001b[0;31mNameError\u001b[0m                                 Traceback (most recent call last)",
      "\u001b[1;32m/Users/georgegarcia/Desktop/504/Final Project 504 348.ipynb Cell 26'\u001b[0m in \u001b[0;36m<cell line: 1>\u001b[0;34m()\u001b[0m\n\u001b[0;32m----> <a href='vscode-notebook-cell:/Users/georgegarcia/Desktop/504/Final%20Project%20504%20348.ipynb#ch0000025?line=0'>1</a>\u001b[0m plt\u001b[39m.\u001b[39mrcParams[\u001b[39m\"\u001b[39m\u001b[39mfigure.figsize\u001b[39m\u001b[39m\"\u001b[39m] \u001b[39m=\u001b[39m (\u001b[39m10\u001b[39m,\u001b[39m5.5\u001b[39m)\n\u001b[1;32m      <a href='vscode-notebook-cell:/Users/georgegarcia/Desktop/504/Final%20Project%20504%20348.ipynb#ch0000025?line=1'>2</a>\u001b[0m plt\u001b[39m.\u001b[39mylabel(\u001b[39m\"\u001b[39m\u001b[39mNumber of tickets\u001b[39m\u001b[39m\"\u001b[39m)\n\u001b[1;32m      <a href='vscode-notebook-cell:/Users/georgegarcia/Desktop/504/Final%20Project%20504%20348.ipynb#ch0000025?line=2'>3</a>\u001b[0m plt\u001b[39m.\u001b[39mxlabel(\u001b[39m\"\u001b[39m\u001b[39mStatus \u001b[39m\u001b[39m\"\u001b[39m)\n",
      "\u001b[0;31mNameError\u001b[0m: name 'plt' is not defined"
     ]
    }
   ],
   "source": [
    "plt.rcParams[\"figure.figsize\"] = (10,5.5)\n",
    "plt.ylabel(\"Number of tickets\")\n",
    "plt.xlabel(\"Status \")\n",
    "plt.title(\"Cases Status\")\n",
    "PH_data.status.hist(edgecolor = 'black')\n",
    "# down scale the Closed after test split"
   ]
  },
  {
   "cell_type": "code",
   "execution_count": 6,
   "id": "a1ca64c7",
   "metadata": {},
   "outputs": [
    {
     "data": {
      "text/plain": [
       "Closed        73042\n",
       "In Process     1245\n",
       "Referred        950\n",
       "New               3\n",
       "Name: status, dtype: int64"
      ]
     },
     "execution_count": 6,
     "metadata": {},
     "output_type": "execute_result"
    }
   ],
   "source": [
    "PH_data[\"status\"].value_counts()"
   ]
  },
  {
   "cell_type": "code",
   "execution_count": 13,
   "id": "e98168f3",
   "metadata": {},
   "outputs": [
    {
     "data": {
      "image/png": "[encoded data removed]",
      "text/plain": [
       "<Figure size 720x504 with 1 Axes>"
      ]
     },
     "metadata": {
      "needs_background": "light"
     },
     "output_type": "display_data"
    }
   ],
   "source": [
    "import matplotlib.pyplot as plt\n",
    "import numpy as np\n",
    " \n",
    " \n",
    "# Creating dataset\n",
    " \n",
    "fig = plt.figure(figsize =(10, 7))\n",
    " \n",
    "# Creating plot\n",
    "plt.boxplot(PH_data.case_age_days)\n",
    " \n",
    "# show plot\n",
    "plt.show()\n",
    "\n",
    "# probally redoit after normalize"
   ]
  },
  {
   "cell_type": "code",
   "execution_count": null,
   "id": "f67f32a8",
   "metadata": {},
   "outputs": [
    {
     "data": {
      "text/plain": [
       "[0.0, 60.0]"
      ]
     },
     "execution_count": 49,
     "metadata": {},
     "output_type": "execute_result"
    },
    {
     "data": {
      "image/png": "[encoded data removed]",
      "text/plain": [
       "<Figure size 720x396 with 1 Axes>"
      ]
     },
     "metadata": {
      "needs_background": "light"
     },
     "output_type": "display_data"
    }
   ],
   "source": [
    "B = plt.boxplot(PH_data.case_age_days)\n",
    "[item.get_ydata()[1] for item in B['whiskers']]\n",
    "# dropping the outlier that is outside of 60 day mark"
   ]
  },
  {
   "cell_type": "code",
   "execution_count": 30,
   "id": "63378bd3",
   "metadata": {},
   "outputs": [
    {
     "data": {
      "text/plain": [
       "(67245, 7)"
      ]
     },
     "execution_count": 30,
     "metadata": {},
     "output_type": "execute_result"
    }
   ],
   "source": [
    "df_filtered = PH_data[PH_data['case_age_days'] < 61]\n",
    "  \n",
    "  \n",
    "# Print the shape of the dataframe\n",
    "df_filtered.shape"
   ]
  },
  {
   "cell_type": "code",
   "execution_count": 31,
   "id": "9255b71f",
   "metadata": {},
   "outputs": [
    {
     "data": {
      "text/html": [
       "<div>\n",
       "<style scoped>\n",
       "    .dataframe tbody tr th:only-of-type {\n",
       "        vertical-align: middle;\n",
       "    }\n",
       "\n",
       "    .dataframe tbody tr th {\n",
       "        vertical-align: top;\n",
       "    }\n",
       "\n",
       "    .dataframe thead th {\n",
       "        text-align: right;\n",
       "    }\n",
       "</style>\n",
       "<table border=\"1\" class=\"dataframe\">\n",
       "  <thead>\n",
       "    <tr style=\"text-align: right;\">\n",
       "      <th></th>\n",
       "      <th>service_request_id</th>\n",
       "      <th>case_age_days</th>\n",
       "      <th>status</th>\n",
       "      <th>case_record_type</th>\n",
       "      <th>comm_plan_name</th>\n",
       "      <th>case_origin</th>\n",
       "      <th>public_description</th>\n",
       "    </tr>\n",
       "  </thead>\n",
       "  <tbody>\n",
       "    <tr>\n",
       "      <th>0</th>\n",
       "      <td>80518</td>\n",
       "      <td>18</td>\n",
       "      <td>Closed</td>\n",
       "      <td>TSW</td>\n",
       "      <td>Mid-City:Kensington-Talmadge</td>\n",
       "      <td>Phone</td>\n",
       "      <td>4000 block of copeland just before you get on ...</td>\n",
       "    </tr>\n",
       "    <tr>\n",
       "      <th>1</th>\n",
       "      <td>80531</td>\n",
       "      <td>5</td>\n",
       "      <td>Closed</td>\n",
       "      <td>TSW</td>\n",
       "      <td>Torrey Pines</td>\n",
       "      <td>Phone</td>\n",
       "      <td>LARGE P/H CAUSED VEHICLE DAMAGE</td>\n",
       "    </tr>\n",
       "    <tr>\n",
       "      <th>2</th>\n",
       "      <td>80543</td>\n",
       "      <td>31</td>\n",
       "      <td>Closed</td>\n",
       "      <td>TSW</td>\n",
       "      <td>Pacific Beach</td>\n",
       "      <td>Phone</td>\n",
       "      <td>Caller reports cracks and potholes in alley</td>\n",
       "    </tr>\n",
       "    <tr>\n",
       "      <th>4</th>\n",
       "      <td>80577</td>\n",
       "      <td>34</td>\n",
       "      <td>Closed</td>\n",
       "      <td>TSW</td>\n",
       "      <td>San Pasqual</td>\n",
       "      <td>Phone</td>\n",
       "      <td>POTHOLE</td>\n",
       "    </tr>\n",
       "    <tr>\n",
       "      <th>5</th>\n",
       "      <td>80582</td>\n",
       "      <td>6</td>\n",
       "      <td>Closed</td>\n",
       "      <td>TSW</td>\n",
       "      <td>Mira Mesa</td>\n",
       "      <td>Web</td>\n",
       "      <td>Road damage that needsTo be repaired</td>\n",
       "    </tr>\n",
       "    <tr>\n",
       "      <th>6</th>\n",
       "      <td>80838</td>\n",
       "      <td>17</td>\n",
       "      <td>Closed</td>\n",
       "      <td>TSW</td>\n",
       "      <td>Pacific Beach</td>\n",
       "      <td>Web</td>\n",
       "      <td>Substantial pothole on westbound Grand Ave, in...</td>\n",
       "    </tr>\n",
       "    <tr>\n",
       "      <th>7</th>\n",
       "      <td>80844</td>\n",
       "      <td>12</td>\n",
       "      <td>Closed</td>\n",
       "      <td>TSW</td>\n",
       "      <td>University</td>\n",
       "      <td>Web</td>\n",
       "      <td>Pothole in street</td>\n",
       "    </tr>\n",
       "    <tr>\n",
       "      <th>8</th>\n",
       "      <td>80848</td>\n",
       "      <td>5</td>\n",
       "      <td>Closed</td>\n",
       "      <td>TSW</td>\n",
       "      <td>Clairemont Mesa</td>\n",
       "      <td>Web</td>\n",
       "      <td>on corner of appleton and genesee</td>\n",
       "    </tr>\n",
       "    <tr>\n",
       "      <th>10</th>\n",
       "      <td>80892</td>\n",
       "      <td>12</td>\n",
       "      <td>Closed</td>\n",
       "      <td>TSW</td>\n",
       "      <td>Sabre Springs</td>\n",
       "      <td>Web</td>\n",
       "      <td>Numerous potholes in pavement both westbound a...</td>\n",
       "    </tr>\n",
       "    <tr>\n",
       "      <th>11</th>\n",
       "      <td>80895</td>\n",
       "      <td>12</td>\n",
       "      <td>Closed</td>\n",
       "      <td>TSW</td>\n",
       "      <td>Sabre Springs</td>\n",
       "      <td>Web</td>\n",
       "      <td>many bad potholes SB Sabre Springs between Pow...</td>\n",
       "    </tr>\n",
       "  </tbody>\n",
       "</table>\n",
       "</div>"
      ],
      "text/plain": [
       "    service_request_id  case_age_days  status case_record_type  \\\n",
       "0                80518             18  Closed              TSW   \n",
       "1                80531              5  Closed              TSW   \n",
       "2                80543             31  Closed              TSW   \n",
       "4                80577             34  Closed              TSW   \n",
       "5                80582              6  Closed              TSW   \n",
       "6                80838             17  Closed              TSW   \n",
       "7                80844             12  Closed              TSW   \n",
       "8                80848              5  Closed              TSW   \n",
       "10               80892             12  Closed              TSW   \n",
       "11               80895             12  Closed              TSW   \n",
       "\n",
       "                  comm_plan_name case_origin  \\\n",
       "0   Mid-City:Kensington-Talmadge       Phone   \n",
       "1                   Torrey Pines       Phone   \n",
       "2                  Pacific Beach       Phone   \n",
       "4                    San Pasqual       Phone   \n",
       "5                      Mira Mesa         Web   \n",
       "6                  Pacific Beach         Web   \n",
       "7                     University         Web   \n",
       "8                Clairemont Mesa         Web   \n",
       "10                 Sabre Springs         Web   \n",
       "11                 Sabre Springs         Web   \n",
       "\n",
       "                                   public_description  \n",
       "0   4000 block of copeland just before you get on ...  \n",
       "1                     LARGE P/H CAUSED VEHICLE DAMAGE  \n",
       "2         Caller reports cracks and potholes in alley  \n",
       "4                                             POTHOLE  \n",
       "5                Road damage that needsTo be repaired  \n",
       "6   Substantial pothole on westbound Grand Ave, in...  \n",
       "7                                   Pothole in street  \n",
       "8                   on corner of appleton and genesee  \n",
       "10  Numerous potholes in pavement both westbound a...  \n",
       "11  many bad potholes SB Sabre Springs between Pow...  "
      ]
     },
     "execution_count": 31,
     "metadata": {},
     "output_type": "execute_result"
    }
   ],
   "source": [
    "df_filtered.head(10)"
   ]
  },
  {
   "cell_type": "code",
   "execution_count": 32,
   "id": "704ea2bc",
   "metadata": {},
   "outputs": [
    {
     "data": {
      "text/plain": [
       "<bound method Series.unique of 0        TSW\n",
       "1        TSW\n",
       "2        TSW\n",
       "4        TSW\n",
       "5        TSW\n",
       "        ... \n",
       "75235    TSW\n",
       "75236    TSW\n",
       "75237    TSW\n",
       "75238    TSW\n",
       "75239    TSW\n",
       "Name: case_record_type, Length: 67245, dtype: object>"
      ]
     },
     "execution_count": 32,
     "metadata": {},
     "output_type": "execute_result"
    }
   ],
   "source": [
    "df_filtered['case_record_type'].unique\n"
   ]
  },
  {
   "cell_type": "code",
   "execution_count": 33,
   "id": "3acb860f",
   "metadata": {},
   "outputs": [
    {
     "data": {
      "text/plain": [
       "1     4720\n",
       "2     3958\n",
       "3     3531\n",
       "4     3463\n",
       "5     3372\n",
       "      ... \n",
       "54     186\n",
       "57     167\n",
       "60     150\n",
       "58     133\n",
       "59     121\n",
       "Name: case_age_days, Length: 61, dtype: int64"
      ]
     },
     "execution_count": 33,
     "metadata": {},
     "output_type": "execute_result"
    }
   ],
   "source": [
    "df_filtered.case_age_days.value_counts()"
   ]
  },
  {
   "cell_type": "code",
   "execution_count": 34,
   "id": "fa5aa240",
   "metadata": {},
   "outputs": [],
   "source": [
    "df_filtered.describe()\n",
    "temp4=df_filtered"
   ]
  },
  {
   "cell_type": "code",
   "execution_count": 35,
   "id": "97da5975",
   "metadata": {},
   "outputs": [
    {
     "name": "stderr",
     "output_type": "stream",
     "text": [
      "/Users/georgegarcia/Library/Python/3.9/lib/python/site-packages/pandas/core/frame.py:3607: SettingWithCopyWarning: \n",
      "A value is trying to be set on a copy of a slice from a DataFrame.\n",
      "Try using .loc[row_indexer,col_indexer] = value instead\n",
      "\n",
      "See the caveats in the documentation: https://pandas.pydata.org/pandas-docs/stable/user_guide/indexing.html#returning-a-view-versus-a-copy\n",
      "  self._set_item(key, value)\n"
     ]
    }
   ],
   "source": [
    "temp4[\"case_record_type\"]=temp4[\"case_record_type\"].str.replace('ESD Complaint/Report','Specialty')\n",
    "temp4[\"case_record_type\"]=temp4[\"case_record_type\"].str.replace('Traffic Engineering','Specialty')\n",
    "temp4[\"case_record_type\"]=temp4[\"case_record_type\"].str.replace('Storm Water Code Enforcement','Specialty')"
   ]
  },
  {
   "cell_type": "code",
   "execution_count": 36,
   "id": "09360dab",
   "metadata": {},
   "outputs": [
    {
     "data": {
      "text/plain": [
       "array(['Closed', 'Referred', 'In Process', 'New'], dtype=object)"
      ]
     },
     "execution_count": 36,
     "metadata": {},
     "output_type": "execute_result"
    }
   ],
   "source": [
    "pd.unique(temp4[\"status\"])"
   ]
  },
  {
   "cell_type": "code",
   "execution_count": 37,
   "id": "f18e7f2c",
   "metadata": {},
   "outputs": [],
   "source": [
    "temp4[\"status\"]=temp4[\"status\"].str.replace('New','Open')\n",
    "temp4[\"status\"]=temp4[\"status\"].str.replace('Referred','Open')\n",
    "temp4[\"status\"]=temp4[\"status\"].str.replace('In Process','Open')"
   ]
  },
  {
   "cell_type": "code",
   "execution_count": 38,
   "id": "901b795c",
   "metadata": {},
   "outputs": [
    {
     "data": {
      "text/html": [
       "<div>\n",
       "<style scoped>\n",
       "    .dataframe tbody tr th:only-of-type {\n",
       "        vertical-align: middle;\n",
       "    }\n",
       "\n",
       "    .dataframe tbody tr th {\n",
       "        vertical-align: top;\n",
       "    }\n",
       "\n",
       "    .dataframe thead th {\n",
       "        text-align: right;\n",
       "    }\n",
       "</style>\n",
       "<table border=\"1\" class=\"dataframe\">\n",
       "  <thead>\n",
       "    <tr style=\"text-align: right;\">\n",
       "      <th></th>\n",
       "      <th>service_request_id</th>\n",
       "      <th>case_age_days</th>\n",
       "      <th>status</th>\n",
       "      <th>case_record_type</th>\n",
       "      <th>comm_plan_name</th>\n",
       "      <th>case_origin</th>\n",
       "      <th>public_description</th>\n",
       "    </tr>\n",
       "  </thead>\n",
       "  <tbody>\n",
       "    <tr>\n",
       "      <th>0</th>\n",
       "      <td>80518</td>\n",
       "      <td>18</td>\n",
       "      <td>Closed</td>\n",
       "      <td>TSW</td>\n",
       "      <td>Mid-City:Kensington-Talmadge</td>\n",
       "      <td>Phone</td>\n",
       "      <td>4000 block of copeland just before you get on ...</td>\n",
       "    </tr>\n",
       "    <tr>\n",
       "      <th>1</th>\n",
       "      <td>80531</td>\n",
       "      <td>5</td>\n",
       "      <td>Closed</td>\n",
       "      <td>TSW</td>\n",
       "      <td>Torrey Pines</td>\n",
       "      <td>Phone</td>\n",
       "      <td>LARGE P/H CAUSED VEHICLE DAMAGE</td>\n",
       "    </tr>\n",
       "    <tr>\n",
       "      <th>2</th>\n",
       "      <td>80543</td>\n",
       "      <td>31</td>\n",
       "      <td>Closed</td>\n",
       "      <td>TSW</td>\n",
       "      <td>Pacific Beach</td>\n",
       "      <td>Phone</td>\n",
       "      <td>Caller reports cracks and potholes in alley</td>\n",
       "    </tr>\n",
       "    <tr>\n",
       "      <th>4</th>\n",
       "      <td>80577</td>\n",
       "      <td>34</td>\n",
       "      <td>Closed</td>\n",
       "      <td>TSW</td>\n",
       "      <td>San Pasqual</td>\n",
       "      <td>Phone</td>\n",
       "      <td>POTHOLE</td>\n",
       "    </tr>\n",
       "    <tr>\n",
       "      <th>5</th>\n",
       "      <td>80582</td>\n",
       "      <td>6</td>\n",
       "      <td>Closed</td>\n",
       "      <td>TSW</td>\n",
       "      <td>Mira Mesa</td>\n",
       "      <td>Web</td>\n",
       "      <td>Road damage that needsTo be repaired</td>\n",
       "    </tr>\n",
       "    <tr>\n",
       "      <th>...</th>\n",
       "      <td>...</td>\n",
       "      <td>...</td>\n",
       "      <td>...</td>\n",
       "      <td>...</td>\n",
       "      <td>...</td>\n",
       "      <td>...</td>\n",
       "      <td>...</td>\n",
       "    </tr>\n",
       "    <tr>\n",
       "      <th>75235</th>\n",
       "      <td>3437781</td>\n",
       "      <td>1</td>\n",
       "      <td>Open</td>\n",
       "      <td>TSW</td>\n",
       "      <td>La Jolla</td>\n",
       "      <td>Web</td>\n",
       "      <td>From Via Avola to Hidden Valley (going down th...</td>\n",
       "    </tr>\n",
       "    <tr>\n",
       "      <th>75236</th>\n",
       "      <td>3437850</td>\n",
       "      <td>1</td>\n",
       "      <td>Open</td>\n",
       "      <td>TSW</td>\n",
       "      <td>Clairemont Mesa</td>\n",
       "      <td>Phone</td>\n",
       "      <td>S/B GENESEE RIGHT BEFORE THE 52 ON RAMP- POTHO...</td>\n",
       "    </tr>\n",
       "    <tr>\n",
       "      <th>75237</th>\n",
       "      <td>3437886</td>\n",
       "      <td>1</td>\n",
       "      <td>Open</td>\n",
       "      <td>TSW</td>\n",
       "      <td>Mid-City:Eastern Area</td>\n",
       "      <td>Web</td>\n",
       "      <td>There needs to be street resurfacing done to t...</td>\n",
       "    </tr>\n",
       "    <tr>\n",
       "      <th>75238</th>\n",
       "      <td>3437965</td>\n",
       "      <td>1</td>\n",
       "      <td>Open</td>\n",
       "      <td>TSW</td>\n",
       "      <td>Uptown</td>\n",
       "      <td>Mobile</td>\n",
       "      <td>Severe pothole at street and garage entrance o...</td>\n",
       "    </tr>\n",
       "    <tr>\n",
       "      <th>75239</th>\n",
       "      <td>3437976</td>\n",
       "      <td>1</td>\n",
       "      <td>Open</td>\n",
       "      <td>TSW</td>\n",
       "      <td>Downtown</td>\n",
       "      <td>Mobile</td>\n",
       "      <td>Pot hole whole street is messed up</td>\n",
       "    </tr>\n",
       "  </tbody>\n",
       "</table>\n",
       "<p>67245 rows × 7 columns</p>\n",
       "</div>"
      ],
      "text/plain": [
       "       service_request_id  case_age_days  status case_record_type  \\\n",
       "0                   80518             18  Closed              TSW   \n",
       "1                   80531              5  Closed              TSW   \n",
       "2                   80543             31  Closed              TSW   \n",
       "4                   80577             34  Closed              TSW   \n",
       "5                   80582              6  Closed              TSW   \n",
       "...                   ...            ...     ...              ...   \n",
       "75235             3437781              1    Open              TSW   \n",
       "75236             3437850              1    Open              TSW   \n",
       "75237             3437886              1    Open              TSW   \n",
       "75238             3437965              1    Open              TSW   \n",
       "75239             3437976              1    Open              TSW   \n",
       "\n",
       "                     comm_plan_name case_origin  \\\n",
       "0      Mid-City:Kensington-Talmadge       Phone   \n",
       "1                      Torrey Pines       Phone   \n",
       "2                     Pacific Beach       Phone   \n",
       "4                       San Pasqual       Phone   \n",
       "5                         Mira Mesa         Web   \n",
       "...                             ...         ...   \n",
       "75235                      La Jolla         Web   \n",
       "75236               Clairemont Mesa       Phone   \n",
       "75237         Mid-City:Eastern Area         Web   \n",
       "75238                        Uptown      Mobile   \n",
       "75239                      Downtown      Mobile   \n",
       "\n",
       "                                      public_description  \n",
       "0      4000 block of copeland just before you get on ...  \n",
       "1                        LARGE P/H CAUSED VEHICLE DAMAGE  \n",
       "2            Caller reports cracks and potholes in alley  \n",
       "4                                                POTHOLE  \n",
       "5                   Road damage that needsTo be repaired  \n",
       "...                                                  ...  \n",
       "75235  From Via Avola to Hidden Valley (going down th...  \n",
       "75236  S/B GENESEE RIGHT BEFORE THE 52 ON RAMP- POTHO...  \n",
       "75237  There needs to be street resurfacing done to t...  \n",
       "75238  Severe pothole at street and garage entrance o...  \n",
       "75239                 Pot hole whole street is messed up  \n",
       "\n",
       "[67245 rows x 7 columns]"
      ]
     },
     "execution_count": 38,
     "metadata": {},
     "output_type": "execute_result"
    }
   ],
   "source": [
    "temp4"
   ]
  },
  {
   "cell_type": "code",
   "execution_count": 81,
   "id": "368f2e4f",
   "metadata": {},
   "outputs": [
    {
     "name": "stderr",
     "output_type": "stream",
     "text": [
      "/Users/georgegarcia/Library/Python/3.9/lib/python/site-packages/pandas/core/frame.py:3607: SettingWithCopyWarning: \n",
      "A value is trying to be set on a copy of a slice from a DataFrame.\n",
      "Try using .loc[row_indexer,col_indexer] = value instead\n",
      "\n",
      "See the caveats in the documentation: https://pandas.pydata.org/pandas-docs/stable/user_guide/indexing.html#returning-a-view-versus-a-copy\n",
      "  self._set_item(key, value)\n"
     ]
    }
   ],
   "source": [
    "temp4[\"case_record_type\"]=temp4[\"case_record_type\"].str.replace('TSW','1')\n",
    "temp4[\"case_record_type\"]=temp4[\"case_record_type\"].str.replace('Specialty','0')"
   ]
  },
  {
   "cell_type": "code",
   "execution_count": 82,
   "id": "db77e3d9",
   "metadata": {},
   "outputs": [],
   "source": [
    "temp4[\"case_record_type\"]=temp4['case_record_type'].astype(float)"
   ]
  },
  {
   "cell_type": "code",
   "execution_count": 83,
   "id": "ebf03ec3",
   "metadata": {},
   "outputs": [
    {
     "data": {
      "text/html": [
       "<div>\n",
       "<style scoped>\n",
       "    .dataframe tbody tr th:only-of-type {\n",
       "        vertical-align: middle;\n",
       "    }\n",
       "\n",
       "    .dataframe tbody tr th {\n",
       "        vertical-align: top;\n",
       "    }\n",
       "\n",
       "    .dataframe thead th {\n",
       "        text-align: right;\n",
       "    }\n",
       "</style>\n",
       "<table border=\"1\" class=\"dataframe\">\n",
       "  <thead>\n",
       "    <tr style=\"text-align: right;\">\n",
       "      <th></th>\n",
       "      <th>service_request_id</th>\n",
       "      <th>case_age_days</th>\n",
       "      <th>status</th>\n",
       "      <th>case_record_type</th>\n",
       "      <th>comm_plan_name</th>\n",
       "      <th>case_origin</th>\n",
       "      <th>public_description</th>\n",
       "    </tr>\n",
       "  </thead>\n",
       "  <tbody>\n",
       "    <tr>\n",
       "      <th>0</th>\n",
       "      <td>80518</td>\n",
       "      <td>18</td>\n",
       "      <td>Closed</td>\n",
       "      <td>1.0</td>\n",
       "      <td>Mid-City:Kensington-Talmadge</td>\n",
       "      <td>Phone</td>\n",
       "      <td>4000 block of copeland just before you get on ...</td>\n",
       "    </tr>\n",
       "    <tr>\n",
       "      <th>1</th>\n",
       "      <td>80531</td>\n",
       "      <td>5</td>\n",
       "      <td>Closed</td>\n",
       "      <td>1.0</td>\n",
       "      <td>Torrey Pines</td>\n",
       "      <td>Phone</td>\n",
       "      <td>LARGE P/H CAUSED VEHICLE DAMAGE</td>\n",
       "    </tr>\n",
       "    <tr>\n",
       "      <th>2</th>\n",
       "      <td>80543</td>\n",
       "      <td>31</td>\n",
       "      <td>Closed</td>\n",
       "      <td>1.0</td>\n",
       "      <td>Pacific Beach</td>\n",
       "      <td>Phone</td>\n",
       "      <td>Caller reports cracks and potholes in alley</td>\n",
       "    </tr>\n",
       "    <tr>\n",
       "      <th>4</th>\n",
       "      <td>80577</td>\n",
       "      <td>34</td>\n",
       "      <td>Closed</td>\n",
       "      <td>1.0</td>\n",
       "      <td>San Pasqual</td>\n",
       "      <td>Phone</td>\n",
       "      <td>POTHOLE</td>\n",
       "    </tr>\n",
       "    <tr>\n",
       "      <th>5</th>\n",
       "      <td>80582</td>\n",
       "      <td>6</td>\n",
       "      <td>Closed</td>\n",
       "      <td>1.0</td>\n",
       "      <td>Mira Mesa</td>\n",
       "      <td>Web</td>\n",
       "      <td>Road damage that needsTo be repaired</td>\n",
       "    </tr>\n",
       "    <tr>\n",
       "      <th>...</th>\n",
       "      <td>...</td>\n",
       "      <td>...</td>\n",
       "      <td>...</td>\n",
       "      <td>...</td>\n",
       "      <td>...</td>\n",
       "      <td>...</td>\n",
       "      <td>...</td>\n",
       "    </tr>\n",
       "    <tr>\n",
       "      <th>75235</th>\n",
       "      <td>3437781</td>\n",
       "      <td>1</td>\n",
       "      <td>Open</td>\n",
       "      <td>1.0</td>\n",
       "      <td>La Jolla</td>\n",
       "      <td>Web</td>\n",
       "      <td>From Via Avola to Hidden Valley (going down th...</td>\n",
       "    </tr>\n",
       "    <tr>\n",
       "      <th>75236</th>\n",
       "      <td>3437850</td>\n",
       "      <td>1</td>\n",
       "      <td>Open</td>\n",
       "      <td>1.0</td>\n",
       "      <td>Clairemont Mesa</td>\n",
       "      <td>Phone</td>\n",
       "      <td>S/B GENESEE RIGHT BEFORE THE 52 ON RAMP- POTHO...</td>\n",
       "    </tr>\n",
       "    <tr>\n",
       "      <th>75237</th>\n",
       "      <td>3437886</td>\n",
       "      <td>1</td>\n",
       "      <td>Open</td>\n",
       "      <td>1.0</td>\n",
       "      <td>Mid-City:Eastern Area</td>\n",
       "      <td>Web</td>\n",
       "      <td>There needs to be street resurfacing done to t...</td>\n",
       "    </tr>\n",
       "    <tr>\n",
       "      <th>75238</th>\n",
       "      <td>3437965</td>\n",
       "      <td>1</td>\n",
       "      <td>Open</td>\n",
       "      <td>1.0</td>\n",
       "      <td>Uptown</td>\n",
       "      <td>Mobile</td>\n",
       "      <td>Severe pothole at street and garage entrance o...</td>\n",
       "    </tr>\n",
       "    <tr>\n",
       "      <th>75239</th>\n",
       "      <td>3437976</td>\n",
       "      <td>1</td>\n",
       "      <td>Open</td>\n",
       "      <td>1.0</td>\n",
       "      <td>Downtown</td>\n",
       "      <td>Mobile</td>\n",
       "      <td>Pot hole whole street is messed up</td>\n",
       "    </tr>\n",
       "  </tbody>\n",
       "</table>\n",
       "<p>67245 rows × 7 columns</p>\n",
       "</div>"
      ],
      "text/plain": [
       "       service_request_id  case_age_days  status  case_record_type  \\\n",
       "0                   80518             18  Closed               1.0   \n",
       "1                   80531              5  Closed               1.0   \n",
       "2                   80543             31  Closed               1.0   \n",
       "4                   80577             34  Closed               1.0   \n",
       "5                   80582              6  Closed               1.0   \n",
       "...                   ...            ...     ...               ...   \n",
       "75235             3437781              1    Open               1.0   \n",
       "75236             3437850              1    Open               1.0   \n",
       "75237             3437886              1    Open               1.0   \n",
       "75238             3437965              1    Open               1.0   \n",
       "75239             3437976              1    Open               1.0   \n",
       "\n",
       "                     comm_plan_name case_origin  \\\n",
       "0      Mid-City:Kensington-Talmadge       Phone   \n",
       "1                      Torrey Pines       Phone   \n",
       "2                     Pacific Beach       Phone   \n",
       "4                       San Pasqual       Phone   \n",
       "5                         Mira Mesa         Web   \n",
       "...                             ...         ...   \n",
       "75235                      La Jolla         Web   \n",
       "75236               Clairemont Mesa       Phone   \n",
       "75237         Mid-City:Eastern Area         Web   \n",
       "75238                        Uptown      Mobile   \n",
       "75239                      Downtown      Mobile   \n",
       "\n",
       "                                      public_description  \n",
       "0      4000 block of copeland just before you get on ...  \n",
       "1                        LARGE P/H CAUSED VEHICLE DAMAGE  \n",
       "2            Caller reports cracks and potholes in alley  \n",
       "4                                                POTHOLE  \n",
       "5                   Road damage that needsTo be repaired  \n",
       "...                                                  ...  \n",
       "75235  From Via Avola to Hidden Valley (going down th...  \n",
       "75236  S/B GENESEE RIGHT BEFORE THE 52 ON RAMP- POTHO...  \n",
       "75237  There needs to be street resurfacing done to t...  \n",
       "75238  Severe pothole at street and garage entrance o...  \n",
       "75239                 Pot hole whole street is messed up  \n",
       "\n",
       "[67245 rows x 7 columns]"
      ]
     },
     "execution_count": 83,
     "metadata": {},
     "output_type": "execute_result"
    }
   ],
   "source": [
    "temp4"
   ]
  },
  {
   "cell_type": "code",
   "execution_count": 98,
   "id": "7f0f0449",
   "metadata": {},
   "outputs": [
    {
     "name": "stderr",
     "output_type": "stream",
     "text": [
      "/Users/georgegarcia/Library/Python/3.9/lib/python/site-packages/pandas/core/frame.py:3607: SettingWithCopyWarning: \n",
      "A value is trying to be set on a copy of a slice from a DataFrame.\n",
      "Try using .loc[row_indexer,col_indexer] = value instead\n",
      "\n",
      "See the caveats in the documentation: https://pandas.pydata.org/pandas-docs/stable/user_guide/indexing.html#returning-a-view-versus-a-copy\n",
      "  self._set_item(key, value)\n"
     ]
    }
   ],
   "source": [
    "labelencoder = LabelEncoder()\n",
    "# Assigning numerical values and storing in another column\n",
    "temp4[\"comm_plan_name\"] = labelencoder.fit_transform(temp4[\"comm_plan_name\"])\n",
    "temp5=temp4.drop(columns=['case_origin','public_description','service_request_id'])"
   ]
  },
  {
   "cell_type": "code",
   "execution_count": 88,
   "id": "aab15439",
   "metadata": {},
   "outputs": [],
   "source": [
    "cat_feat = df_filtered[['case_age_days', 'case_record_type','comm_plan_name']]\n",
    "\n",
    "X= cat_feat\n",
    "y= df_filtered[['status']]\n",
    "X_train, X_test, y_train, y_test =train_test_split(X, y, test_size=0.5,random_state=42)\n",
    "balanced_model = make_pipeline(OneHotEncoder(),Perceptron(class_weight='balanced'))"
   ]
  },
  {
   "cell_type": "code",
   "execution_count": 39,
   "id": "602e48c3",
   "metadata": {},
   "outputs": [],
   "source": [
    "import pandas as pd\n",
    "import numpy as np\n",
    "import json\n",
    "import os\n",
    "import matplotlib.pyplot as plt\n",
    "import seaborn as sns\n",
    "import json\n",
    "from sklearn.preprocessing import OneHotEncoder, OrdinalEncoder, LabelEncoder, StandardScaler, Normalizer\n",
    "from sklearn.compose import ColumnTransformer\n",
    "from sklearn.impute import SimpleImputer\n",
    "from sklearn.metrics import confusion_matrix, accuracy_score, plot_confusion_matrix, classification_report\n",
    "from sklearn.model_selection import train_test_split, cross_val_score\n",
    "from sklearn.pipeline import make_pipeline, Pipeline\n",
    "from sklearn.feature_extraction.text import TfidfVectorizer\n",
    "from sklearn.feature_selection import SelectKBest, chi2\n",
    "from sklearn.linear_model import Perceptron"
   ]
  },
  {
   "cell_type": "code",
   "execution_count": 19,
   "id": "12038f92",
   "metadata": {},
   "outputs": [
    {
     "name": "stdout",
     "output_type": "stream",
     "text": [
      "Requirement already satisfied: imbalanced-learn in /opt/anaconda3/lib/python3.8/site-packages (0.8.1)\n",
      "Requirement already satisfied: scipy>=0.19.1 in /opt/anaconda3/lib/python3.8/site-packages (from imbalanced-learn) (1.6.2)\n",
      "Requirement already satisfied: scikit-learn>=0.24 in /opt/anaconda3/lib/python3.8/site-packages (from imbalanced-learn) (1.1.2)\n",
      "Requirement already satisfied: numpy>=1.13.3 in /opt/anaconda3/lib/python3.8/site-packages (from imbalanced-learn) (1.20.1)\n",
      "Requirement already satisfied: joblib>=0.11 in /opt/anaconda3/lib/python3.8/site-packages (from imbalanced-learn) (1.0.1)\n",
      "Requirement already satisfied: threadpoolctl>=2.0.0 in /opt/anaconda3/lib/python3.8/site-packages (from scikit-learn>=0.24->imbalanced-learn) (2.1.0)\n"
     ]
    }
   ],
   "source": [
    "!pip install imbalanced-learn"
   ]
  },
  {
   "cell_type": "code",
   "execution_count": 89,
   "id": "b8e6751a",
   "metadata": {},
   "outputs": [
    {
     "name": "stderr",
     "output_type": "stream",
     "text": [
      "/Library/Frameworks/Python.framework/Versions/3.9/lib/python3.9/site-packages/sklearn/utils/validation.py:1111: DataConversionWarning: A column-vector y was passed when a 1d array was expected. Please change the shape of y to (n_samples, ), for example using ravel().\n",
      "  y = column_or_1d(y, warn=True)\n",
      "/Library/Frameworks/Python.framework/Versions/3.9/lib/python3.9/site-packages/sklearn/utils/validation.py:1111: DataConversionWarning: A column-vector y was passed when a 1d array was expected. Please change the shape of y to (n_samples, ), for example using ravel().\n",
      "  y = column_or_1d(y, warn=True)\n"
     ]
    },
    {
     "data": {
      "text/html": [
       "<style>#sk-container-id-4 {color: black;background-color: white;}#sk-container-id-4 pre{padding: 0;}#sk-container-id-4 div.sk-toggleable {background-color: white;}#sk-container-id-4 label.sk-toggleable__label {cursor: pointer;display: block;width: 100%;margin-bottom: 0;padding: 0.3em;box-sizing: border-box;text-align: center;}#sk-container-id-4 label.sk-toggleable__label-arrow:before {content: \"▸\";float: left;margin-right: 0.25em;color: #696969;}#sk-container-id-4 label.sk-toggleable__label-arrow:hover:before {color: black;}#sk-container-id-4 div.sk-estimator:hover label.sk-toggleable__label-arrow:before {color: black;}#sk-container-id-4 div.sk-toggleable__content {max-height: 0;max-width: 0;overflow: hidden;text-align: left;background-color: #f0f8ff;}#sk-container-id-4 div.sk-toggleable__content pre {margin: 0.2em;color: black;border-radius: 0.25em;background-color: #f0f8ff;}#sk-container-id-4 input.sk-toggleable__control:checked~div.sk-toggleable__content {max-height: 200px;max-width: 100%;overflow: auto;}#sk-container-id-4 input.sk-toggleable__control:checked~label.sk-toggleable__label-arrow:before {content: \"▾\";}#sk-container-id-4 div.sk-estimator input.sk-toggleable__control:checked~label.sk-toggleable__label {background-color: #d4ebff;}#sk-container-id-4 div.sk-label input.sk-toggleable__control:checked~label.sk-toggleable__label {background-color: #d4ebff;}#sk-container-id-4 input.sk-hidden--visually {border: 0;clip: rect(1px 1px 1px 1px);clip: rect(1px, 1px, 1px, 1px);height: 1px;margin: -1px;overflow: hidden;padding: 0;position: absolute;width: 1px;}#sk-container-id-4 div.sk-estimator {font-family: monospace;background-color: #f0f8ff;border: 1px dotted black;border-radius: 0.25em;box-sizing: border-box;margin-bottom: 0.5em;}#sk-container-id-4 div.sk-estimator:hover {background-color: #d4ebff;}#sk-container-id-4 div.sk-parallel-item::after {content: \"\";width: 100%;border-bottom: 1px solid gray;flex-grow: 1;}#sk-container-id-4 div.sk-label:hover label.sk-toggleable__label {background-color: #d4ebff;}#sk-container-id-4 div.sk-serial::before {content: \"\";position: absolute;border-left: 1px solid gray;box-sizing: border-box;top: 0;bottom: 0;left: 50%;z-index: 0;}#sk-container-id-4 div.sk-serial {display: flex;flex-direction: column;align-items: center;background-color: white;padding-right: 0.2em;padding-left: 0.2em;position: relative;}#sk-container-id-4 div.sk-item {position: relative;z-index: 1;}#sk-container-id-4 div.sk-parallel {display: flex;align-items: stretch;justify-content: center;background-color: white;position: relative;}#sk-container-id-4 div.sk-item::before, #sk-container-id-4 div.sk-parallel-item::before {content: \"\";position: absolute;border-left: 1px solid gray;box-sizing: border-box;top: 0;bottom: 0;left: 50%;z-index: -1;}#sk-container-id-4 div.sk-parallel-item {display: flex;flex-direction: column;z-index: 1;position: relative;background-color: white;}#sk-container-id-4 div.sk-parallel-item:first-child::after {align-self: flex-end;width: 50%;}#sk-container-id-4 div.sk-parallel-item:last-child::after {align-self: flex-start;width: 50%;}#sk-container-id-4 div.sk-parallel-item:only-child::after {width: 0;}#sk-container-id-4 div.sk-dashed-wrapped {border: 1px dashed gray;margin: 0 0.4em 0.5em 0.4em;box-sizing: border-box;padding-bottom: 0.4em;background-color: white;}#sk-container-id-4 div.sk-label label {font-family: monospace;font-weight: bold;display: inline-block;line-height: 1.2em;}#sk-container-id-4 div.sk-label-container {text-align: center;}#sk-container-id-4 div.sk-container {/* jupyter's `normalize.less` sets `[hidden] { display: none; }` but bootstrap.min.css set `[hidden] { display: none !important; }` so we also need the `!important` here to be able to override the default hidden behavior on the sphinx rendered scikit-learn.org. See: https://github.com/scikit-learn/scikit-learn/issues/21755 */display: inline-block !important;position: relative;}#sk-container-id-4 div.sk-text-repr-fallback {display: none;}</style><div id=\"sk-container-id-4\" class=\"sk-top-container\"><div class=\"sk-text-repr-fallback\"><pre>Pipeline(steps=[(&#x27;onehotencoder&#x27;, OneHotEncoder()),\n",
       "                (&#x27;perceptron&#x27;, Perceptron())])</pre><b>In a Jupyter environment, please rerun this cell to show the HTML representation or trust the notebook. <br />On GitHub, the HTML representation is unable to render, please try loading this page with nbviewer.org.</b></div><div class=\"sk-container\" hidden><div class=\"sk-item sk-dashed-wrapped\"><div class=\"sk-label-container\"><div class=\"sk-label sk-toggleable\"><input class=\"sk-toggleable__control sk-hidden--visually\" id=\"sk-estimator-id-10\" type=\"checkbox\" ><label for=\"sk-estimator-id-10\" class=\"sk-toggleable__label sk-toggleable__label-arrow\">Pipeline</label><div class=\"sk-toggleable__content\"><pre>Pipeline(steps=[(&#x27;onehotencoder&#x27;, OneHotEncoder()),\n",
       "                (&#x27;perceptron&#x27;, Perceptron())])</pre></div></div></div><div class=\"sk-serial\"><div class=\"sk-item\"><div class=\"sk-estimator sk-toggleable\"><input class=\"sk-toggleable__control sk-hidden--visually\" id=\"sk-estimator-id-11\" type=\"checkbox\" ><label for=\"sk-estimator-id-11\" class=\"sk-toggleable__label sk-toggleable__label-arrow\">OneHotEncoder</label><div class=\"sk-toggleable__content\"><pre>OneHotEncoder()</pre></div></div></div><div class=\"sk-item\"><div class=\"sk-estimator sk-toggleable\"><input class=\"sk-toggleable__control sk-hidden--visually\" id=\"sk-estimator-id-12\" type=\"checkbox\" ><label for=\"sk-estimator-id-12\" class=\"sk-toggleable__label sk-toggleable__label-arrow\">Perceptron</label><div class=\"sk-toggleable__content\"><pre>Perceptron()</pre></div></div></div></div></div></div></div>"
      ],
      "text/plain": [
       "Pipeline(steps=[('onehotencoder', OneHotEncoder()),\n",
       "                ('perceptron', Perceptron())])"
      ]
     },
     "execution_count": 89,
     "metadata": {},
     "output_type": "execute_result"
    }
   ],
   "source": [
    "cat_feat = temp4[['case_age_days', 'case_record_type','comm_plan_name']]\n",
    "\n",
    "X= cat_feat\n",
    "y= df_filtered[['status']]\n",
    "X_train, X_test, y_train, y_test =train_test_split(X, y, test_size=0.5,random_state=42)\n",
    "\n",
    "balanced_model = make_pipeline(OneHotEncoder(),Perceptron(class_weight='balanced'))\n",
    "unbalanced_model = make_pipeline(OneHotEncoder(), Perceptron())\n",
    "\n",
    "# fit the models here:\n",
    "balanced_model.fit(X_train, y_train)\n",
    "unbalanced_model.fit(X_train, y_train)"
   ]
  },
  {
   "cell_type": "code",
   "execution_count": 59,
   "id": "39ee169a",
   "metadata": {},
   "outputs": [],
   "source": [
    "\n",
    "from imblearn.ensemble import BalancedBaggingClassifier\n",
    "from sklearn.tree import DecisionTreeClassifier\n",
    "\n",
    "#Create an object of the classifier.\n",
    "bbc = BalancedBaggingClassifier(base_estimator=DecisionTreeClassifier(),\n",
    "                                sampling_strategy='auto',\n",
    "                                replacement=False,\n",
    "                                random_state=42)\n",
    "\n",
    "\n",
    "#Train the classifier.\n",
    "bbc.fit(X_train, y_train)\n",
    "preds = bbc.predict(X_test)\n"
   ]
  },
  {
   "cell_type": "code",
   "execution_count": 71,
   "id": "e4da6892",
   "metadata": {},
   "outputs": [
    {
     "data": {
      "text/plain": [
       "0.04330369092585432"
      ]
     },
     "execution_count": 71,
     "metadata": {},
     "output_type": "execute_result"
    }
   ],
   "source": [
    "from sklearn.metrics import accuracy_score\n",
    "accuracy = accuracy_score(y_test], preds)\n",
    "accuracy"
   ]
  },
  {
   "cell_type": "code",
   "execution_count": 90,
   "id": "1457bf7f",
   "metadata": {},
   "outputs": [],
   "source": [
    "\n",
    "from imblearn.over_sampling import SMOTE"
   ]
  },
  {
   "cell_type": "code",
   "execution_count": 96,
   "id": "21a555dc",
   "metadata": {},
   "outputs": [],
   "source": [
    "# Resample the minority class. You can change the strategy to 'auto' if you are not sure.\n",
    "sm = SMOTE(sampling_strategy='minority', random_state=7)"
   ]
  },
  {
   "cell_type": "code",
   "execution_count": 99,
   "id": "3045c73e",
   "metadata": {},
   "outputs": [],
   "source": [
    "X_balanced, y_balanced = sm.fit_resample(temp5.drop('status', axis=1), temp5['status'])"
   ]
  },
  {
   "cell_type": "code",
   "execution_count": 103,
   "id": "d0a9e52d",
   "metadata": {},
   "outputs": [],
   "source": [
    "oversampled_train = pd.concat([pd.DataFrame(y_balanced), pd.DataFrame(X_balanced)], axis=1)"
   ]
  },
  {
   "cell_type": "code",
   "execution_count": 104,
   "id": "774e3cba",
   "metadata": {},
   "outputs": [],
   "source": [
    "oversampled_train.columns = temp5.columns"
   ]
  },
  {
   "cell_type": "code",
   "execution_count": 105,
   "id": "07cfde32",
   "metadata": {},
   "outputs": [
    {
     "data": {
      "text/html": [
       "<div>\n",
       "<style scoped>\n",
       "    .dataframe tbody tr th:only-of-type {\n",
       "        vertical-align: middle;\n",
       "    }\n",
       "\n",
       "    .dataframe tbody tr th {\n",
       "        vertical-align: top;\n",
       "    }\n",
       "\n",
       "    .dataframe thead th {\n",
       "        text-align: right;\n",
       "    }\n",
       "</style>\n",
       "<table border=\"1\" class=\"dataframe\">\n",
       "  <thead>\n",
       "    <tr style=\"text-align: right;\">\n",
       "      <th></th>\n",
       "      <th>case_age_days</th>\n",
       "      <th>status</th>\n",
       "      <th>case_record_type</th>\n",
       "      <th>comm_plan_name</th>\n",
       "    </tr>\n",
       "  </thead>\n",
       "  <tbody>\n",
       "    <tr>\n",
       "      <th>0</th>\n",
       "      <td>Closed</td>\n",
       "      <td>18</td>\n",
       "      <td>1.0</td>\n",
       "      <td>19</td>\n",
       "    </tr>\n",
       "    <tr>\n",
       "      <th>1</th>\n",
       "      <td>Closed</td>\n",
       "      <td>5</td>\n",
       "      <td>1.0</td>\n",
       "      <td>53</td>\n",
       "    </tr>\n",
       "    <tr>\n",
       "      <th>2</th>\n",
       "      <td>Closed</td>\n",
       "      <td>31</td>\n",
       "      <td>1.0</td>\n",
       "      <td>35</td>\n",
       "    </tr>\n",
       "    <tr>\n",
       "      <th>3</th>\n",
       "      <td>Closed</td>\n",
       "      <td>34</td>\n",
       "      <td>1.0</td>\n",
       "      <td>43</td>\n",
       "    </tr>\n",
       "    <tr>\n",
       "      <th>4</th>\n",
       "      <td>Closed</td>\n",
       "      <td>6</td>\n",
       "      <td>1.0</td>\n",
       "      <td>23</td>\n",
       "    </tr>\n",
       "    <tr>\n",
       "      <th>...</th>\n",
       "      <td>...</td>\n",
       "      <td>...</td>\n",
       "      <td>...</td>\n",
       "      <td>...</td>\n",
       "    </tr>\n",
       "    <tr>\n",
       "      <th>131085</th>\n",
       "      <td>Open</td>\n",
       "      <td>21</td>\n",
       "      <td>1.0</td>\n",
       "      <td>14</td>\n",
       "    </tr>\n",
       "    <tr>\n",
       "      <th>131086</th>\n",
       "      <td>Open</td>\n",
       "      <td>12</td>\n",
       "      <td>1.0</td>\n",
       "      <td>33</td>\n",
       "    </tr>\n",
       "    <tr>\n",
       "      <th>131087</th>\n",
       "      <td>Open</td>\n",
       "      <td>4</td>\n",
       "      <td>1.0</td>\n",
       "      <td>28</td>\n",
       "    </tr>\n",
       "    <tr>\n",
       "      <th>131088</th>\n",
       "      <td>Open</td>\n",
       "      <td>0</td>\n",
       "      <td>1.0</td>\n",
       "      <td>0</td>\n",
       "    </tr>\n",
       "    <tr>\n",
       "      <th>131089</th>\n",
       "      <td>Open</td>\n",
       "      <td>9</td>\n",
       "      <td>1.0</td>\n",
       "      <td>34</td>\n",
       "    </tr>\n",
       "  </tbody>\n",
       "</table>\n",
       "<p>131090 rows × 4 columns</p>\n",
       "</div>"
      ],
      "text/plain": [
       "       case_age_days  status  case_record_type  comm_plan_name\n",
       "0             Closed      18               1.0              19\n",
       "1             Closed       5               1.0              53\n",
       "2             Closed      31               1.0              35\n",
       "3             Closed      34               1.0              43\n",
       "4             Closed       6               1.0              23\n",
       "...              ...     ...               ...             ...\n",
       "131085          Open      21               1.0              14\n",
       "131086          Open      12               1.0              33\n",
       "131087          Open       4               1.0              28\n",
       "131088          Open       0               1.0               0\n",
       "131089          Open       9               1.0              34\n",
       "\n",
       "[131090 rows x 4 columns]"
      ]
     },
     "execution_count": 105,
     "metadata": {},
     "output_type": "execute_result"
    }
   ],
   "source": [
    "oversampled_train"
   ]
  },
  {
   "cell_type": "code",
   "execution_count": 106,
   "id": "c781aaad",
   "metadata": {},
   "outputs": [
    {
     "data": {
      "text/plain": [
       "<AxesSubplot:title={'center':'Device Report'}, xlabel='Type of Device ', ylabel='Number of Reports by Device'>"
      ]
     },
     "execution_count": 106,
     "metadata": {},
     "output_type": "execute_result"
    },
    {
     "data": {
      "image/png": "[encoded data removed]",
      "text/plain": [
       "<Figure size 2160x396 with 1 Axes>"
      ]
     },
     "metadata": {
      "needs_background": "light"
     },
     "output_type": "display_data"
    }
   ],
   "source": [
    "plt.rcParams[\"figure.figsize\"] = (30,5.5)\n",
    "plt.ylabel(\"Number of Reports by Device\")\n",
    "plt.xlabel(\"Type of Device \")\n",
    "plt.title(\"Device Report\")\n",
    "oversampled_train.case_age_days.hist(edgecolor = 'black')"
   ]
  },
  {
   "cell_type": "code",
   "execution_count": 107,
   "id": "3f9155d4",
   "metadata": {},
   "outputs": [
    {
     "data": {
      "text/plain": [
       "<AxesSubplot:title={'center':'Device Report'}, xlabel='Type of Device ', ylabel='Number of Reports by Device'>"
      ]
     },
     "execution_count": 107,
     "metadata": {},
     "output_type": "execute_result"
    },
    {
     "data": {
      "image/png": "[encoded data removed]",
      "text/plain": [
       "<Figure size 2160x396 with 1 Axes>"
      ]
     },
     "metadata": {
      "needs_background": "light"
     },
     "output_type": "display_data"
    }
   ],
   "source": [
    "plt.rcParams[\"figure.figsize\"] = (30,5.5)\n",
    "plt.ylabel(\"Number of Reports by Device\")\n",
    "plt.xlabel(\"Type of Device \")\n",
    "plt.title(\"Device Report\")\n",
    "oversampled_train.case_record_type.hist(edgecolor = 'black')"
   ]
  },
  {
   "cell_type": "code",
   "execution_count": 110,
   "id": "7366464f",
   "metadata": {},
   "outputs": [
    {
     "name": "stdout",
     "output_type": "stream",
     "text": [
      "1.000000    130922\n",
      "0.000000        34\n",
      "0.499282         1\n",
      "0.737740         1\n",
      "0.325550         1\n",
      "             ...  \n",
      "0.311936         1\n",
      "0.228770         1\n",
      "0.543821         1\n",
      "0.212396         1\n",
      "0.660723         1\n",
      "Name: case_record_type, Length: 136, dtype: int64\n"
     ]
    }
   ],
   "source": [
    "print(oversampled_train['case_record_type'].value_counts())"
   ]
  },
  {
   "cell_type": "code",
   "execution_count": null,
   "id": "68b52bc1",
   "metadata": {},
   "outputs": [],
   "source": [
    "#Create an object of the classifier.\n",
    "bbc = BalancedBaggingClassifier(base_estimator=DecisionTreeClassifier(),\n",
    "                                sampling_strategy='auto',\n",
    "                                replacement=False,\n",
    "                                random_state=42)\n",
    "\n",
    "\n",
    "#Train the classifier.\n",
    "bbc.fit(X_balanced, y_balanced)\n",
    "preds = bbc.predict(X_test)"
   ]
  },
  {
   "cell_type": "markdown",
   "id": "f5c1ca77",
   "metadata": {},
   "source": [
    "#usning sklearn for balance didnt work "
   ]
  },
  {
   "cell_type": "code",
   "execution_count": null,
   "id": "83a5082f",
   "metadata": {},
   "outputs": [
    {
     "name": "stdout",
     "output_type": "stream",
     "text": [
      "Collecting imbalanced-learn\n",
      "  Downloading imbalanced_learn-0.9.1-py3-none-any.whl (199 kB)\n",
      "\u001b[K     |████████████████████████████████| 199 kB 5.2 MB/s eta 0:00:01\n",
      "\u001b[?25hRequirement already satisfied: joblib>=1.0.0 in /Users/georgegarcia/Library/Python/3.9/lib/python/site-packages (from imbalanced-learn) (1.0.1)\n",
      "Requirement already satisfied: scipy>=1.3.2 in /Users/georgegarcia/Library/Python/3.9/lib/python/site-packages (from imbalanced-learn) (1.7.0)\n",
      "Requirement already satisfied: threadpoolctl>=2.0.0 in /Users/georgegarcia/Library/Python/3.9/lib/python/site-packages (from imbalanced-learn) (2.2.0)\n",
      "Collecting scikit-learn>=1.1.0\n",
      "  Downloading scikit_learn-1.1.2-cp39-cp39-macosx_10_9_x86_64.whl (8.7 MB)\n",
      "\u001b[K     |████████████████████████████████| 8.7 MB 17.6 MB/s eta 0:00:01\n",
      "\u001b[?25hRequirement already satisfied: numpy>=1.17.3 in /Users/georgegarcia/Library/Python/3.9/lib/python/site-packages (from imbalanced-learn) (1.21.0)\n",
      "Installing collected packages: scikit-learn, imbalanced-learn\n",
      "  Attempting uninstall: scikit-learn\n",
      "    Found existing installation: scikit-learn 0.24.2\n",
      "    Uninstalling scikit-learn-0.24.2:\n",
      "      Successfully uninstalled scikit-learn-0.24.2\n",
      "Successfully installed imbalanced-learn-0.9.1 scikit-learn-1.1.2\n",
      "\u001b[33mWARNING: You are using pip version 21.1.3; however, version 22.2.2 is available.\n",
      "You should consider upgrading via the '/usr/local/bin/python3 -m pip install --upgrade pip' command.\u001b[0m\n",
      "Note: you may need to restart the kernel to use updated packages.\n"
     ]
    }
   ],
   "source": [
    "pip install -U imbalanced-learn"
   ]
  },
  {
   "cell_type": "code",
   "execution_count": 41,
   "id": "49ceb24b",
   "metadata": {},
   "outputs": [],
   "source": [
    "from sklearn.utils import resample\n",
    "\n"
   ]
  },
  {
   "cell_type": "code",
   "execution_count": 42,
   "id": "9431fe9e",
   "metadata": {},
   "outputs": [],
   "source": [
    "TSW_messages = X_train[X_train[\"case_record_type\"] == \"TSW\"]\n",
    "Specialty_messages  = X_train[X_train[\"case_record_type\"] == \"Specialty\"]"
   ]
  },
  {
   "cell_type": "code",
   "execution_count": 43,
   "id": "8fb8ea47",
   "metadata": {},
   "outputs": [
    {
     "name": "stdout",
     "output_type": "stream",
     "text": [
      "(33616, 3)\n"
     ]
    }
   ],
   "source": [
    "X_upsample = resample(Specialty_messages ,replace=True,n_samples=len(TSW_messages),random_state=42)\n",
    "print(X_upsample.shape)"
   ]
  },
  {
   "cell_type": "code",
   "execution_count": 50,
   "id": "cd96034d",
   "metadata": {},
   "outputs": [
    {
     "data": {
      "text/plain": [
       "(67232, 3)"
      ]
     },
     "execution_count": 50,
     "metadata": {},
     "output_type": "execute_result"
    }
   ],
   "source": [
    "data_upsampled = pd.concat([TSW_messages, X_upsample])\n",
    "data_upsampled.shape"
   ]
  },
  {
   "cell_type": "code",
   "execution_count": 51,
   "id": "e96d0433",
   "metadata": {},
   "outputs": [
    {
     "data": {
      "text/plain": [
       "(33622, 1)"
      ]
     },
     "execution_count": 51,
     "metadata": {},
     "output_type": "execute_result"
    }
   ],
   "source": [
    "y_train.shape"
   ]
  },
  {
   "cell_type": "code",
   "execution_count": 49,
   "id": "1655bf59",
   "metadata": {},
   "outputs": [
    {
     "ename": "ValueError",
     "evalue": "Length of values (67232) does not match length of index (33622)",
     "output_type": "error",
     "traceback": [
      "\u001b[0;31m---------------------------------------------------------------------------\u001b[0m",
      "\u001b[0;31mValueError\u001b[0m                                Traceback (most recent call last)",
      "\u001b[1;32m/Users/georgegarcia/Desktop/504/Final Project 504 435.ipynb Cell 50'\u001b[0m in \u001b[0;36m<cell line: 1>\u001b[0;34m()\u001b[0m\n\u001b[0;32m----> <a href='vscode-notebook-cell:/Users/georgegarcia/Desktop/504/Final%20Project%20504%20435.ipynb#ch0000048?line=0'>1</a>\u001b[0m X_train[\u001b[39m'\u001b[39m\u001b[39mcase_record_type\u001b[39m\u001b[39m'\u001b[39m]\u001b[39m=\u001b[39m data_upsampled[\u001b[39m\"\u001b[39m\u001b[39mcase_record_type\u001b[39m\u001b[39m\"\u001b[39m]\u001b[39m.\u001b[39mvalues\n",
      "File \u001b[0;32m~/Library/Python/3.9/lib/python/site-packages/pandas/core/frame.py:3607\u001b[0m, in \u001b[0;36mDataFrame.__setitem__\u001b[0;34m(self, key, value)\u001b[0m\n\u001b[1;32m   <a href='file:///~/Library/Python/3.9/lib/python/site-packages/pandas/core/frame.py?line=3603'>3604</a>\u001b[0m     \u001b[39mself\u001b[39m\u001b[39m.\u001b[39m_setitem_array([key], value)\n\u001b[1;32m   <a href='file:///~/Library/Python/3.9/lib/python/site-packages/pandas/core/frame.py?line=3604'>3605</a>\u001b[0m \u001b[39melse\u001b[39;00m:\n\u001b[1;32m   <a href='file:///~/Library/Python/3.9/lib/python/site-packages/pandas/core/frame.py?line=3605'>3606</a>\u001b[0m     \u001b[39m# set column\u001b[39;00m\n\u001b[0;32m-> <a href='file:///~/Library/Python/3.9/lib/python/site-packages/pandas/core/frame.py?line=3606'>3607</a>\u001b[0m     \u001b[39mself\u001b[39;49m\u001b[39m.\u001b[39;49m_set_item(key, value)\n",
      "File \u001b[0;32m~/Library/Python/3.9/lib/python/site-packages/pandas/core/frame.py:3779\u001b[0m, in \u001b[0;36mDataFrame._set_item\u001b[0;34m(self, key, value)\u001b[0m\n\u001b[1;32m   <a href='file:///~/Library/Python/3.9/lib/python/site-packages/pandas/core/frame.py?line=3768'>3769</a>\u001b[0m \u001b[39mdef\u001b[39;00m \u001b[39m_set_item\u001b[39m(\u001b[39mself\u001b[39m, key, value) \u001b[39m-\u001b[39m\u001b[39m>\u001b[39m \u001b[39mNone\u001b[39;00m:\n\u001b[1;32m   <a href='file:///~/Library/Python/3.9/lib/python/site-packages/pandas/core/frame.py?line=3769'>3770</a>\u001b[0m     \u001b[39m\"\"\"\u001b[39;00m\n\u001b[1;32m   <a href='file:///~/Library/Python/3.9/lib/python/site-packages/pandas/core/frame.py?line=3770'>3771</a>\u001b[0m \u001b[39m    Add series to DataFrame in specified column.\u001b[39;00m\n\u001b[1;32m   <a href='file:///~/Library/Python/3.9/lib/python/site-packages/pandas/core/frame.py?line=3771'>3772</a>\u001b[0m \n\u001b[0;32m   (...)\u001b[0m\n\u001b[1;32m   <a href='file:///~/Library/Python/3.9/lib/python/site-packages/pandas/core/frame.py?line=3776'>3777</a>\u001b[0m \u001b[39m    ensure homogeneity.\u001b[39;00m\n\u001b[1;32m   <a href='file:///~/Library/Python/3.9/lib/python/site-packages/pandas/core/frame.py?line=3777'>3778</a>\u001b[0m \u001b[39m    \"\"\"\u001b[39;00m\n\u001b[0;32m-> <a href='file:///~/Library/Python/3.9/lib/python/site-packages/pandas/core/frame.py?line=3778'>3779</a>\u001b[0m     value \u001b[39m=\u001b[39m \u001b[39mself\u001b[39;49m\u001b[39m.\u001b[39;49m_sanitize_column(value)\n\u001b[1;32m   <a href='file:///~/Library/Python/3.9/lib/python/site-packages/pandas/core/frame.py?line=3780'>3781</a>\u001b[0m     \u001b[39mif\u001b[39;00m (\n\u001b[1;32m   <a href='file:///~/Library/Python/3.9/lib/python/site-packages/pandas/core/frame.py?line=3781'>3782</a>\u001b[0m         key \u001b[39min\u001b[39;00m \u001b[39mself\u001b[39m\u001b[39m.\u001b[39mcolumns\n\u001b[1;32m   <a href='file:///~/Library/Python/3.9/lib/python/site-packages/pandas/core/frame.py?line=3782'>3783</a>\u001b[0m         \u001b[39mand\u001b[39;00m value\u001b[39m.\u001b[39mndim \u001b[39m==\u001b[39m \u001b[39m1\u001b[39m\n\u001b[1;32m   <a href='file:///~/Library/Python/3.9/lib/python/site-packages/pandas/core/frame.py?line=3783'>3784</a>\u001b[0m         \u001b[39mand\u001b[39;00m \u001b[39mnot\u001b[39;00m is_extension_array_dtype(value)\n\u001b[1;32m   <a href='file:///~/Library/Python/3.9/lib/python/site-packages/pandas/core/frame.py?line=3784'>3785</a>\u001b[0m     ):\n\u001b[1;32m   <a href='file:///~/Library/Python/3.9/lib/python/site-packages/pandas/core/frame.py?line=3785'>3786</a>\u001b[0m         \u001b[39m# broadcast across multiple columns if necessary\u001b[39;00m\n\u001b[1;32m   <a href='file:///~/Library/Python/3.9/lib/python/site-packages/pandas/core/frame.py?line=3786'>3787</a>\u001b[0m         \u001b[39mif\u001b[39;00m \u001b[39mnot\u001b[39;00m \u001b[39mself\u001b[39m\u001b[39m.\u001b[39mcolumns\u001b[39m.\u001b[39mis_unique \u001b[39mor\u001b[39;00m \u001b[39misinstance\u001b[39m(\u001b[39mself\u001b[39m\u001b[39m.\u001b[39mcolumns, MultiIndex):\n",
      "File \u001b[0;32m~/Library/Python/3.9/lib/python/site-packages/pandas/core/frame.py:4504\u001b[0m, in \u001b[0;36mDataFrame._sanitize_column\u001b[0;34m(self, value)\u001b[0m\n\u001b[1;32m   <a href='file:///~/Library/Python/3.9/lib/python/site-packages/pandas/core/frame.py?line=4500'>4501</a>\u001b[0m     \u001b[39mreturn\u001b[39;00m _reindex_for_setitem(value, \u001b[39mself\u001b[39m\u001b[39m.\u001b[39mindex)\n\u001b[1;32m   <a href='file:///~/Library/Python/3.9/lib/python/site-packages/pandas/core/frame.py?line=4502'>4503</a>\u001b[0m \u001b[39mif\u001b[39;00m is_list_like(value):\n\u001b[0;32m-> <a href='file:///~/Library/Python/3.9/lib/python/site-packages/pandas/core/frame.py?line=4503'>4504</a>\u001b[0m     com\u001b[39m.\u001b[39;49mrequire_length_match(value, \u001b[39mself\u001b[39;49m\u001b[39m.\u001b[39;49mindex)\n\u001b[1;32m   <a href='file:///~/Library/Python/3.9/lib/python/site-packages/pandas/core/frame.py?line=4504'>4505</a>\u001b[0m \u001b[39mreturn\u001b[39;00m sanitize_array(value, \u001b[39mself\u001b[39m\u001b[39m.\u001b[39mindex, copy\u001b[39m=\u001b[39m\u001b[39mTrue\u001b[39;00m, allow_2d\u001b[39m=\u001b[39m\u001b[39mTrue\u001b[39;00m)\n",
      "File \u001b[0;32m~/Library/Python/3.9/lib/python/site-packages/pandas/core/common.py:527\u001b[0m, in \u001b[0;36mrequire_length_match\u001b[0;34m(data, index)\u001b[0m\n\u001b[1;32m    <a href='file:///~/Library/Python/3.9/lib/python/site-packages/pandas/core/common.py?line=522'>523</a>\u001b[0m \u001b[39m\"\"\"\u001b[39;00m\n\u001b[1;32m    <a href='file:///~/Library/Python/3.9/lib/python/site-packages/pandas/core/common.py?line=523'>524</a>\u001b[0m \u001b[39mCheck the length of data matches the length of the index.\u001b[39;00m\n\u001b[1;32m    <a href='file:///~/Library/Python/3.9/lib/python/site-packages/pandas/core/common.py?line=524'>525</a>\u001b[0m \u001b[39m\"\"\"\u001b[39;00m\n\u001b[1;32m    <a href='file:///~/Library/Python/3.9/lib/python/site-packages/pandas/core/common.py?line=525'>526</a>\u001b[0m \u001b[39mif\u001b[39;00m \u001b[39mlen\u001b[39m(data) \u001b[39m!=\u001b[39m \u001b[39mlen\u001b[39m(index):\n\u001b[0;32m--> <a href='file:///~/Library/Python/3.9/lib/python/site-packages/pandas/core/common.py?line=526'>527</a>\u001b[0m     \u001b[39mraise\u001b[39;00m \u001b[39mValueError\u001b[39;00m(\n\u001b[1;32m    <a href='file:///~/Library/Python/3.9/lib/python/site-packages/pandas/core/common.py?line=527'>528</a>\u001b[0m         \u001b[39m\"\u001b[39m\u001b[39mLength of values \u001b[39m\u001b[39m\"\u001b[39m\n\u001b[1;32m    <a href='file:///~/Library/Python/3.9/lib/python/site-packages/pandas/core/common.py?line=528'>529</a>\u001b[0m         \u001b[39mf\u001b[39m\u001b[39m\"\u001b[39m\u001b[39m(\u001b[39m\u001b[39m{\u001b[39;00m\u001b[39mlen\u001b[39m(data)\u001b[39m}\u001b[39;00m\u001b[39m) \u001b[39m\u001b[39m\"\u001b[39m\n\u001b[1;32m    <a href='file:///~/Library/Python/3.9/lib/python/site-packages/pandas/core/common.py?line=529'>530</a>\u001b[0m         \u001b[39m\"\u001b[39m\u001b[39mdoes not match length of index \u001b[39m\u001b[39m\"\u001b[39m\n\u001b[1;32m    <a href='file:///~/Library/Python/3.9/lib/python/site-packages/pandas/core/common.py?line=530'>531</a>\u001b[0m         \u001b[39mf\u001b[39m\u001b[39m\"\u001b[39m\u001b[39m(\u001b[39m\u001b[39m{\u001b[39;00m\u001b[39mlen\u001b[39m(index)\u001b[39m}\u001b[39;00m\u001b[39m)\u001b[39m\u001b[39m\"\u001b[39m\n\u001b[1;32m    <a href='file:///~/Library/Python/3.9/lib/python/site-packages/pandas/core/common.py?line=531'>532</a>\u001b[0m     )\n",
      "\u001b[0;31mValueError\u001b[0m: Length of values (67232) does not match length of index (33622)"
     ]
    }
   ],
   "source": [
    "X_train['case_record_type']= data_upsampled[\"case_record_type\"].values"
   ]
  },
  {
   "cell_type": "code",
   "execution_count": 47,
   "id": "5f970697",
   "metadata": {},
   "outputs": [
    {
     "data": {
      "text/html": [
       "<div>\n",
       "<style scoped>\n",
       "    .dataframe tbody tr th:only-of-type {\n",
       "        vertical-align: middle;\n",
       "    }\n",
       "\n",
       "    .dataframe tbody tr th {\n",
       "        vertical-align: top;\n",
       "    }\n",
       "\n",
       "    .dataframe thead th {\n",
       "        text-align: right;\n",
       "    }\n",
       "</style>\n",
       "<table border=\"1\" class=\"dataframe\">\n",
       "  <thead>\n",
       "    <tr style=\"text-align: right;\">\n",
       "      <th></th>\n",
       "      <th>case_age_days</th>\n",
       "      <th>case_record_type</th>\n",
       "      <th>comm_plan_name</th>\n",
       "    </tr>\n",
       "  </thead>\n",
       "  <tbody>\n",
       "    <tr>\n",
       "      <th>48251</th>\n",
       "      <td>2</td>\n",
       "      <td>&lt;bound method Series.append of 48251          ...</td>\n",
       "      <td>Mission Bay Park</td>\n",
       "    </tr>\n",
       "    <tr>\n",
       "      <th>12990</th>\n",
       "      <td>30</td>\n",
       "      <td>&lt;bound method Series.append of 48251          ...</td>\n",
       "      <td>Downtown</td>\n",
       "    </tr>\n",
       "    <tr>\n",
       "      <th>59023</th>\n",
       "      <td>42</td>\n",
       "      <td>&lt;bound method Series.append of 48251          ...</td>\n",
       "      <td>North Park</td>\n",
       "    </tr>\n",
       "    <tr>\n",
       "      <th>60798</th>\n",
       "      <td>24</td>\n",
       "      <td>&lt;bound method Series.append of 48251          ...</td>\n",
       "      <td>Mid-City:Eastern Area</td>\n",
       "    </tr>\n",
       "    <tr>\n",
       "      <th>67754</th>\n",
       "      <td>0</td>\n",
       "      <td>&lt;bound method Series.append of 48251          ...</td>\n",
       "      <td>College Area</td>\n",
       "    </tr>\n",
       "    <tr>\n",
       "      <th>...</th>\n",
       "      <td>...</td>\n",
       "      <td>...</td>\n",
       "      <td>...</td>\n",
       "    </tr>\n",
       "    <tr>\n",
       "      <th>44228</th>\n",
       "      <td>7</td>\n",
       "      <td>&lt;bound method Series.append of 48251          ...</td>\n",
       "      <td>La Jolla</td>\n",
       "    </tr>\n",
       "    <tr>\n",
       "      <th>7378</th>\n",
       "      <td>11</td>\n",
       "      <td>&lt;bound method Series.append of 48251          ...</td>\n",
       "      <td>Sabre Springs</td>\n",
       "    </tr>\n",
       "    <tr>\n",
       "      <th>62115</th>\n",
       "      <td>1</td>\n",
       "      <td>&lt;bound method Series.append of 48251          ...</td>\n",
       "      <td>Mid-City:City Heights</td>\n",
       "    </tr>\n",
       "    <tr>\n",
       "      <th>980</th>\n",
       "      <td>18</td>\n",
       "      <td>&lt;bound method Series.append of 48251          ...</td>\n",
       "      <td>Old Town San Diego</td>\n",
       "    </tr>\n",
       "    <tr>\n",
       "      <th>20918</th>\n",
       "      <td>4</td>\n",
       "      <td>&lt;bound method Series.append of 48251          ...</td>\n",
       "      <td>Mid-City:Kensington-Talmadge</td>\n",
       "    </tr>\n",
       "  </tbody>\n",
       "</table>\n",
       "<p>33622 rows × 3 columns</p>\n",
       "</div>"
      ],
      "text/plain": [
       "       case_age_days                                   case_record_type  \\\n",
       "48251              2  <bound method Series.append of 48251          ...   \n",
       "12990             30  <bound method Series.append of 48251          ...   \n",
       "59023             42  <bound method Series.append of 48251          ...   \n",
       "60798             24  <bound method Series.append of 48251          ...   \n",
       "67754              0  <bound method Series.append of 48251          ...   \n",
       "...              ...                                                ...   \n",
       "44228              7  <bound method Series.append of 48251          ...   \n",
       "7378              11  <bound method Series.append of 48251          ...   \n",
       "62115              1  <bound method Series.append of 48251          ...   \n",
       "980               18  <bound method Series.append of 48251          ...   \n",
       "20918              4  <bound method Series.append of 48251          ...   \n",
       "\n",
       "                     comm_plan_name  \n",
       "48251              Mission Bay Park  \n",
       "12990                      Downtown  \n",
       "59023                    North Park  \n",
       "60798         Mid-City:Eastern Area  \n",
       "67754                  College Area  \n",
       "...                             ...  \n",
       "44228                      La Jolla  \n",
       "7378                  Sabre Springs  \n",
       "62115         Mid-City:City Heights  \n",
       "980              Old Town San Diego  \n",
       "20918  Mid-City:Kensington-Talmadge  \n",
       "\n",
       "[33622 rows x 3 columns]"
      ]
     },
     "execution_count": 47,
     "metadata": {},
     "output_type": "execute_result"
    }
   ],
   "source": [
    "X_train"
   ]
  },
  {
   "cell_type": "code",
   "execution_count": 48,
   "id": "3df08f63",
   "metadata": {},
   "outputs": [
    {
     "name": "stdout",
     "output_type": "stream",
     "text": [
      "TSW          33616\n",
      "Specialty    33616\n",
      "Name: case_record_type, dtype: int64\n"
     ]
    }
   ],
   "source": [
    "print(data_upsampled[\"case_record_type\"].value_counts())"
   ]
  },
  {
   "cell_type": "code",
   "execution_count": 44,
   "id": "a34d2fa2",
   "metadata": {},
   "outputs": [
    {
     "data": {
      "text/html": [
       "<div>\n",
       "<style scoped>\n",
       "    .dataframe tbody tr th:only-of-type {\n",
       "        vertical-align: middle;\n",
       "    }\n",
       "\n",
       "    .dataframe tbody tr th {\n",
       "        vertical-align: top;\n",
       "    }\n",
       "\n",
       "    .dataframe thead th {\n",
       "        text-align: right;\n",
       "    }\n",
       "</style>\n",
       "<table border=\"1\" class=\"dataframe\">\n",
       "  <thead>\n",
       "    <tr style=\"text-align: right;\">\n",
       "      <th></th>\n",
       "      <th>case_age_days</th>\n",
       "      <th>case_record_type</th>\n",
       "      <th>comm_plan_name</th>\n",
       "    </tr>\n",
       "  </thead>\n",
       "  <tbody>\n",
       "    <tr>\n",
       "      <th>60202</th>\n",
       "      <td>0</td>\n",
       "      <td>Specialty</td>\n",
       "      <td>Ocean Beach</td>\n",
       "    </tr>\n",
       "    <tr>\n",
       "      <th>29567</th>\n",
       "      <td>3</td>\n",
       "      <td>Specialty</td>\n",
       "      <td>Otay Mesa</td>\n",
       "    </tr>\n",
       "    <tr>\n",
       "      <th>34597</th>\n",
       "      <td>5</td>\n",
       "      <td>Specialty</td>\n",
       "      <td>La Jolla</td>\n",
       "    </tr>\n",
       "    <tr>\n",
       "      <th>29567</th>\n",
       "      <td>3</td>\n",
       "      <td>Specialty</td>\n",
       "      <td>Otay Mesa</td>\n",
       "    </tr>\n",
       "    <tr>\n",
       "      <th>29567</th>\n",
       "      <td>3</td>\n",
       "      <td>Specialty</td>\n",
       "      <td>Otay Mesa</td>\n",
       "    </tr>\n",
       "  </tbody>\n",
       "</table>\n",
       "</div>"
      ],
      "text/plain": [
       "       case_age_days case_record_type comm_plan_name\n",
       "60202              0        Specialty    Ocean Beach\n",
       "29567              3        Specialty      Otay Mesa\n",
       "34597              5        Specialty       La Jolla\n",
       "29567              3        Specialty      Otay Mesa\n",
       "29567              3        Specialty      Otay Mesa"
      ]
     },
     "execution_count": 44,
     "metadata": {},
     "output_type": "execute_result"
    }
   ],
   "source": [
    "X_upsample.head()"
   ]
  },
  {
   "cell_type": "code",
   "execution_count": 41,
   "id": "da62cdc5",
   "metadata": {},
   "outputs": [
    {
     "name": "stdout",
     "output_type": "stream",
     "text": [
      "case_age_days  case_record_type  comm_plan_name        \n",
      "3              Specialty         Otay Mesa                 5710\n",
      "0              Specialty         Ocean Beach               5659\n",
      "1              Specialty         University                5639\n",
      "6              Specialty         Uptown                    5624\n",
      "5              Specialty         Southeastern San Diego    5556\n",
      "                                 La Jolla                  5428\n",
      "dtype: int64\n"
     ]
    }
   ],
   "source": [
    "print(X_upsample.value_counts())"
   ]
  },
  {
   "cell_type": "code",
   "execution_count": null,
   "id": "3a00e583",
   "metadata": {},
   "outputs": [],
   "source": [
    "# Categorical pipeline\n",
    "cat_pipe = Pipeline([('encoder', OneHotEncoder(handle_unknown='ignore',sparse=False))])\n",
    "\n",
    "# Normalize pipeline\n",
    "norm_pipe = Pipeline([('imputer', SimpleImputer(missing_values=np.nan,strategy='median')),('normalize', Normalizer())])\n",
    "norm_model = make_pipeline(ColumnTransformer([('cat', cat_pipe, categorical),]),Perceptron(class_weight='balanced'))\n",
    "\n",
    "# Standardize pipeline\n",
    "std_pipe = Pipeline([('imputer', SimpleImputer(missing_values=np.nan,strategy='median')),('standardize', StandardScaler())])\n",
    "\n",
    "std_model = make_pipeline(ColumnTransformer([('cat', cat_pipe, categorical),('num', std_pipe, numerical)]),Perceptron(class_weight='balanced'))"
   ]
  },
  {
   "cell_type": "code",
   "execution_count": 111,
   "id": "b0bdd779",
   "metadata": {},
   "outputs": [
    {
     "data": {
      "image/png": "[encoded data removed]",
      "text/plain": [
       "<Figure size 2160x396 with 2 Axes>"
      ]
     },
     "metadata": {
      "needs_background": "light"
     },
     "output_type": "display_data"
    }
   ],
   "source": [
    "from sklearn.metrics import confusion_matrix, ConfusionMatrixDisplay\n",
    "predictions = balanced_model.predict(X_test)\n",
    "cm = confusion_matrix(y_test, predictions, labels=balanced_model.classes_)\n",
    "disp = ConfusionMatrixDisplay(confusion_matrix=cm,display_labels=balanced_model.classes_)\n",
    "\n",
    "disp.plot()\n",
    "plt.show()"
   ]
  },
  {
   "cell_type": "markdown",
   "id": "e640810e",
   "metadata": {},
   "source": [
    "Logistic regression "
   ]
  },
  {
   "cell_type": "code",
   "execution_count": 112,
   "id": "cb8e9cc3",
   "metadata": {},
   "outputs": [
    {
     "name": "stdout",
     "output_type": "stream",
     "text": [
      "              precision    recall  f1-score   support\n",
      "\n",
      "      Closed       0.99      0.42      0.59     32775\n",
      "        Open       0.04      0.86      0.07       848\n",
      "\n",
      "    accuracy                           0.44     33623\n",
      "   macro avg       0.51      0.64      0.33     33623\n",
      "weighted avg       0.97      0.44      0.58     33623\n",
      "\n"
     ]
    }
   ],
   "source": [
    "print(classification_report(y_test, predictions))"
   ]
  },
  {
   "cell_type": "code",
   "execution_count": 114,
   "id": "428f4e04",
   "metadata": {},
   "outputs": [
    {
     "data": {
      "text/plain": [
       "0.43589209767123693"
      ]
     },
     "execution_count": 114,
     "metadata": {},
     "output_type": "execute_result"
    }
   ],
   "source": [
    "#adding the accruacy \n",
    "accuracy = accuracy_score(y_test, predictions)\n",
    "accuracy"
   ]
  },
  {
   "cell_type": "code",
   "execution_count": 54,
   "id": "ac5b8ae6",
   "metadata": {},
   "outputs": [
    {
     "data": {
      "image/png": "[encoded data removed]",
      "text/plain": [
       "<Figure size 2160x396 with 2 Axes>"
      ]
     },
     "metadata": {
      "needs_background": "light"
     },
     "output_type": "display_data"
    }
   ],
   "source": [
    "from sklearn.metrics import confusion_matrix, ConfusionMatrixDisplay\n",
    "predictions = unbalanced_model.predict(X_test)\n",
    "cm = confusion_matrix(y_test, predictions, labels=balanced_model.classes_)\n",
    "disp = ConfusionMatrixDisplay(confusion_matrix=cm,display_labels=balanced_model.classes_)\n",
    "disp.plot()\n",
    "plt.show()"
   ]
  },
  {
   "cell_type": "code",
   "execution_count": 55,
   "id": "fe20a05a",
   "metadata": {},
   "outputs": [
    {
     "data": {
      "text/plain": [
       "count       67245\n",
       "unique      55426\n",
       "top       Pothole\n",
       "freq         3770\n",
       "Name: public_description, dtype: object"
      ]
     },
     "execution_count": 55,
     "metadata": {},
     "output_type": "execute_result"
    }
   ],
   "source": [
    "corpus = temp4['public_description']\n",
    "# Remove Outliers (records with no text data nans):\n",
    "corpus=corpus.dropna()\n",
    "\n",
    "corpus.describe()"
   ]
  },
  {
   "cell_type": "code",
   "execution_count": 56,
   "id": "c290ceab",
   "metadata": {},
   "outputs": [
    {
     "data": {
      "text/html": [
       "<div>\n",
       "<style scoped>\n",
       "    .dataframe tbody tr th:only-of-type {\n",
       "        vertical-align: middle;\n",
       "    }\n",
       "\n",
       "    .dataframe tbody tr th {\n",
       "        vertical-align: top;\n",
       "    }\n",
       "\n",
       "    .dataframe thead th {\n",
       "        text-align: right;\n",
       "    }\n",
       "</style>\n",
       "<table border=\"1\" class=\"dataframe\">\n",
       "  <thead>\n",
       "    <tr style=\"text-align: right;\">\n",
       "      <th></th>\n",
       "      <th>public_description</th>\n",
       "      <th>case_age_days</th>\n",
       "    </tr>\n",
       "  </thead>\n",
       "  <tbody>\n",
       "    <tr>\n",
       "      <th>0</th>\n",
       "      <td>4000 block of copeland just before you get on ...</td>\n",
       "      <td>18</td>\n",
       "    </tr>\n",
       "    <tr>\n",
       "      <th>1</th>\n",
       "      <td>LARGE P/H CAUSED VEHICLE DAMAGE</td>\n",
       "      <td>5</td>\n",
       "    </tr>\n",
       "    <tr>\n",
       "      <th>2</th>\n",
       "      <td>Caller reports cracks and potholes in alley</td>\n",
       "      <td>31</td>\n",
       "    </tr>\n",
       "    <tr>\n",
       "      <th>4</th>\n",
       "      <td>POTHOLE</td>\n",
       "      <td>34</td>\n",
       "    </tr>\n",
       "    <tr>\n",
       "      <th>5</th>\n",
       "      <td>Road damage that needsTo be repaired</td>\n",
       "      <td>6</td>\n",
       "    </tr>\n",
       "    <tr>\n",
       "      <th>...</th>\n",
       "      <td>...</td>\n",
       "      <td>...</td>\n",
       "    </tr>\n",
       "    <tr>\n",
       "      <th>75235</th>\n",
       "      <td>From Via Avola to Hidden Valley (going down th...</td>\n",
       "      <td>1</td>\n",
       "    </tr>\n",
       "    <tr>\n",
       "      <th>75236</th>\n",
       "      <td>S/B GENESEE RIGHT BEFORE THE 52 ON RAMP- POTHO...</td>\n",
       "      <td>1</td>\n",
       "    </tr>\n",
       "    <tr>\n",
       "      <th>75237</th>\n",
       "      <td>There needs to be street resurfacing done to t...</td>\n",
       "      <td>1</td>\n",
       "    </tr>\n",
       "    <tr>\n",
       "      <th>75238</th>\n",
       "      <td>Severe pothole at street and garage entrance o...</td>\n",
       "      <td>1</td>\n",
       "    </tr>\n",
       "    <tr>\n",
       "      <th>75239</th>\n",
       "      <td>Pot hole whole street is messed up</td>\n",
       "      <td>1</td>\n",
       "    </tr>\n",
       "  </tbody>\n",
       "</table>\n",
       "<p>67245 rows × 2 columns</p>\n",
       "</div>"
      ],
      "text/plain": [
       "                                      public_description  case_age_days\n",
       "0      4000 block of copeland just before you get on ...             18\n",
       "1                        LARGE P/H CAUSED VEHICLE DAMAGE              5\n",
       "2            Caller reports cracks and potholes in alley             31\n",
       "4                                                POTHOLE             34\n",
       "5                   Road damage that needsTo be repaired              6\n",
       "...                                                  ...            ...\n",
       "75235  From Via Avola to Hidden Valley (going down th...              1\n",
       "75236  S/B GENESEE RIGHT BEFORE THE 52 ON RAMP- POTHO...              1\n",
       "75237  There needs to be street resurfacing done to t...              1\n",
       "75238  Severe pothole at street and garage entrance o...              1\n",
       "75239                 Pot hole whole street is messed up              1\n",
       "\n",
       "[67245 rows x 2 columns]"
      ]
     },
     "execution_count": 56,
     "metadata": {},
     "output_type": "execute_result"
    }
   ],
   "source": [
    "temp=temp4[['public_description','case_age_days']]\n",
    "temp=temp.dropna()\n",
    "temp"
   ]
  },
  {
   "cell_type": "code",
   "execution_count": 57,
   "id": "b951bdd6",
   "metadata": {},
   "outputs": [
    {
     "name": "stderr",
     "output_type": "stream",
     "text": [
      "/Library/Frameworks/Python.framework/Versions/3.9/lib/python3.9/site-packages/sklearn/utils/deprecation.py:87: FutureWarning: Function get_feature_names is deprecated; get_feature_names is deprecated in 1.0 and will be removed in 1.2. Please use get_feature_names_out instead.\n",
      "  warnings.warn(msg, category=FutureWarning)\n"
     ]
    }
   ],
   "source": [
    "from sklearn.feature_extraction.text import TfidfVectorizer\n",
    "vectorizer = TfidfVectorizer()\n",
    "srb = vectorizer.fit_transform(corpus)\n",
    "new_store=vectorizer.get_feature_names()\n",
    "X = pd.DataFrame.sparse.from_spmatrix(srb, columns=new_store)\n",
    "y = temp['case_age_days']\n",
    "#train_test_split here\n",
    "X_train, X_test, y_train, y_test =train_test_split(X,y,test_size=0.5,random_state=42)"
   ]
  },
  {
   "cell_type": "code",
   "execution_count": null,
   "id": "c0db5ac8",
   "metadata": {},
   "outputs": [],
   "source": [
    "from sklearn.feature_selection import SelectKBest, chi2\n",
    "\n",
    "kbest = SelectKBest(score_func=chi2, k=10).fit(X_train, y_train)\n",
    "print('Top 10 features %s' % X_train.columns[kbest.get_support()].tolist())"
   ]
  },
  {
   "cell_type": "code",
   "execution_count": null,
   "id": "25006a35",
   "metadata": {},
   "outputs": [],
   "source": [
    "from sklearn.linear_model import LogisticRegression\n",
    "from sklearn.metrics import confusion_matrix, accuracy_score,plot_confusion_matrix, classification_report\n",
    "from sklearn.model_selection import train_test_split, cross_val_score\n",
    "from sklearn.feature_extraction.text import TfidfVectorizer"
   ]
  },
  {
   "cell_type": "code",
   "execution_count": null,
   "id": "a60ab847",
   "metadata": {},
   "outputs": [],
   "source": [
    "data=X"
   ]
  },
  {
   "cell_type": "code",
   "execution_count": null,
   "id": "5a6e05b2",
   "metadata": {},
   "outputs": [
    {
     "data": {
      "text/html": [
       "<div>\n",
       "<style scoped>\n",
       "    .dataframe tbody tr th:only-of-type {\n",
       "        vertical-align: middle;\n",
       "    }\n",
       "\n",
       "    .dataframe tbody tr th {\n",
       "        vertical-align: top;\n",
       "    }\n",
       "\n",
       "    .dataframe thead th {\n",
       "        text-align: right;\n",
       "    }\n",
       "</style>\n",
       "<table border=\"1\" class=\"dataframe\">\n",
       "  <thead>\n",
       "    <tr style=\"text-align: right;\">\n",
       "      <th></th>\n",
       "      <th>case_age_days</th>\n",
       "      <th>case_record_type</th>\n",
       "      <th>comm_plan_name</th>\n",
       "    </tr>\n",
       "  </thead>\n",
       "  <tbody>\n",
       "    <tr>\n",
       "      <th>0</th>\n",
       "      <td>18</td>\n",
       "      <td>TSW</td>\n",
       "      <td>Mid-City:Kensington-Talmadge</td>\n",
       "    </tr>\n",
       "    <tr>\n",
       "      <th>1</th>\n",
       "      <td>5</td>\n",
       "      <td>TSW</td>\n",
       "      <td>Torrey Pines</td>\n",
       "    </tr>\n",
       "    <tr>\n",
       "      <th>2</th>\n",
       "      <td>31</td>\n",
       "      <td>TSW</td>\n",
       "      <td>Pacific Beach</td>\n",
       "    </tr>\n",
       "    <tr>\n",
       "      <th>4</th>\n",
       "      <td>34</td>\n",
       "      <td>TSW</td>\n",
       "      <td>San Pasqual</td>\n",
       "    </tr>\n",
       "    <tr>\n",
       "      <th>5</th>\n",
       "      <td>6</td>\n",
       "      <td>TSW</td>\n",
       "      <td>Mira Mesa</td>\n",
       "    </tr>\n",
       "  </tbody>\n",
       "</table>\n",
       "</div>"
      ],
      "text/plain": [
       "   case_age_days case_record_type                comm_plan_name\n",
       "0             18              TSW  Mid-City:Kensington-Talmadge\n",
       "1              5              TSW                  Torrey Pines\n",
       "2             31              TSW                 Pacific Beach\n",
       "4             34              TSW                   San Pasqual\n",
       "5              6              TSW                     Mira Mesa"
      ]
     },
     "execution_count": 237,
     "metadata": {},
     "output_type": "execute_result"
    }
   ],
   "source": [
    "X.head()"
   ]
  },
  {
   "cell_type": "code",
   "execution_count": null,
   "id": "cad9c9e4",
   "metadata": {},
   "outputs": [
    {
     "name": "stderr",
     "output_type": "stream",
     "text": [
      "/Users/georgegarcia/Library/Python/3.9/lib/python/site-packages/pandas/core/frame.py:3607: SettingWithCopyWarning: \n",
      "A value is trying to be set on a copy of a slice from a DataFrame.\n",
      "Try using .loc[row_indexer,col_indexer] = value instead\n",
      "\n",
      "See the caveats in the documentation: https://pandas.pydata.org/pandas-docs/stable/user_guide/indexing.html#returning-a-view-versus-a-copy\n",
      "  self._set_item(key, value)\n"
     ]
    },
    {
     "data": {
      "text/html": [
       "<div>\n",
       "<style scoped>\n",
       "    .dataframe tbody tr th:only-of-type {\n",
       "        vertical-align: middle;\n",
       "    }\n",
       "\n",
       "    .dataframe tbody tr th {\n",
       "        vertical-align: top;\n",
       "    }\n",
       "\n",
       "    .dataframe thead th {\n",
       "        text-align: right;\n",
       "    }\n",
       "</style>\n",
       "<table border=\"1\" class=\"dataframe\">\n",
       "  <thead>\n",
       "    <tr style=\"text-align: right;\">\n",
       "      <th></th>\n",
       "      <th>case_age_days</th>\n",
       "      <th>case_record_type</th>\n",
       "      <th>comm_plan_name</th>\n",
       "    </tr>\n",
       "  </thead>\n",
       "  <tbody>\n",
       "    <tr>\n",
       "      <th>0</th>\n",
       "      <td>18</td>\n",
       "      <td>1</td>\n",
       "      <td>Mid-City:Kensington-Talmadge</td>\n",
       "    </tr>\n",
       "    <tr>\n",
       "      <th>1</th>\n",
       "      <td>5</td>\n",
       "      <td>1</td>\n",
       "      <td>Torrey Pines</td>\n",
       "    </tr>\n",
       "    <tr>\n",
       "      <th>2</th>\n",
       "      <td>31</td>\n",
       "      <td>1</td>\n",
       "      <td>Pacific Beach</td>\n",
       "    </tr>\n",
       "    <tr>\n",
       "      <th>4</th>\n",
       "      <td>34</td>\n",
       "      <td>1</td>\n",
       "      <td>San Pasqual</td>\n",
       "    </tr>\n",
       "    <tr>\n",
       "      <th>5</th>\n",
       "      <td>6</td>\n",
       "      <td>1</td>\n",
       "      <td>Mira Mesa</td>\n",
       "    </tr>\n",
       "  </tbody>\n",
       "</table>\n",
       "</div>"
      ],
      "text/plain": [
       "   case_age_days case_record_type                comm_plan_name\n",
       "0             18                1  Mid-City:Kensington-Talmadge\n",
       "1              5                1                  Torrey Pines\n",
       "2             31                1                 Pacific Beach\n",
       "4             34                1                   San Pasqual\n",
       "5              6                1                     Mira Mesa"
      ]
     },
     "execution_count": 238,
     "metadata": {},
     "output_type": "execute_result"
    }
   ],
   "source": [
    "data[\"case_record_type\"]=data[\"case_record_type\"].str.replace('TSW','1')\n",
    "data.head()"
   ]
  },
  {
   "cell_type": "code",
   "execution_count": null,
   "id": "54b90925",
   "metadata": {},
   "outputs": [
    {
     "name": "stderr",
     "output_type": "stream",
     "text": [
      "/Users/georgegarcia/Library/Python/3.9/lib/python/site-packages/pandas/core/frame.py:3607: SettingWithCopyWarning: \n",
      "A value is trying to be set on a copy of a slice from a DataFrame.\n",
      "Try using .loc[row_indexer,col_indexer] = value instead\n",
      "\n",
      "See the caveats in the documentation: https://pandas.pydata.org/pandas-docs/stable/user_guide/indexing.html#returning-a-view-versus-a-copy\n",
      "  self._set_item(key, value)\n"
     ]
    }
   ],
   "source": [
    "data[\"case_record_type\"]=data[\"case_record_type\"].str.replace('ESD Complaint/Report','0')\n",
    "data[\"case_record_type\"]=data[\"case_record_type\"].str.replace('Traffic Engineering','0')\n",
    "data[\"case_record_type\"]=data[\"case_record_type\"].str.replace('Storm Water Code Enforcement','0')"
   ]
  },
  {
   "cell_type": "code",
   "execution_count": null,
   "id": "e9070b6d",
   "metadata": {},
   "outputs": [
    {
     "name": "stderr",
     "output_type": "stream",
     "text": [
      "/Users/georgegarcia/Library/Python/3.9/lib/python/site-packages/pandas/core/frame.py:3607: SettingWithCopyWarning: \n",
      "A value is trying to be set on a copy of a slice from a DataFrame.\n",
      "Try using .loc[row_indexer,col_indexer] = value instead\n",
      "\n",
      "See the caveats in the documentation: https://pandas.pydata.org/pandas-docs/stable/user_guide/indexing.html#returning-a-view-versus-a-copy\n",
      "  self._set_item(key, value)\n"
     ]
    }
   ],
   "source": [
    "data[\"case_record_type\"]=data[\"case_record_type\"].str.replace('TSW','1')"
   ]
  },
  {
   "cell_type": "code",
   "execution_count": null,
   "id": "a5d3eda3",
   "metadata": {},
   "outputs": [],
   "source": [
    "data[\"case_record_type\"]=data[\"case_record_type\"].str.replace('Specialty','0')"
   ]
  },
  {
   "cell_type": "code",
   "execution_count": null,
   "id": "f7d15613",
   "metadata": {},
   "outputs": [
    {
     "data": {
      "text/html": [
       "<div>\n",
       "<style scoped>\n",
       "    .dataframe tbody tr th:only-of-type {\n",
       "        vertical-align: middle;\n",
       "    }\n",
       "\n",
       "    .dataframe tbody tr th {\n",
       "        vertical-align: top;\n",
       "    }\n",
       "\n",
       "    .dataframe thead th {\n",
       "        text-align: right;\n",
       "    }\n",
       "</style>\n",
       "<table border=\"1\" class=\"dataframe\">\n",
       "  <thead>\n",
       "    <tr style=\"text-align: right;\">\n",
       "      <th></th>\n",
       "      <th>case_age_days</th>\n",
       "      <th>case_record_type</th>\n",
       "      <th>comm_plan_name</th>\n",
       "    </tr>\n",
       "  </thead>\n",
       "  <tbody>\n",
       "    <tr>\n",
       "      <th>0</th>\n",
       "      <td>18</td>\n",
       "      <td>1</td>\n",
       "      <td>Mid-City:Kensington-Talmadge</td>\n",
       "    </tr>\n",
       "    <tr>\n",
       "      <th>1</th>\n",
       "      <td>5</td>\n",
       "      <td>1</td>\n",
       "      <td>Torrey Pines</td>\n",
       "    </tr>\n",
       "    <tr>\n",
       "      <th>2</th>\n",
       "      <td>31</td>\n",
       "      <td>1</td>\n",
       "      <td>Pacific Beach</td>\n",
       "    </tr>\n",
       "    <tr>\n",
       "      <th>4</th>\n",
       "      <td>34</td>\n",
       "      <td>1</td>\n",
       "      <td>San Pasqual</td>\n",
       "    </tr>\n",
       "    <tr>\n",
       "      <th>5</th>\n",
       "      <td>6</td>\n",
       "      <td>1</td>\n",
       "      <td>Mira Mesa</td>\n",
       "    </tr>\n",
       "  </tbody>\n",
       "</table>\n",
       "</div>"
      ],
      "text/plain": [
       "   case_age_days case_record_type                comm_plan_name\n",
       "0             18                1  Mid-City:Kensington-Talmadge\n",
       "1              5                1                  Torrey Pines\n",
       "2             31                1                 Pacific Beach\n",
       "4             34                1                   San Pasqual\n",
       "5              6                1                     Mira Mesa"
      ]
     },
     "execution_count": 241,
     "metadata": {},
     "output_type": "execute_result"
    }
   ],
   "source": [
    "data.head()"
   ]
  },
  {
   "cell_type": "code",
   "execution_count": null,
   "id": "ba1f3823",
   "metadata": {},
   "outputs": [
    {
     "data": {
      "text/plain": [
       "1    67231\n",
       "0       14\n",
       "Name: case_record_type, dtype: int64"
      ]
     },
     "execution_count": 208,
     "metadata": {},
     "output_type": "execute_result"
    }
   ],
   "source": [
    "data['case_record_type'].value_counts()"
   ]
  },
  {
   "cell_type": "markdown",
   "id": "d01d3bfc",
   "metadata": {},
   "source": [
    "#Ignore the bottom "
   ]
  },
  {
   "cell_type": "code",
   "execution_count": null,
   "id": "2d70b407",
   "metadata": {},
   "outputs": [
    {
     "ename": "KeyError",
     "evalue": "'case_record_type'",
     "output_type": "error",
     "traceback": [
      "\u001b[0;31m---------------------------------------------------------------------------\u001b[0m",
      "\u001b[0;31mKeyError\u001b[0m                                  Traceback (most recent call last)",
      "File \u001b[0;32m~/Library/Python/3.9/lib/python/site-packages/pandas/core/indexes/base.py:3361\u001b[0m, in \u001b[0;36mIndex.get_loc\u001b[0;34m(self, key, method, tolerance)\u001b[0m\n\u001b[1;32m   <a href='file:///~/Library/Python/3.9/lib/python/site-packages/pandas/core/indexes/base.py?line=3359'>3360</a>\u001b[0m \u001b[39mtry\u001b[39;00m:\n\u001b[0;32m-> <a href='file:///~/Library/Python/3.9/lib/python/site-packages/pandas/core/indexes/base.py?line=3360'>3361</a>\u001b[0m     \u001b[39mreturn\u001b[39;00m \u001b[39mself\u001b[39;49m\u001b[39m.\u001b[39;49m_engine\u001b[39m.\u001b[39;49mget_loc(casted_key)\n\u001b[1;32m   <a href='file:///~/Library/Python/3.9/lib/python/site-packages/pandas/core/indexes/base.py?line=3361'>3362</a>\u001b[0m \u001b[39mexcept\u001b[39;00m \u001b[39mKeyError\u001b[39;00m \u001b[39mas\u001b[39;00m err:\n",
      "File \u001b[0;32m~/Library/Python/3.9/lib/python/site-packages/pandas/_libs/index.pyx:76\u001b[0m, in \u001b[0;36mpandas._libs.index.IndexEngine.get_loc\u001b[0;34m()\u001b[0m\n",
      "File \u001b[0;32mpandas/_libs/index_class_helper.pxi:105\u001b[0m, in \u001b[0;36mpandas._libs.index.Int64Engine._check_type\u001b[0;34m()\u001b[0m\n",
      "File \u001b[0;32mpandas/_libs/index_class_helper.pxi:105\u001b[0m, in \u001b[0;36mpandas._libs.index.Int64Engine._check_type\u001b[0;34m()\u001b[0m\n",
      "\u001b[0;31mKeyError\u001b[0m: 'case_record_type'",
      "\nThe above exception was the direct cause of the following exception:\n",
      "\u001b[0;31mKeyError\u001b[0m                                  Traceback (most recent call last)",
      "\u001b[1;32m/Users/georgegarcia/Desktop/504/Final Project 504 (1).ipynb Cell 44'\u001b[0m in \u001b[0;36m<cell line: 1>\u001b[0;34m()\u001b[0m\n\u001b[0;32m----> <a href='vscode-notebook-cell:/Users/georgegarcia/Desktop/504/Final%20Project%20504%20%281%29.ipynb#ch0000068?line=0'>1</a>\u001b[0m data[\u001b[39m\"\u001b[39m\u001b[39mcase_record_type\u001b[39m\u001b[39m\"\u001b[39m] \u001b[39m=\u001b[39m data[\u001b[39m\"\u001b[39;49m\u001b[39mcase_record_type\u001b[39;49m\u001b[39m\"\u001b[39;49m]\u001b[39m.\u001b[39mapply(\u001b[39mlambda\u001b[39;00m x: x\u001b[39m.\u001b[39mreplace(\u001b[39m\"\u001b[39m\u001b[39mTWS\u001b[39m\u001b[39m\"\u001b[39m, \u001b[39m\"\u001b[39m\u001b[39m1\u001b[39m\u001b[39m\"\u001b[39m))\n\u001b[1;32m      <a href='vscode-notebook-cell:/Users/georgegarcia/Desktop/504/Final%20Project%20504%20%281%29.ipynb#ch0000068?line=1'>2</a>\u001b[0m data[\u001b[39m\"\u001b[39m\u001b[39mcase_record_type\u001b[39m\u001b[39m\"\u001b[39m] \u001b[39m=\u001b[39m data[\u001b[39m\"\u001b[39m\u001b[39mcase_record_type\u001b[39m\u001b[39m\"\u001b[39m]\u001b[39m.\u001b[39mapply(\u001b[39mlambda\u001b[39;00m x: x\u001b[39m.\u001b[39mreplace(\u001b[39m\"\u001b[39m\u001b[39mESD Complaint/Report\u001b[39m\u001b[39m\"\u001b[39m, \u001b[39m\"\u001b[39m\u001b[39m0\u001b[39m\u001b[39m\"\u001b[39m))\n\u001b[1;32m      <a href='vscode-notebook-cell:/Users/georgegarcia/Desktop/504/Final%20Project%20504%20%281%29.ipynb#ch0000068?line=2'>3</a>\u001b[0m data[\u001b[39m\"\u001b[39m\u001b[39mcase_record_type\u001b[39m\u001b[39m\"\u001b[39m] \u001b[39m=\u001b[39m data[\u001b[39m\"\u001b[39m\u001b[39mcase_record_type\u001b[39m\u001b[39m\"\u001b[39m]\u001b[39m.\u001b[39mapply(\u001b[39mlambda\u001b[39;00m x: x\u001b[39m.\u001b[39mreplace(\u001b[39m\"\u001b[39m\u001b[39mTraffic Engineering\u001b[39m\u001b[39m\"\u001b[39m, \u001b[39m\"\u001b[39m\u001b[39m0\u001b[39m\u001b[39m\"\u001b[39m))\n",
      "File \u001b[0;32m~/Library/Python/3.9/lib/python/site-packages/pandas/core/series.py:942\u001b[0m, in \u001b[0;36mSeries.__getitem__\u001b[0;34m(self, key)\u001b[0m\n\u001b[1;32m    <a href='file:///~/Library/Python/3.9/lib/python/site-packages/pandas/core/series.py?line=938'>939</a>\u001b[0m     \u001b[39mreturn\u001b[39;00m \u001b[39mself\u001b[39m\u001b[39m.\u001b[39m_values[key]\n\u001b[1;32m    <a href='file:///~/Library/Python/3.9/lib/python/site-packages/pandas/core/series.py?line=940'>941</a>\u001b[0m \u001b[39melif\u001b[39;00m key_is_scalar:\n\u001b[0;32m--> <a href='file:///~/Library/Python/3.9/lib/python/site-packages/pandas/core/series.py?line=941'>942</a>\u001b[0m     \u001b[39mreturn\u001b[39;00m \u001b[39mself\u001b[39;49m\u001b[39m.\u001b[39;49m_get_value(key)\n\u001b[1;32m    <a href='file:///~/Library/Python/3.9/lib/python/site-packages/pandas/core/series.py?line=943'>944</a>\u001b[0m \u001b[39mif\u001b[39;00m is_hashable(key):\n\u001b[1;32m    <a href='file:///~/Library/Python/3.9/lib/python/site-packages/pandas/core/series.py?line=944'>945</a>\u001b[0m     \u001b[39m# Otherwise index.get_value will raise InvalidIndexError\u001b[39;00m\n\u001b[1;32m    <a href='file:///~/Library/Python/3.9/lib/python/site-packages/pandas/core/series.py?line=945'>946</a>\u001b[0m     \u001b[39mtry\u001b[39;00m:\n\u001b[1;32m    <a href='file:///~/Library/Python/3.9/lib/python/site-packages/pandas/core/series.py?line=946'>947</a>\u001b[0m         \u001b[39m# For labels that don't resolve as scalars like tuples and frozensets\u001b[39;00m\n",
      "File \u001b[0;32m~/Library/Python/3.9/lib/python/site-packages/pandas/core/series.py:1051\u001b[0m, in \u001b[0;36mSeries._get_value\u001b[0;34m(self, label, takeable)\u001b[0m\n\u001b[1;32m   <a href='file:///~/Library/Python/3.9/lib/python/site-packages/pandas/core/series.py?line=1047'>1048</a>\u001b[0m     \u001b[39mreturn\u001b[39;00m \u001b[39mself\u001b[39m\u001b[39m.\u001b[39m_values[label]\n\u001b[1;32m   <a href='file:///~/Library/Python/3.9/lib/python/site-packages/pandas/core/series.py?line=1049'>1050</a>\u001b[0m \u001b[39m# Similar to Index.get_value, but we do not fall back to positional\u001b[39;00m\n\u001b[0;32m-> <a href='file:///~/Library/Python/3.9/lib/python/site-packages/pandas/core/series.py?line=1050'>1051</a>\u001b[0m loc \u001b[39m=\u001b[39m \u001b[39mself\u001b[39;49m\u001b[39m.\u001b[39;49mindex\u001b[39m.\u001b[39;49mget_loc(label)\n\u001b[1;32m   <a href='file:///~/Library/Python/3.9/lib/python/site-packages/pandas/core/series.py?line=1051'>1052</a>\u001b[0m \u001b[39mreturn\u001b[39;00m \u001b[39mself\u001b[39m\u001b[39m.\u001b[39mindex\u001b[39m.\u001b[39m_get_values_for_loc(\u001b[39mself\u001b[39m, loc, label)\n",
      "File \u001b[0;32m~/Library/Python/3.9/lib/python/site-packages/pandas/core/indexes/base.py:3363\u001b[0m, in \u001b[0;36mIndex.get_loc\u001b[0;34m(self, key, method, tolerance)\u001b[0m\n\u001b[1;32m   <a href='file:///~/Library/Python/3.9/lib/python/site-packages/pandas/core/indexes/base.py?line=3360'>3361</a>\u001b[0m         \u001b[39mreturn\u001b[39;00m \u001b[39mself\u001b[39m\u001b[39m.\u001b[39m_engine\u001b[39m.\u001b[39mget_loc(casted_key)\n\u001b[1;32m   <a href='file:///~/Library/Python/3.9/lib/python/site-packages/pandas/core/indexes/base.py?line=3361'>3362</a>\u001b[0m     \u001b[39mexcept\u001b[39;00m \u001b[39mKeyError\u001b[39;00m \u001b[39mas\u001b[39;00m err:\n\u001b[0;32m-> <a href='file:///~/Library/Python/3.9/lib/python/site-packages/pandas/core/indexes/base.py?line=3362'>3363</a>\u001b[0m         \u001b[39mraise\u001b[39;00m \u001b[39mKeyError\u001b[39;00m(key) \u001b[39mfrom\u001b[39;00m \u001b[39merr\u001b[39;00m\n\u001b[1;32m   <a href='file:///~/Library/Python/3.9/lib/python/site-packages/pandas/core/indexes/base.py?line=3364'>3365</a>\u001b[0m \u001b[39mif\u001b[39;00m is_scalar(key) \u001b[39mand\u001b[39;00m isna(key) \u001b[39mand\u001b[39;00m \u001b[39mnot\u001b[39;00m \u001b[39mself\u001b[39m\u001b[39m.\u001b[39mhasnans:\n\u001b[1;32m   <a href='file:///~/Library/Python/3.9/lib/python/site-packages/pandas/core/indexes/base.py?line=3365'>3366</a>\u001b[0m     \u001b[39mraise\u001b[39;00m \u001b[39mKeyError\u001b[39;00m(key)\n",
      "\u001b[0;31mKeyError\u001b[0m: 'case_record_type'"
     ]
    }
   ],
   "source": [
    "data[\"case_record_type\"] = data[\"case_record_type\"].apply(lambda x: x.replace(\"TWS\", \"1\"))\n",
    "data[\"case_record_type\"] = data[\"case_record_type\"].apply(lambda x: x.replace(\"\", \"0\"))\n",
    "data[\"case_record_type\"] = data[\"case_record_type\"].apply(lambda x: x.replace(\"Traffic Engineering\", \"0\"))\n",
    "data[\"case_record_type\"] = data[\"case_record_type\"].apply(lambda x: x.replace(\"Storm Water Code Enforcement\", \"0\"))\n"
   ]
  },
  {
   "cell_type": "markdown",
   "id": "ae370a17",
   "metadata": {},
   "source": [
    "#run this part "
   ]
  },
  {
   "cell_type": "code",
   "execution_count": null,
   "id": "9895ea70",
   "metadata": {},
   "outputs": [],
   "source": [
    "data[\"case_record_type\"].replace([\"TWS\", \"ESD Complaint/Report\",\"Traffic Engineering\",'Storm Water Code Enforcement'],\n",
    "                        [0, 1], inplace=True)"
   ]
  },
  {
   "cell_type": "code",
   "execution_count": null,
   "id": "3fc8ddac",
   "metadata": {},
   "outputs": [
    {
     "name": "stderr",
     "output_type": "stream",
     "text": [
      "/Users/georgegarcia/Library/Python/3.9/lib/python/site-packages/pandas/core/frame.py:3607: SettingWithCopyWarning: \n",
      "A value is trying to be set on a copy of a slice from a DataFrame.\n",
      "Try using .loc[row_indexer,col_indexer] = value instead\n",
      "\n",
      "See the caveats in the documentation: https://pandas.pydata.org/pandas-docs/stable/user_guide/indexing.html#returning-a-view-versus-a-copy\n",
      "  self._set_item(key, value)\n"
     ]
    },
    {
     "data": {
      "text/html": [
       "<div>\n",
       "<style scoped>\n",
       "    .dataframe tbody tr th:only-of-type {\n",
       "        vertical-align: middle;\n",
       "    }\n",
       "\n",
       "    .dataframe tbody tr th {\n",
       "        vertical-align: top;\n",
       "    }\n",
       "\n",
       "    .dataframe thead th {\n",
       "        text-align: right;\n",
       "    }\n",
       "</style>\n",
       "<table border=\"1\" class=\"dataframe\">\n",
       "  <thead>\n",
       "    <tr style=\"text-align: right;\">\n",
       "      <th></th>\n",
       "      <th>case_age_days</th>\n",
       "      <th>case_record_type</th>\n",
       "      <th>comm_plan_name</th>\n",
       "    </tr>\n",
       "  </thead>\n",
       "  <tbody>\n",
       "    <tr>\n",
       "      <th>0</th>\n",
       "      <td>18</td>\n",
       "      <td>1</td>\n",
       "      <td>19</td>\n",
       "    </tr>\n",
       "    <tr>\n",
       "      <th>1</th>\n",
       "      <td>5</td>\n",
       "      <td>1</td>\n",
       "      <td>53</td>\n",
       "    </tr>\n",
       "    <tr>\n",
       "      <th>2</th>\n",
       "      <td>31</td>\n",
       "      <td>1</td>\n",
       "      <td>35</td>\n",
       "    </tr>\n",
       "    <tr>\n",
       "      <th>4</th>\n",
       "      <td>34</td>\n",
       "      <td>1</td>\n",
       "      <td>43</td>\n",
       "    </tr>\n",
       "    <tr>\n",
       "      <th>5</th>\n",
       "      <td>6</td>\n",
       "      <td>1</td>\n",
       "      <td>23</td>\n",
       "    </tr>\n",
       "    <tr>\n",
       "      <th>...</th>\n",
       "      <td>...</td>\n",
       "      <td>...</td>\n",
       "      <td>...</td>\n",
       "    </tr>\n",
       "    <tr>\n",
       "      <th>75235</th>\n",
       "      <td>1</td>\n",
       "      <td>1</td>\n",
       "      <td>14</td>\n",
       "    </tr>\n",
       "    <tr>\n",
       "      <th>75236</th>\n",
       "      <td>1</td>\n",
       "      <td>1</td>\n",
       "      <td>5</td>\n",
       "    </tr>\n",
       "    <tr>\n",
       "      <th>75237</th>\n",
       "      <td>1</td>\n",
       "      <td>1</td>\n",
       "      <td>18</td>\n",
       "    </tr>\n",
       "    <tr>\n",
       "      <th>75238</th>\n",
       "      <td>1</td>\n",
       "      <td>1</td>\n",
       "      <td>55</td>\n",
       "    </tr>\n",
       "    <tr>\n",
       "      <th>75239</th>\n",
       "      <td>1</td>\n",
       "      <td>1</td>\n",
       "      <td>8</td>\n",
       "    </tr>\n",
       "  </tbody>\n",
       "</table>\n",
       "<p>67245 rows × 3 columns</p>\n",
       "</div>"
      ],
      "text/plain": [
       "       case_age_days case_record_type  comm_plan_name\n",
       "0                 18                1              19\n",
       "1                  5                1              53\n",
       "2                 31                1              35\n",
       "4                 34                1              43\n",
       "5                  6                1              23\n",
       "...              ...              ...             ...\n",
       "75235              1                1              14\n",
       "75236              1                1               5\n",
       "75237              1                1              18\n",
       "75238              1                1              55\n",
       "75239              1                1               8\n",
       "\n",
       "[67245 rows x 3 columns]"
      ]
     },
     "execution_count": 242,
     "metadata": {},
     "output_type": "execute_result"
    }
   ],
   "source": [
    "labelencoder = LabelEncoder()\n",
    "# Assigning numerical values and storing in another column\n",
    "data[\"comm_plan_name\"] = labelencoder.fit_transform(data[\"comm_plan_name\"])\n",
    "data"
   ]
  },
  {
   "cell_type": "code",
   "execution_count": null,
   "id": "108fd2b4",
   "metadata": {},
   "outputs": [
    {
     "name": "stderr",
     "output_type": "stream",
     "text": [
      "/Users/georgegarcia/Library/Python/3.9/lib/python/site-packages/pandas/core/frame.py:3607: SettingWithCopyWarning: \n",
      "A value is trying to be set on a copy of a slice from a DataFrame.\n",
      "Try using .loc[row_indexer,col_indexer] = value instead\n",
      "\n",
      "See the caveats in the documentation: https://pandas.pydata.org/pandas-docs/stable/user_guide/indexing.html#returning-a-view-versus-a-copy\n",
      "  self._set_item(key, value)\n"
     ]
    }
   ],
   "source": [
    "data[\"case_record_type\"]=data['case_record_type'].astype(float)"
   ]
  },
  {
   "cell_type": "code",
   "execution_count": null,
   "id": "05e59340",
   "metadata": {},
   "outputs": [
    {
     "name": "stderr",
     "output_type": "stream",
     "text": [
      "/Users/georgegarcia/Library/Python/3.9/lib/python/site-packages/sklearn/utils/validation.py:63: DataConversionWarning: A column-vector y was passed when a 1d array was expected. Please change the shape of y to (n_samples, ), for example using ravel().\n",
      "  return f(*args, **kwargs)\n",
      "/Users/georgegarcia/Library/Python/3.9/lib/python/site-packages/sklearn/utils/validation.py:63: DataConversionWarning: A column-vector y was passed when a 1d array was expected. Please change the shape of y to (n_samples, ), for example using ravel().\n",
      "  return f(*args, **kwargs)\n"
     ]
    },
    {
     "data": {
      "text/plain": [
       "Pipeline(steps=[('onehotencoder', OneHotEncoder()),\n",
       "                ('perceptron', Perceptron())])"
      ]
     },
     "execution_count": 244,
     "metadata": {},
     "output_type": "execute_result"
    }
   ],
   "source": [
    "X_train, X_test, y_train, y_test =train_test_split(data, y, test_size=0.2,random_state=42)\n",
    "\n",
    "balanced_model = make_pipeline(OneHotEncoder(),Perceptron(class_weight='balanced'))\n",
    "unbalanced_model = make_pipeline(OneHotEncoder(), Perceptron())\n",
    "\n",
    "# fit the models here:\n",
    "balanced_model.fit(X_train, y_train)\n",
    "unbalanced_model.fit(X_train, y_train)"
   ]
  },
  {
   "cell_type": "code",
   "execution_count": null,
   "id": "a42ba513",
   "metadata": {},
   "outputs": [],
   "source": [
    "#making the model\n",
    "logisticRegr = LogisticRegression()\n"
   ]
  },
  {
   "cell_type": "code",
   "execution_count": null,
   "id": "5e956d24",
   "metadata": {},
   "outputs": [
    {
     "name": "stderr",
     "output_type": "stream",
     "text": [
      "/Users/georgegarcia/Library/Python/3.9/lib/python/site-packages/sklearn/utils/validation.py:63: DataConversionWarning: A column-vector y was passed when a 1d array was expected. Please change the shape of y to (n_samples, ), for example using ravel().\n",
      "  return f(*args, **kwargs)\n"
     ]
    },
    {
     "data": {
      "text/plain": [
       "LogisticRegression()"
      ]
     },
     "execution_count": 246,
     "metadata": {},
     "output_type": "execute_result"
    }
   ],
   "source": [
    "#applying the model \n",
    "logisticRegr.fit(X_train, y_train)"
   ]
  },
  {
   "cell_type": "code",
   "execution_count": null,
   "id": "45357585",
   "metadata": {},
   "outputs": [
    {
     "name": "stdout",
     "output_type": "stream",
     "text": [
      "0.9744218901033534\n"
     ]
    }
   ],
   "source": [
    "predictions = logisticRegr.predict(X_test)\n",
    "# Use score method to get accuracy of model\n",
    "score = logisticRegr.score(X_test, y_test)\n",
    "print(score)"
   ]
  },
  {
   "cell_type": "code",
   "execution_count": null,
   "id": "69c31193",
   "metadata": {},
   "outputs": [
    {
     "name": "stderr",
     "output_type": "stream",
     "text": [
      "/Users/georgegarcia/Library/Python/3.9/lib/python/site-packages/sklearn/utils/validation.py:63: DataConversionWarning: A column-vector y was passed when a 1d array was expected. Please change the shape of y to (n_samples, ), for example using ravel().\n",
      "  return f(*args, **kwargs)\n",
      "/Users/georgegarcia/Library/Python/3.9/lib/python/site-packages/sklearn/utils/validation.py:63: DataConversionWarning: A column-vector y was passed when a 1d array was expected. Please change the shape of y to (n_samples, ), for example using ravel().\n",
      "  return f(*args, **kwargs)\n",
      "/Users/georgegarcia/Library/Python/3.9/lib/python/site-packages/sklearn/utils/validation.py:63: DataConversionWarning: A column-vector y was passed when a 1d array was expected. Please change the shape of y to (n_samples, ), for example using ravel().\n",
      "  return f(*args, **kwargs)\n",
      "/Users/georgegarcia/Library/Python/3.9/lib/python/site-packages/sklearn/utils/validation.py:63: DataConversionWarning: A column-vector y was passed when a 1d array was expected. Please change the shape of y to (n_samples, ), for example using ravel().\n",
      "  return f(*args, **kwargs)\n",
      "/Users/georgegarcia/Library/Python/3.9/lib/python/site-packages/sklearn/utils/validation.py:63: DataConversionWarning: A column-vector y was passed when a 1d array was expected. Please change the shape of y to (n_samples, ), for example using ravel().\n",
      "  return f(*args, **kwargs)\n",
      "/Users/georgegarcia/Library/Python/3.9/lib/python/site-packages/sklearn/utils/validation.py:63: DataConversionWarning: A column-vector y was passed when a 1d array was expected. Please change the shape of y to (n_samples, ), for example using ravel().\n",
      "  return f(*args, **kwargs)\n",
      "/Users/georgegarcia/Library/Python/3.9/lib/python/site-packages/sklearn/utils/validation.py:63: DataConversionWarning: A column-vector y was passed when a 1d array was expected. Please change the shape of y to (n_samples, ), for example using ravel().\n",
      "  return f(*args, **kwargs)\n",
      "/Users/georgegarcia/Library/Python/3.9/lib/python/site-packages/sklearn/utils/validation.py:63: DataConversionWarning: A column-vector y was passed when a 1d array was expected. Please change the shape of y to (n_samples, ), for example using ravel().\n",
      "  return f(*args, **kwargs)\n",
      "/Users/georgegarcia/Library/Python/3.9/lib/python/site-packages/sklearn/utils/validation.py:63: DataConversionWarning: A column-vector y was passed when a 1d array was expected. Please change the shape of y to (n_samples, ), for example using ravel().\n",
      "  return f(*args, **kwargs)\n"
     ]
    },
    {
     "name": "stdout",
     "output_type": "stream",
     "text": [
      "Cross-Validation Accuracy Scores [0.97472119 0.97472119 0.97472119 0.97472119 0.97472119 0.97472119\n",
      " 0.9749024  0.9749024  0.9749024  0.9749024 ]\n"
     ]
    },
    {
     "name": "stderr",
     "output_type": "stream",
     "text": [
      "/Users/georgegarcia/Library/Python/3.9/lib/python/site-packages/sklearn/utils/validation.py:63: DataConversionWarning: A column-vector y was passed when a 1d array was expected. Please change the shape of y to (n_samples, ), for example using ravel().\n",
      "  return f(*args, **kwargs)\n"
     ]
    }
   ],
   "source": [
    "from sklearn.model_selection import cross_val_score\n",
    "\n",
    "scores = cross_val_score(logisticRegr, X_train, y_train,cv=10)\n",
    "print('Cross-Validation Accuracy Scores', scores)"
   ]
  }
 ],
 "metadata": {
  "kernelspec": {
   "display_name": "Python 3",
   "language": "python",
   "name": "python3"
  },
  "language_info": {
   "codemirror_mode": {
    "name": "ipython",
    "version": 3
   },
   "file_extension": ".py",
   "mimetype": "text/x-python",
   "name": "python",
   "nbconvert_exporter": "python",
   "pygments_lexer": "ipython3",
   "version": "3.9.6"
  }
 },
 "nbformat": 4,
 "nbformat_minor": 5
}
